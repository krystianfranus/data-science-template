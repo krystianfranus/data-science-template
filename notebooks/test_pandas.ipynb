{
 "cells": [
  {
   "cell_type": "code",
   "execution_count": null,
   "id": "3660c6c5",
   "metadata": {
    "ExecuteTime": {
     "end_time": "2023-03-20T16:03:35.357069Z",
     "start_time": "2023-03-20T16:03:35.022411Z"
    }
   },
   "outputs": [],
   "source": [
    "from pathlib import Path\n",
    "import datetime as dt\n",
    "import numpy as np\n",
    "import pandas as pd"
   ]
  },
  {
   "cell_type": "code",
   "execution_count": null,
   "id": "192c64ba",
   "metadata": {
    "ExecuteTime": {
     "end_time": "2023-03-20T16:03:36.364113Z",
     "start_time": "2023-03-20T16:03:35.678716Z"
    }
   },
   "outputs": [],
   "source": [
    "interactions_path = Path(\"../data/contentwise/data/contentwise/CW10M/interactions\")\n",
    "interactions = pd.concat(pd.read_parquet(p) for p in interactions_path.glob(\"*.parquet\")).reset_index()\n",
    "\n",
    "impressions_dl_path = Path(\"../data/contentwise/data/contentwise/CW10M/impressions-direct-link\")\n",
    "impressions_dl = pd.concat(pd.read_parquet(p) for p in impressions_dl_path.glob(\"*.parquet\")).reset_index()"
   ]
  },
  {
   "cell_type": "code",
   "execution_count": null,
   "id": "1d32de3c",
   "metadata": {
    "ExecuteTime": {
     "end_time": "2023-03-20T16:03:39.319578Z",
     "start_time": "2023-03-20T16:03:36.559659Z"
    }
   },
   "outputs": [],
   "source": [
    "# Select 'clicks' only from all interactions\n",
    "interactions = interactions[interactions[\"interaction_type\"] == 0].reset_index(drop=True)\n",
    "\n",
    "impressions_dl = impressions_dl.explode(\"recommended_series_list\")\n",
    "impressions_dl[\"recommended_series_list\"] = pd.to_numeric(impressions_dl[\"recommended_series_list\"])\n",
    "\n",
    "# Join indirectly positive actions with negative (impressions)\n",
    "interactions = interactions.merge(impressions_dl, \"inner\", \"recommendation_id\")\n",
    "\n",
    "# Mark positive interactions with 1 and negative with 0\n",
    "interactions.loc[\n",
    "    interactions[\"series_id\"] == interactions[\"recommended_series_list\"], \"target\"\n",
    "] = 1\n",
    "interactions.loc[\n",
    "    interactions[\"series_id\"] != interactions[\"recommended_series_list\"], \"target\"\n",
    "] = 0\n",
    "\n",
    "interactions = interactions[\n",
    "    [\"user_id\", \"recommended_series_list\", \"target\", \"utc_ts_milliseconds\"]\n",
    "]\n",
    "interactions.columns = [\"user\", \"item\", \"target\", \"timestamp\"]\n",
    "interactions[\"target\"] = interactions[\"target\"].astype(\"int32\")\n",
    "interactions[\"timestamp\"] = pd.to_datetime(interactions[\"timestamp\"], unit=\"ms\")\n",
    "\n",
    "# Handle (user, item) duplicates\n",
    "interactions = (\n",
    "    interactions.groupby([\"user\", \"item\"])\n",
    "    .agg({\"target\": \"sum\", \"timestamp\": \"max\"})\n",
    "    .reset_index()\n",
    ")\n",
    "interactions.loc[interactions[\"target\"] > 0, \"target\"] = 1\n",
    "\n",
    "interactions = interactions.sort_values(\"timestamp\").reset_index(drop=True)\n",
    "\n",
    "# Split data\n",
    "train_data = interactions[interactions[\"timestamp\"] < dt.datetime(2019, 4, 14)].reset_index(drop=True)\n",
    "val_data = interactions[interactions[\"timestamp\"] >= dt.datetime(2019, 4, 14)].reset_index(drop=True)\n",
    "\n",
    "# Prepare user/item to idx mappers based on train data\n",
    "unique_users = np.sort(train_data[\"user\"].unique())\n",
    "unique_items = np.sort(train_data[\"item\"].unique())\n",
    "train_user_to_idx = pd.DataFrame({\"user\": unique_users, \"user_idx\": np.arange(unique_users.size)})\n",
    "train_item_to_idx = pd.DataFrame({\"item\": unique_items, \"item_idx\": np.arange(unique_items.size)})\n",
    "\n",
    "# Map user/item to idx\n",
    "train_data = train_data.merge(train_user_to_idx, on=\"user\", how=\"inner\")\n",
    "train_data = train_data.merge(train_item_to_idx, on=\"item\", how=\"inner\")\n",
    "val_data = val_data.merge(train_user_to_idx, on=\"user\", how=\"inner\")\n",
    "val_data = val_data.merge(train_item_to_idx, on=\"item\", how=\"inner\")\n",
    "\n",
    "train_data = train_data.sort_values(\"timestamp\").reset_index(drop=True)\n",
    "val_data = val_data.sort_values(\"timestamp\").reset_index(drop=True)\n",
    "\n",
    "# Select valid columns\n",
    "train_data = train_data[[\"user_idx\", \"item_idx\", \"target\", \"timestamp\"]]\n",
    "train_data.columns = [\"user\", \"item\", \"target\", \"timestamp\"]\n",
    "val_data = val_data[[\"user_idx\", \"item_idx\", \"target\", \"timestamp\"]]\n",
    "val_data.columns = [\"user\", \"item\", \"target\", \"timestamp\"]\n",
    "\n",
    "test_data = val_data.copy()  # test set == validation set (to change in the future!)"
   ]
  },
  {
   "cell_type": "code",
   "execution_count": null,
   "id": "dc6ead47",
   "metadata": {
    "ExecuteTime": {
     "end_time": "2023-03-20T16:03:40.505444Z",
     "start_time": "2023-03-20T16:03:40.483954Z"
    }
   },
   "outputs": [],
   "source": [
    "train_data.shape, val_data.shape, test_data.shape"
   ]
  },
  {
   "cell_type": "code",
   "execution_count": null,
   "id": "8b904127",
   "metadata": {
    "ExecuteTime": {
     "end_time": "2023-03-20T16:03:41.475326Z",
     "start_time": "2023-03-20T16:03:41.462111Z"
    }
   },
   "outputs": [],
   "source": [
    "train_user_to_idx.shape, train_item_to_idx.shape"
   ]
  },
  {
   "cell_type": "code",
   "execution_count": null,
   "id": "526aab34",
   "metadata": {
    "ExecuteTime": {
     "end_time": "2023-03-20T16:03:42.192668Z",
     "start_time": "2023-03-20T16:03:42.165581Z"
    }
   },
   "outputs": [],
   "source": [
    "train_data.head(), val_data.head(), test_data.head()"
   ]
  },
  {
   "cell_type": "code",
   "execution_count": null,
   "id": "30bb7e96",
   "metadata": {},
   "outputs": [],
   "source": []
  },
  {
   "cell_type": "markdown",
   "id": "29ce018d",
   "metadata": {},
   "source": [
    "# Old - parsing csv files"
   ]
  },
  {
   "cell_type": "code",
   "execution_count": null,
   "id": "1855176f",
   "metadata": {
    "ExecuteTime": {
     "end_time": "2023-03-20T13:16:40.113359Z",
     "start_time": "2023-03-20T13:16:40.105295Z"
    }
   },
   "outputs": [],
   "source": [
    "data_path = \"../data/contentwise/data/contentwise/CW10M-CSV/interactions.csv.gz\"\n",
    "data_path2 = \"../data/contentwise/data/contentwise/CW10M-CSV/impressions-direct-link.csv.gz\""
   ]
  },
  {
   "cell_type": "code",
   "execution_count": null,
   "id": "e67e91bc",
   "metadata": {
    "ExecuteTime": {
     "end_time": "2023-03-20T13:16:47.409394Z",
     "start_time": "2023-03-20T13:16:40.615694Z"
    }
   },
   "outputs": [],
   "source": [
    "data = pd.read_csv(data_path)\n",
    "data.head()"
   ]
  },
  {
   "cell_type": "code",
   "execution_count": null,
   "id": "3f6aafd0",
   "metadata": {
    "ExecuteTime": {
     "end_time": "2023-03-20T13:16:47.686534Z",
     "start_time": "2023-03-20T13:16:47.410972Z"
    }
   },
   "outputs": [],
   "source": [
    "data2 = pd.read_csv(data_path2)\n",
    "data2.head()"
   ]
  },
  {
   "cell_type": "code",
   "execution_count": null,
   "id": "71186d5e",
   "metadata": {},
   "outputs": [],
   "source": []
  },
  {
   "cell_type": "code",
   "execution_count": null,
   "id": "906f27ee",
   "metadata": {
    "ExecuteTime": {
     "end_time": "2023-03-20T12:57:55.131952Z",
     "start_time": "2023-03-20T12:57:50.900918Z"
    }
   },
   "outputs": [],
   "source": [
    "data = data[data[\"interaction_type\"] == 0].reset_index(drop=True)\n",
    "columns = [\n",
    "    \"utc_ts_milliseconds\",\n",
    "    \"user_id\",\n",
    "    \"series_id\",\n",
    "    \"recommendation_id\",\n",
    "]\n",
    "data = data[columns]\n",
    "\n",
    "data2[\"recommended_series_list\"] = (\n",
    "    data2[\"recommended_series_list\"]\n",
    "    .str.replace(r\"(\\[|\\])\", \"\", regex=True)\n",
    "    .str.split()\n",
    ")\n",
    "data2 = data2.explode(\"recommended_series_list\").reset_index(\n",
    "    drop=True\n",
    ")\n",
    "\n",
    "merged = data.merge(data2, \"inner\", \"recommendation_id\")\n",
    "merged[\"recommended_series_list\"] = pd.to_numeric(\n",
    "    merged[\"recommended_series_list\"]\n",
    ")\n",
    "merged.loc[\n",
    "    merged[\"series_id\"] == merged[\"recommended_series_list\"], \"target\"\n",
    "] = 1\n",
    "merged.loc[\n",
    "    merged[\"series_id\"] != merged[\"recommended_series_list\"], \"target\"\n",
    "] = 0\n",
    "merged = merged[\n",
    "    [\"user_id\", \"recommended_series_list\", \"target\", \"utc_ts_milliseconds\"]\n",
    "]\n",
    "merged[\"target\"] = merged[\"target\"].astype(int)\n",
    "merged.columns = [\"user\", \"item\", \"target\", \"utc_ts_milliseconds\"]\n",
    "\n",
    "merged = (\n",
    "    merged.groupby([\"user\", \"item\"])\n",
    "    .agg({\"target\": \"sum\", \"utc_ts_milliseconds\": \"max\"})\n",
    "    .reset_index()\n",
    ")\n",
    "merged.loc[merged[\"target\"] > 0, \"target\"] = 1\n",
    "\n",
    "merged = merged.sort_values(\"utc_ts_milliseconds\").reset_index(drop=True)\n",
    "merged = merged.drop(columns=[\"utc_ts_milliseconds\"])"
   ]
  },
  {
   "cell_type": "code",
   "execution_count": null,
   "id": "74a499b6",
   "metadata": {
    "ExecuteTime": {
     "end_time": "2023-03-20T12:58:48.757110Z",
     "start_time": "2023-03-20T12:58:48.743345Z"
    }
   },
   "outputs": [],
   "source": [
    "merged.dtypes"
   ]
  },
  {
   "cell_type": "code",
   "execution_count": null,
   "id": "bc12750d",
   "metadata": {
    "ExecuteTime": {
     "end_time": "2023-03-20T12:58:04.692446Z",
     "start_time": "2023-03-20T12:58:04.664496Z"
    }
   },
   "outputs": [],
   "source": [
    "merged"
   ]
  },
  {
   "cell_type": "code",
   "execution_count": null,
   "id": "c6bf2947",
   "metadata": {
    "ExecuteTime": {
     "end_time": "2022-12-18T12:36:33.756346Z",
     "start_time": "2022-12-18T12:36:33.453654Z"
    }
   },
   "outputs": [],
   "source": [
    "# Split data into train/val/test\n",
    "train_data = merged[:1_000_000].reset_index(drop=True)\n",
    "val_data = merged[1_000_000:1_100_000].reset_index(drop=True)\n",
    "test_data = merged[1_100_000:].reset_index(drop=True)\n",
    "\n",
    "# Prepare unique train user and items\n",
    "train_users = train_data[\"user\"].unique()\n",
    "train_items = train_data[\"item\"].unique()\n",
    "\n",
    "# Filter val/test data\n",
    "val_data = val_data[val_data[\"user\"].isin(train_users)]\n",
    "val_data = val_data[val_data[\"item\"].isin(train_items)]\n",
    "val_data = val_data.reset_index(drop=True)\n",
    "test_data = test_data[test_data[\"user\"].isin(train_users)]\n",
    "test_data = test_data[test_data[\"item\"].isin(train_items)]\n",
    "test_data = test_data.reset_index(drop=True)\n",
    "\n",
    "# Map idx\n",
    "user_to_idx = {user: idx for idx, user in enumerate(train_users)}\n",
    "item_to_idx = {item: idx for idx, item in enumerate(train_items)}\n",
    "train_data[\"user\"] = train_data[\"user\"].map(user_to_idx)\n",
    "train_data[\"item\"] = train_data[\"item\"].map(item_to_idx)\n",
    "val_data[\"user\"] = val_data[\"user\"].map(user_to_idx)\n",
    "val_data[\"item\"] = val_data[\"item\"].map(item_to_idx)\n",
    "test_data[\"user\"] = test_data[\"user\"].map(user_to_idx)\n",
    "test_data[\"item\"] = test_data[\"item\"].map(item_to_idx)"
   ]
  },
  {
   "cell_type": "code",
   "execution_count": null,
   "id": "52da7d07",
   "metadata": {
    "ExecuteTime": {
     "end_time": "2022-12-18T12:36:43.086029Z",
     "start_time": "2022-12-18T12:36:43.075015Z"
    }
   },
   "outputs": [],
   "source": [
    "train_data.shape"
   ]
  }
 ],
 "metadata": {
  "kernelspec": {
   "display_name": "Python 3 (ipykernel)",
   "language": "python",
   "name": "python3"
  },
  "language_info": {
   "codemirror_mode": {
    "name": "ipython",
    "version": 3
   },
   "file_extension": ".py",
   "mimetype": "text/x-python",
   "name": "python",
   "nbconvert_exporter": "python",
   "pygments_lexer": "ipython3",
   "version": "3.10.4"
  },
  "toc": {
   "base_numbering": 1,
   "nav_menu": {},
   "number_sections": true,
   "sideBar": true,
   "skip_h1_title": false,
   "title_cell": "Table of Contents",
   "title_sidebar": "Contents",
   "toc_cell": false,
   "toc_position": {},
   "toc_section_display": true,
   "toc_window_display": false
  }
 },
 "nbformat": 4,
 "nbformat_minor": 5
}
