{
 "cells": [
  {
   "cell_type": "code",
   "execution_count": null,
   "id": "7331b40b",
   "metadata": {
    "ExecuteTime": {
     "end_time": "2022-10-28T21:55:40.477615Z",
     "start_time": "2022-10-28T21:55:40.222933Z"
    }
   },
   "outputs": [],
   "source": [
    "import pandas as pd"
   ]
  },
  {
   "cell_type": "markdown",
   "id": "321fbed6",
   "metadata": {},
   "source": [
    "# My remarks\n",
    "\n",
    "- Implicit feedback\n",
    "- 26557961 **non-unique** logs (~1.1GB), 1141729 users, 846811 movies\n",
    "- Non-click / Click\n",
    "- Time-series\n",
    "- User profile (meta data)\n",
    "- Ad feature (item meta data)"
   ]
  },
  {
   "cell_type": "markdown",
   "id": "e6d29a5f",
   "metadata": {},
   "source": [
    "# Taobao Dataset\n",
    "\n",
    "Source: https://www.kaggle.com/datasets/pavansanagapati/ad-displayclick-data-on-taobaocom\n",
    "\n",
    "This dataset is provided by Alimama\n",
    "\n",
    "**raw_sample**\n",
    "\n",
    "We randomly sampled 1140000 users from the website of Taobao for 8 days of ad display / click logs (26 million records) to form the original sample skeleton. Field description is as follows:\n",
    "(1) user: User ID(int);\n",
    "(2) timestamp: time stamp(Bigint, 1494032110 stands for 2017-05-06 08:55:10); (3) adgroupid: adgroup ID(int);\n",
    "(4) pid: scenario;\n",
    "(5) noclk: 1 for not click, 0 for click;\n",
    "We used 7 days’s samples as training samples (20170506-20170512), and the last day’s samples as test samples (20170513).\n",
    "\n",
    "**ad_feature**\n",
    "\n",
    "This data set covers the basic information of all ads in rawsample. Field description is as follows: (1) adgroupid：Ad ID(int) ;\n",
    "(2) cateid：category ID; (3) campaignid：campaign ID;\n",
    "(4) brand：brand ID;\n",
    "(5) customer_id: Advertiser ID;\n",
    "One of the ad ID corresponds to an item, an item belongs to a category, an item belongs to a brand.\n",
    "\n",
    "**user_profile**\n",
    "\n",
    "This data set covers the basic information of 1060000 users in rawsample.. Field description is as follows: (1) userid: user ID; (2) cmssegid: Micro group ID;\n",
    "(3) cmsgroupid: cmsgroupid;\n",
    "(4) finalgendercode: gender 1 for male , 2 for female\n",
    "(5) agelevel: agelevel\n",
    "(6) pvaluelevel: Consumption grade, 1: low, 2: mid, 3: high (7) shoppinglevel: Shopping depth, 1: shallow user, 2: moderate user, 3: depth user\n",
    "(8) occupation: Is the college student 1: yes, 0: no?\n",
    "(9) newuserclasslevel: City level This data set covers the shopping behavior in 22 days of all users in rawsample(totally seven hundred million records). Field description is as follows:\n",
    "(1) nick: User ID(int);\n",
    "(2) time_stamp: time stamp(Bigint, 1494032110 stands for 2017-05-06 08:55:10)；\n",
    "(3) cate: category ID(int);\n",
    "Here if we use userID and timestamp as primary key, we will find a lot of duplicate records. This is because the behavior of different types of the data are collected from different departments and when packaged together, there are small deviations (i.e. the same two timestamps may be two different time with a relatively small difference)."
   ]
  },
  {
   "cell_type": "code",
   "execution_count": null,
   "id": "5208ec34",
   "metadata": {
    "ExecuteTime": {
     "end_time": "2022-10-28T21:55:51.298638Z",
     "start_time": "2022-10-28T21:55:40.479148Z"
    }
   },
   "outputs": [],
   "source": [
    "taobao_data = pd.read_csv(\"../../data/taobao/raw_sample.csv\")\n",
    "taobao_data"
   ]
  },
  {
   "cell_type": "markdown",
   "id": "9ae6bd1d",
   "metadata": {},
   "source": [
    "# User profile"
   ]
  },
  {
   "cell_type": "code",
   "execution_count": null,
   "id": "5ac2ba2b",
   "metadata": {
    "ExecuteTime": {
     "end_time": "2022-10-28T21:55:51.734975Z",
     "start_time": "2022-10-28T21:55:51.300327Z"
    }
   },
   "outputs": [],
   "source": [
    "user_profile = pd.read_csv(\"../../data/taobao/user_profile.csv\")\n",
    "user_profile"
   ]
  },
  {
   "cell_type": "markdown",
   "id": "8a73d2ab",
   "metadata": {},
   "source": [
    "# Ad feature"
   ]
  },
  {
   "cell_type": "code",
   "execution_count": null,
   "id": "f00fa016",
   "metadata": {
    "ExecuteTime": {
     "end_time": "2022-10-28T21:55:52.082049Z",
     "start_time": "2022-10-28T21:55:51.737319Z"
    }
   },
   "outputs": [],
   "source": [
    "ad_feature = pd.read_csv(\"../../data/taobao/ad_feature.csv\")\n",
    "ad_feature"
   ]
  }
 ],
 "metadata": {
  "kernelspec": {
   "display_name": "Python 3 (ipykernel)",
   "language": "python",
   "name": "python3"
  },
  "language_info": {
   "codemirror_mode": {
    "name": "ipython",
    "version": 3
   },
   "file_extension": ".py",
   "mimetype": "text/x-python",
   "name": "python",
   "nbconvert_exporter": "python",
   "pygments_lexer": "ipython3",
   "version": "3.10.4"
  },
  "toc": {
   "base_numbering": 1,
   "nav_menu": {},
   "number_sections": true,
   "sideBar": true,
   "skip_h1_title": false,
   "title_cell": "Table of Contents",
   "title_sidebar": "Contents",
   "toc_cell": false,
   "toc_position": {},
   "toc_section_display": true,
   "toc_window_display": false
  }
 },
 "nbformat": 4,
 "nbformat_minor": 5
}
