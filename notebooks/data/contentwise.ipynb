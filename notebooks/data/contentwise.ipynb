{
 "cells": [
  {
   "cell_type": "code",
   "execution_count": null,
   "id": "8f2c581d",
   "metadata": {
    "ExecuteTime": {
     "end_time": "2022-11-05T12:20:30.137668Z",
     "start_time": "2022-11-05T12:20:28.814589Z"
    }
   },
   "outputs": [],
   "source": [
    "import pandas as pd\n",
    "from pandas_profiling import ProfileReport"
   ]
  },
  {
   "cell_type": "markdown",
   "id": "89550432",
   "metadata": {},
   "source": [
    "# My remarks\n",
    "\n",
    "- Explicit/Implicit feedback\n",
    "- Iteractions mapping (interaction_type): {0: views, 1: detail, 2: ratings, 3: purchases}\n",
    "- Items mapping (item_type): {0: movies, 1: movies and clips in series, 2: TV movies or shows, 3: episodes of TV series}\n",
    "- -1 value means null in interactions table\n",
    "- Collected the data for over four months between 2018 and 2019\n",
    "- ContentWise Impressions is comprised of three\n",
    "different information layers. First, interactions of users with items\n",
    "of the service, containing user-item pairs. Second, impressions with\n",
    "a direct link to interactions, containing those recommendation lists\n",
    "that generated interactions. Third, impressions without a direct link\n",
    "to interactions, containing those recommendation lists that did not\n",
    "generate interactions."
   ]
  },
  {
   "cell_type": "markdown",
   "id": "776721c1",
   "metadata": {},
   "source": [
    "# ContentWise Impressions\n",
    "\n",
    "Sources:\n",
    "- https://github.com/ContentWise/contentwise-impressions\n",
    "- https://arxiv.org/abs/2008.01212 **(detailed description of dataset!)**\n",
    "\n",
    "ContentWise impressions is a dataset collected from an Over-the-Top media service that contains interactions and impressions.\n",
    "\n",
    "If you use this work in any form, please cite our article:\n",
    "\n",
    "```bibtex\n",
    "@Article{ContentWiseImpressions-CIKM-2020,\n",
    "author={Pérez Maurera, Fernando Benjamín\n",
    "and Ferrari Dacrema, Maurizio\n",
    "and Saule, Lorenzo\n",
    "and Scriminaci, Mario\n",
    "and Cremonesi, Paolo},\n",
    "title={ContentWise Impressions: An industrial dataset with impressions included},\n",
    "journal={Proceedings of the 29th ACM International Conference on Information and Knowledge Management (CIKM 2020)},\n",
    "year={2020},\n",
    "doi={},\n",
    "Eprint={arXiv},\n",
    "note={Source: \\url{https://github.com/ContentWise/contentwise-impressions}},\n",
    "}\n",
    "```\n",
    "\n",
    "## The dataset\n",
    "\n",
    "All the data can be located under the `data/ContentWiseImpressions/CW10M` folder. All the files are stored in `parquet`. These are the files we provide:\n",
    "\n",
    "- `interactions`: DataFrame that contains the interactions of users with items.\n",
    "- `impressions-direct-link`: DataFrame that contains the impressions with direct links to interactions.\n",
    "- `impressions-non-direct-link`: DataFrame that contains the impressions without direct links to interactions.\n",
    "- `metadata.json`: JSON file containing the number of users, items, series and recommendations of the dataset.\n",
    "\n",
    "Inside the `data/ContentWiseImpressions/CW10M` folder you'll also locate the `splits` folder. In there, we saved the data splits used in our experiments. You'll find in there:\n",
    "\n",
    "- `urm_items.train.npz`: Training split.\n",
    "- `urm_items.validation.npz`: Validation split for hyperparameter tuning.\n",
    "- `urm_items.test.npz`: Testing split for final evaluation of best hyperparameters.\n",
    "- `urm_items.impressions.npz`: Sum of `urm_items.impressions_direct_link.npz` and `urm_items.impressions_non_direct_link.npz`.\n",
    "- `urm_items.impressions_direct_link.npz`: URM version of `impressions-direct-link`. Rows are users and columns are items. Each cell contains the number of times the item has been recommended to the user.\n",
    "- `urm_items.impressions_non_direct_link.npz`: URM version of `impressions-non-direct-link`. Rows are users and columns are items. Each cell contains the number of times the item has been recommended to the user.\n",
    "- `urm_series.train.npz`: Equivalent to `urm_items.train.npz` but columns are series.\n",
    "- `urm_series.validation.npz`: Equivalent to `urm_items.validation.npz` but columns are series.\n",
    "- `urm_series.test.npz`: Equivalent to `urm_items.test.npz` but columns are series.\n",
    "- `urm_series.impressions.npz`: Equivalent to `urm_items.impressions.npz` but columns are series.\n",
    "- `urm_series.impressions_direct_link.npz`: Equivalent to `urm_items.impressions_direct_link.npz` but columns are series.\n",
    "- `urm_series.impressions_non_direct_link.npz`: Equivalent to `urm_items.impressions_non_direct_link.npz` but columns are series.\n",
    "\n",
    "## Human-readable version of the dataset\n",
    "\n",
    "We provide GZIP-compressed versions of the dataset in CSV (located inside the `CW10M-CSV` folder). This way, you can inspect the dataset and load it with tools that does not support Parquet files. Be careful, the uncompressed version of the dataset takes approximately `2.4 GiB` of disk.\n",
    "\n",
    "If you plan to use the dataset, we highly encourage you to use the Parquet version of it. Parquet is an open source format for data. Readers and writers for parquet exists in several languages and they tend to work orders of magnitude faster than their CSV counterparts.\n",
    "\n",
    "If you want to see an example of how to load the parquet version of the dataset, then go to the [official repo](https://github.com/ContentWise/contentwise-impressions) as we provided examples to load and use the dataset.\n",
    "\n",
    "## Authors\n",
    "\n",
    "- Fernando Benjamín Pérez Maurera - Politecnico di Milano / ContentWise - ([fernando.perez@contentwise.com](mailto:fernando.perez@contentwise.com) or [fernandobenjamin.perez@polimi.it](mailto:fernandobenjamin.perez@polimi.it)).\n",
    "- Maurizio Ferrari Dacrema - Politecnico di Milano - ([maurizio.ferrari@polimi.it](mailto:maurizio.ferrari@polimi.it)).\n",
    "- Lorenzo Saule - Politecnico di Milano / ContentWise ([lorenzo.saule@gmail.com](mailto:lorenzo.saule@gmail.com)).\n",
    "- Mario Scriminaci - ContentWise - ([mario.scriminaci@contentwise.com](mailto:mario.scriminaci@contentwise.com)).\n",
    "- Paolo Cremonesi - Politecnico di Milano - ([paolo.cremonesi@polimi.it](mailto:paolo.cremonesi@polimi.it)).\n",
    "\n",
    "## Disclaimer\n",
    "\n",
    "This is not an official ContentWise product.\n",
    "\n",
    "## License\n",
    "\n",
    "ContentWise Impressions by F. B. Pérez Maurera, Maurizio Ferrari, Lorenzo Saule, Mario Scriminaci, and Paolo Cremonesi is licensed under CC BY-NC-SA 4.0. To view a copy of this license, visit https://creativecommons.org/licenses/by-nc-sa/4.0"
   ]
  },
  {
   "cell_type": "markdown",
   "id": "435c419d",
   "metadata": {},
   "source": [
    "# Parquets"
   ]
  },
  {
   "cell_type": "markdown",
   "id": "9a624b76",
   "metadata": {},
   "source": [
    "## metadata"
   ]
  },
  {
   "cell_type": "code",
   "execution_count": null,
   "id": "ccc7ef17",
   "metadata": {
    "ExecuteTime": {
     "end_time": "2022-11-05T12:01:40.394568Z",
     "start_time": "2022-11-05T12:01:40.356052Z"
    }
   },
   "outputs": [],
   "source": [
    "meta_data_path = \"../../data/contentwise/data/contentwise/CW10M/metadata.json\"\n",
    "meta_data = pd.read_json(meta_data_path, typ=\"series\")\n",
    "meta_data"
   ]
  },
  {
   "cell_type": "markdown",
   "id": "de6450c5",
   "metadata": {},
   "source": [
    "## interactions"
   ]
  },
  {
   "cell_type": "code",
   "execution_count": null,
   "id": "faa87544",
   "metadata": {
    "ExecuteTime": {
     "end_time": "2022-11-05T12:01:41.055710Z",
     "start_time": "2022-11-05T12:01:40.926214Z"
    }
   },
   "outputs": [],
   "source": [
    "# 1 of 4 part of parquet files\n",
    "interactions_path = \"../../data/contentwise/data/contentwise/CW10M/interactions/part.0.parquet\"\n",
    "interactions = pd.read_parquet(interactions_path, engine=\"pyarrow\")\n",
    "interactions"
   ]
  },
  {
   "cell_type": "markdown",
   "id": "c013eeab",
   "metadata": {},
   "source": [
    "## impressions-direct-link"
   ]
  },
  {
   "cell_type": "code",
   "execution_count": null,
   "id": "d6d6bf0e",
   "metadata": {
    "ExecuteTime": {
     "end_time": "2022-11-05T12:01:42.348380Z",
     "start_time": "2022-11-05T12:01:42.177757Z"
    }
   },
   "outputs": [],
   "source": [
    "impressions_dl_path = \"../../data/contentwise/data/contentwise/CW10M/impressions-direct-link/part.0.parquet\"\n",
    "impressions_dl = pd.read_parquet(impressions_dl_path, engine=\"pyarrow\")\n",
    "impressions_dl"
   ]
  },
  {
   "cell_type": "markdown",
   "id": "974fa5ab",
   "metadata": {},
   "source": [
    "## impressions-non-direct-link"
   ]
  },
  {
   "cell_type": "code",
   "execution_count": null,
   "id": "0509d663",
   "metadata": {
    "ExecuteTime": {
     "end_time": "2022-11-05T12:01:44.027156Z",
     "start_time": "2022-11-05T12:01:43.730564Z"
    }
   },
   "outputs": [],
   "source": [
    "# 1 of 45 part of parquet files\n",
    "impressions_ndl_path = \"../../data/contentwise/data/contentwise/CW10M/impressions-non-direct-link/part.0.parquet\"\n",
    "impressions_ndl = pd.read_parquet(impressions_ndl_path, engine=\"pyarrow\")\n",
    "impressions_ndl"
   ]
  },
  {
   "cell_type": "markdown",
   "id": "3625aa37",
   "metadata": {},
   "source": [
    "# Csv"
   ]
  },
  {
   "cell_type": "markdown",
   "id": "d00a2d83",
   "metadata": {},
   "source": [
    "## interactions"
   ]
  },
  {
   "cell_type": "code",
   "execution_count": null,
   "id": "3a7fac87",
   "metadata": {
    "ExecuteTime": {
     "end_time": "2022-11-05T12:20:41.828294Z",
     "start_time": "2022-11-05T12:20:35.134774Z"
    }
   },
   "outputs": [],
   "source": [
    "interactions_path = \"../../data/contentwise/data/contentwise/CW10M-CSV/interactions.csv.gz\"\n",
    "interactions = pd.read_csv(interactions_path)\n",
    "interactions"
   ]
  },
  {
   "cell_type": "code",
   "execution_count": null,
   "id": "3bde2071",
   "metadata": {
    "ExecuteTime": {
     "end_time": "2022-11-05T12:21:13.107861Z",
     "start_time": "2022-11-05T12:21:03.172563Z"
    }
   },
   "outputs": [],
   "source": [
    "profile = ProfileReport(interactions, minimal=True)\n",
    "profile"
   ]
  },
  {
   "cell_type": "markdown",
   "id": "00600c98",
   "metadata": {},
   "source": [
    "## impressions-direct-link"
   ]
  },
  {
   "cell_type": "code",
   "execution_count": null,
   "id": "da39bda4",
   "metadata": {
    "ExecuteTime": {
     "end_time": "2022-11-05T11:37:03.332286Z",
     "start_time": "2022-11-05T11:37:03.050995Z"
    }
   },
   "outputs": [],
   "source": [
    "impressions_dl_path = \"../../data/contentwise/data/contentwise/CW10M-CSV/impressions-direct-link.csv.gz\"\n",
    "impressions_dl = pd.read_csv(impressions_dl_path)\n",
    "impressions_dl"
   ]
  },
  {
   "cell_type": "markdown",
   "id": "6cf92cdd",
   "metadata": {},
   "source": [
    "## impressions-non-direct-link"
   ]
  },
  {
   "cell_type": "code",
   "execution_count": null,
   "id": "ffd66166",
   "metadata": {
    "ExecuteTime": {
     "end_time": "2022-11-05T11:37:20.215819Z",
     "start_time": "2022-11-05T11:37:07.262924Z"
    }
   },
   "outputs": [],
   "source": [
    "impressions_ndl_path = \"../../data/contentwise/data/contentwise/CW10M-CSV/impressions-non-direct-link.csv.gz\"\n",
    "impressions_ndl = pd.read_csv(impressions_ndl_path)\n",
    "impressions_ndl"
   ]
  }
 ],
 "metadata": {
  "kernelspec": {
   "display_name": "Python 3 (ipykernel)",
   "language": "python",
   "name": "python3"
  },
  "language_info": {
   "codemirror_mode": {
    "name": "ipython",
    "version": 3
   },
   "file_extension": ".py",
   "mimetype": "text/x-python",
   "name": "python",
   "nbconvert_exporter": "python",
   "pygments_lexer": "ipython3",
   "version": "3.10.4"
  },
  "toc": {
   "base_numbering": 1,
   "nav_menu": {},
   "number_sections": true,
   "sideBar": true,
   "skip_h1_title": false,
   "title_cell": "Table of Contents",
   "title_sidebar": "Contents",
   "toc_cell": false,
   "toc_position": {
    "height": "calc(100% - 180px)",
    "left": "10px",
    "top": "150px",
    "width": "369.594px"
   },
   "toc_section_display": true,
   "toc_window_display": true
  }
 },
 "nbformat": 4,
 "nbformat_minor": 5
}
