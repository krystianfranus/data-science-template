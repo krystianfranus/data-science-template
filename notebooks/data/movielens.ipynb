{
 "cells": [
  {
   "cell_type": "code",
   "execution_count": null,
   "id": "e0ca1f31",
   "metadata": {
    "ExecuteTime": {
     "end_time": "2022-11-10T12:03:30.442755Z",
     "start_time": "2022-11-10T12:03:30.065909Z"
    }
   },
   "outputs": [],
   "source": [
    "import pandas as pd"
   ]
  },
  {
   "cell_type": "markdown",
   "id": "5d47b531",
   "metadata": {},
   "source": [
    "# My remarks\n",
    "\n",
    "- Explicit feedback\n",
    "- 1000209 **unique** ratings (~25MB), 6040 users, 3900 movies\n",
    "- Star ratings: 1-5\n",
    "- Time-series (with looong time window)\n",
    "- User meta data\n",
    "- Movie meta data"
   ]
  },
  {
   "cell_type": "markdown",
   "id": "52fc782a",
   "metadata": {},
   "source": [
    "# MovieLens 1M Dataset\n",
    "\n",
    "Source: https://grouplens.org/datasets/movielens/\n",
    "\n",
    "MovieLens 1M movie ratings. Stable benchmark dataset. 1 million ratings from 6000 users on 4000 movies. Released 2/2003.\n",
    "\n",
    "These files contain 1,000,209 anonymous ratings of approximately 3,900 movies \n",
    "made by 6,040 MovieLens users who joined MovieLens in 2000.\n",
    "\n",
    "All ratings are contained in the file **ratings.dat** and are in the\n",
    "following format:\n",
    "\n",
    "UserID::MovieID::Rating::Timestamp\n",
    "\n",
    "- UserIDs range between 1 and 6040 \n",
    "- MovieIDs range between 1 and 3952\n",
    "- Ratings are made on a 5-star scale (whole-star ratings only)\n",
    "- Timestamp is represented in seconds since the epoch as returned by time(2)\n",
    "- Each user has at least 20 ratings\n",
    "\n",
    "User information is in the file **users.dat** and is in the following\n",
    "format:\n",
    "\n",
    "UserID::Gender::Age::Occupation::Zip-code\n",
    "\n",
    "All demographic information is provided voluntarily by the users and is\n",
    "not checked for accuracy.  Only users who have provided some demographic\n",
    "information are included in this data set.\n",
    "\n",
    "- Gender is denoted by a \"M\" for male and \"F\" for female\n",
    "- Age is chosen from the following ranges:\n",
    "\n",
    "\t*  1:  \"Under 18\"\n",
    "\t* 18:  \"18-24\"\n",
    "\t* 25:  \"25-34\"\n",
    "\t* 35:  \"35-44\"\n",
    "\t* 45:  \"45-49\"\n",
    "\t* 50:  \"50-55\"\n",
    "\t* 56:  \"56+\"\n",
    "\n",
    "- Occupation is chosen from the following choices:\n",
    "\n",
    "\t*  0:  \"other\" or not specified\n",
    "\t*  1:  \"academic/educator\"\n",
    "\t*  2:  \"artist\"\n",
    "\t*  3:  \"clerical/admin\"\n",
    "\t*  4:  \"college/grad student\"\n",
    "\t*  5:  \"customer service\"\n",
    "\t*  6:  \"doctor/health care\"\n",
    "\t*  7:  \"executive/managerial\"\n",
    "\t*  8:  \"farmer\"\n",
    "\t*  9:  \"homemaker\"\n",
    "\t* 10:  \"K-12 student\"\n",
    "\t* 11:  \"lawyer\"\n",
    "\t* 12:  \"programmer\"\n",
    "\t* 13:  \"retired\"\n",
    "\t* 14:  \"sales/marketing\"\n",
    "\t* 15:  \"scientist\"\n",
    "\t* 16:  \"self-employed\"\n",
    "\t* 17:  \"technician/engineer\"\n",
    "\t* 18:  \"tradesman/craftsman\"\n",
    "\t* 19:  \"unemployed\"\n",
    "\t* 20:  \"writer\"\n",
    "\n",
    "Movie information is in the file **movies.dat** and is in the following\n",
    "format:\n",
    "\n",
    "MovieID::Title::Genres\n",
    "\n",
    "- Titles are identical to titles provided by the IMDB (including\n",
    "year of release)\n",
    "- Genres are pipe-separated and are selected from the following genres:\n",
    "\n",
    "\t* Action\n",
    "\t* Adventure\n",
    "\t* Animation\n",
    "\t* Children's\n",
    "\t* Comedy\n",
    "\t* Crime\n",
    "\t* Documentary\n",
    "\t* Drama\n",
    "\t* Fantasy\n",
    "\t* Film-Noir\n",
    "\t* Horror\n",
    "\t* Musical\n",
    "\t* Mystery\n",
    "\t* Romance\n",
    "\t* Sci-Fi\n",
    "\t* Thriller\n",
    "\t* War\n",
    "\t* Western\n",
    "\n",
    "- Some MovieIDs do not correspond to a movie due to accidental duplicate\n",
    "entries and/or test entries\n",
    "- Movies are mostly entered by hand, so errors and inconsistencies may exist"
   ]
  },
  {
   "cell_type": "markdown",
   "id": "349d2a6f",
   "metadata": {},
   "source": [
    "# Ratings"
   ]
  },
  {
   "cell_type": "code",
   "execution_count": null,
   "id": "91aa04b9",
   "metadata": {
    "ExecuteTime": {
     "end_time": "2022-11-10T12:03:38.510910Z",
     "start_time": "2022-11-10T12:03:33.497621Z"
    }
   },
   "outputs": [],
   "source": [
    "ratings = pd.read_csv(\"../../data/movielens/ratings.dat\",\n",
    "                      sep=\"::\",\n",
    "                      names=[\"UserID\", \"MovieID\", \"Rating\", \"Timestamp\"],\n",
    "                      engine=\"python\")\n",
    "\n",
    "ratings"
   ]
  },
  {
   "cell_type": "markdown",
   "id": "b0322f5b",
   "metadata": {},
   "source": [
    "## Users"
   ]
  },
  {
   "cell_type": "code",
   "execution_count": null,
   "id": "9aa179bb",
   "metadata": {
    "ExecuteTime": {
     "end_time": "2022-11-10T12:03:47.815883Z",
     "start_time": "2022-11-10T12:03:47.773440Z"
    }
   },
   "outputs": [],
   "source": [
    "users_meta_data = pd.read_csv(\"../../data/movielens/users.dat\",\n",
    "                              sep=\"::\",\n",
    "                              names=[\"UserID\", \"Gender\", \"Age\", \"Occupation\", \"Zip-code\"],\n",
    "                              engine=\"python\")\n",
    "\n",
    "users_meta_data"
   ]
  },
  {
   "cell_type": "markdown",
   "id": "26bbdf07",
   "metadata": {},
   "source": [
    "## Movies"
   ]
  },
  {
   "cell_type": "code",
   "execution_count": null,
   "id": "42f13a51",
   "metadata": {
    "ExecuteTime": {
     "end_time": "2022-11-10T12:03:49.580062Z",
     "start_time": "2022-11-10T12:03:49.546323Z"
    }
   },
   "outputs": [],
   "source": [
    "movies_meta = pd.read_csv(\"../../data/movielens/movies.dat\",\n",
    "                          sep=\"::\",\n",
    "                          names=[\"MovieID\", \"Title\", \"Genres\"],\n",
    "                          engine=\"python\",\n",
    "                          encoding=\"latin-1\")\n",
    "\n",
    "movies_meta"
   ]
  }
 ],
 "metadata": {
  "kernelspec": {
   "display_name": "Python 3 (ipykernel)",
   "language": "python",
   "name": "python3"
  },
  "language_info": {
   "codemirror_mode": {
    "name": "ipython",
    "version": 3
   },
   "file_extension": ".py",
   "mimetype": "text/x-python",
   "name": "python",
   "nbconvert_exporter": "python",
   "pygments_lexer": "ipython3",
   "version": "3.10.4"
  },
  "toc": {
   "base_numbering": 1,
   "nav_menu": {},
   "number_sections": true,
   "sideBar": true,
   "skip_h1_title": false,
   "title_cell": "Table of Contents",
   "title_sidebar": "Contents",
   "toc_cell": false,
   "toc_position": {
    "height": "calc(100% - 180px)",
    "left": "10px",
    "top": "150px",
    "width": "333.594px"
   },
   "toc_section_display": true,
   "toc_window_display": true
  }
 },
 "nbformat": 4,
 "nbformat_minor": 5
}
