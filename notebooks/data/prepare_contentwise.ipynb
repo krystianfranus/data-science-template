{
 "cells": [
  {
   "cell_type": "code",
   "execution_count": null,
   "id": "6154623f",
   "metadata": {
    "ExecuteTime": {
     "end_time": "2022-11-06T21:03:46.862652Z",
     "start_time": "2022-11-06T21:03:46.536867Z"
    }
   },
   "outputs": [],
   "source": [
    "import pandas as pd"
   ]
  },
  {
   "cell_type": "markdown",
   "id": "694c57bd",
   "metadata": {},
   "source": [
    "# Interactions"
   ]
  },
  {
   "cell_type": "code",
   "execution_count": null,
   "id": "f12f5865",
   "metadata": {
    "ExecuteTime": {
     "end_time": "2022-11-06T21:03:54.106040Z",
     "start_time": "2022-11-06T21:03:47.579733Z"
    }
   },
   "outputs": [],
   "source": [
    "interactions_path = \"../../data/contentwise/data/contentwise/CW10M-CSV/interactions.csv.gz\"\n",
    "interactions = pd.read_csv(interactions_path)\n",
    "interactions.shape"
   ]
  },
  {
   "cell_type": "code",
   "execution_count": null,
   "id": "2d51df5c",
   "metadata": {
    "ExecuteTime": {
     "end_time": "2022-11-06T21:03:56.342540Z",
     "start_time": "2022-11-06T21:03:55.863832Z"
    }
   },
   "outputs": [],
   "source": [
    "interactions = interactions[interactions[\"interaction_type\"] == 0].reset_index(drop=True)\n",
    "\n",
    "columns = [\"utc_ts_milliseconds\", \"user_id\", \"series_id\", \"recommendation_id\", \"vision_factor\"]\n",
    "interactions = interactions[columns]\n",
    "interactions"
   ]
  },
  {
   "cell_type": "markdown",
   "id": "e98661a9",
   "metadata": {},
   "source": [
    "# Impressions (direct)"
   ]
  },
  {
   "cell_type": "code",
   "execution_count": null,
   "id": "22c13f76",
   "metadata": {
    "ExecuteTime": {
     "end_time": "2022-11-06T21:03:57.623700Z",
     "start_time": "2022-11-06T21:03:57.347980Z"
    }
   },
   "outputs": [],
   "source": [
    "impressions_dl_path = \"../../data/contentwise/data/contentwise/CW10M-CSV/impressions-direct-link.csv.gz\"\n",
    "impressions_dl = pd.read_csv(impressions_dl_path)\n",
    "impressions_dl.shape"
   ]
  },
  {
   "cell_type": "code",
   "execution_count": null,
   "id": "4c30e5ee",
   "metadata": {
    "ExecuteTime": {
     "end_time": "2022-11-06T21:03:58.049888Z",
     "start_time": "2022-11-06T21:03:58.035509Z"
    }
   },
   "outputs": [],
   "source": [
    "impressions_dl"
   ]
  },
  {
   "cell_type": "code",
   "execution_count": null,
   "id": "eb4fe4c0",
   "metadata": {
    "ExecuteTime": {
     "end_time": "2022-11-06T21:04:00.383304Z",
     "start_time": "2022-11-06T21:03:59.070189Z"
    }
   },
   "outputs": [],
   "source": [
    "impressions_dl[\"recommended_series_list\"] = impressions_dl[\"recommended_series_list\"].str.replace(r\"(\\[|\\])\", \"\", regex=True).str.split()\n",
    "impressions_dl = impressions_dl.explode(\"recommended_series_list\").reset_index(drop=True)\n",
    "impressions_dl"
   ]
  },
  {
   "cell_type": "markdown",
   "id": "19b007fa",
   "metadata": {},
   "source": [
    "# Join"
   ]
  },
  {
   "cell_type": "code",
   "execution_count": null,
   "id": "44115e71",
   "metadata": {
    "ExecuteTime": {
     "end_time": "2022-11-06T21:04:10.154868Z",
     "start_time": "2022-11-06T21:04:08.278433Z"
    }
   },
   "outputs": [],
   "source": [
    "merged = interactions.merge(impressions_dl, \"inner\", \"recommendation_id\")\n",
    "merged[\"recommended_series_list\"] = pd.to_numeric(merged[\"recommended_series_list\"])\n",
    "merged"
   ]
  },
  {
   "cell_type": "code",
   "execution_count": null,
   "id": "095fec26",
   "metadata": {
    "ExecuteTime": {
     "end_time": "2022-11-06T21:04:17.145854Z",
     "start_time": "2022-11-06T21:04:17.085850Z"
    }
   },
   "outputs": [],
   "source": [
    "merged.loc[merged[\"series_id\"] == merged[\"recommended_series_list\"], \"target\"] = 1\n",
    "merged.loc[merged[\"series_id\"] != merged[\"recommended_series_list\"], \"target\"] = 0\n",
    "merged"
   ]
  },
  {
   "cell_type": "code",
   "execution_count": null,
   "id": "dbd52ff0",
   "metadata": {
    "ExecuteTime": {
     "end_time": "2022-11-06T21:04:27.207856Z",
     "start_time": "2022-11-06T21:04:27.060390Z"
    }
   },
   "outputs": [],
   "source": [
    "output = merged[[\"user_id\", \"recommended_series_list\", \"target\", \"utc_ts_milliseconds\"]]\n",
    "output[\"target\"] = output[\"target\"].astype(int)\n",
    "output.columns = [\"user\", \"item\", \"target\", \"timestamp\"]\n",
    "output"
   ]
  },
  {
   "cell_type": "code",
   "execution_count": null,
   "id": "f3c11c2b",
   "metadata": {
    "ExecuteTime": {
     "end_time": "2022-11-06T21:05:02.717202Z",
     "start_time": "2022-11-06T21:05:02.682216Z"
    }
   },
   "outputs": [],
   "source": [
    "output = output.groupby([\"user\", \"item\"]).agg({\"target\": \"sum\"}).reset_index()\n",
    "output.loc[output[\"target\"] > 0, \"target\"] = 1\n",
    "output"
   ]
  },
  {
   "cell_type": "code",
   "execution_count": null,
   "id": "4c37f188",
   "metadata": {
    "ExecuteTime": {
     "end_time": "2022-11-06T21:05:15.435269Z",
     "start_time": "2022-11-06T21:05:15.402779Z"
    }
   },
   "outputs": [],
   "source": [
    "output[\"target\"].value_counts()"
   ]
  },
  {
   "cell_type": "code",
   "execution_count": null,
   "id": "328948be",
   "metadata": {
    "ExecuteTime": {
     "end_time": "2022-11-06T21:05:33.323408Z",
     "start_time": "2022-11-06T21:05:33.221554Z"
    }
   },
   "outputs": [],
   "source": [
    "user_to_idx = {user: idx for idx, user in enumerate(output[\"user\"].unique())}\n",
    "item_to_idx = {item: idx for idx, item in enumerate(output[\"item\"].unique())}\n",
    "output[\"user\"] = output[\"user\"].map(user_to_idx)\n",
    "output[\"item\"] = output[\"item\"].map(item_to_idx)"
   ]
  },
  {
   "cell_type": "markdown",
   "id": "0edef3b8",
   "metadata": {},
   "source": [
    "## implicit"
   ]
  },
  {
   "cell_type": "code",
   "execution_count": null,
   "id": "fd9697bb",
   "metadata": {
    "ExecuteTime": {
     "end_time": "2022-11-06T21:25:05.353860Z",
     "start_time": "2022-11-06T21:25:05.337307Z"
    }
   },
   "outputs": [],
   "source": [
    "train_data = output[:800_000].reset_index(drop=True)\n",
    "val_data = output[800_000:1_000_000].reset_index(drop=True)\n",
    "test_data = output[1_000_000:].reset_index(drop=True)"
   ]
  },
  {
   "cell_type": "code",
   "execution_count": null,
   "id": "6c5dd188",
   "metadata": {
    "ExecuteTime": {
     "end_time": "2022-11-06T21:07:38.928404Z",
     "start_time": "2022-11-06T21:07:37.867842Z"
    }
   },
   "outputs": [],
   "source": [
    "train_data.to_csv(\"train_data_implicit.csv\", index=False)\n",
    "val_data.to_csv(\"val_data_implicit.csv\", index=False)\n",
    "test_data.to_csv(\"test_data_implicit.csv\", index=False)"
   ]
  },
  {
   "cell_type": "code",
   "execution_count": null,
   "id": "24da298b",
   "metadata": {
    "ExecuteTime": {
     "end_time": "2022-11-06T21:07:39.735175Z",
     "start_time": "2022-11-06T21:07:39.711093Z"
    }
   },
   "outputs": [],
   "source": [
    "output[\"user\"].nunique()"
   ]
  },
  {
   "cell_type": "code",
   "execution_count": null,
   "id": "97de3cb2",
   "metadata": {
    "ExecuteTime": {
     "end_time": "2022-11-06T21:07:40.127202Z",
     "start_time": "2022-11-06T21:07:40.109443Z"
    }
   },
   "outputs": [],
   "source": [
    "output[\"item\"].nunique()"
   ]
  },
  {
   "cell_type": "markdown",
   "id": "0919639d",
   "metadata": {},
   "source": [
    "## implicit_br"
   ]
  },
  {
   "cell_type": "code",
   "execution_count": null,
   "id": "f0eac229",
   "metadata": {
    "ExecuteTime": {
     "end_time": "2022-11-06T21:09:00.804058Z",
     "start_time": "2022-11-06T21:08:59.698924Z"
    }
   },
   "outputs": [],
   "source": [
    "tmp0 = train_data.loc[train_data[\"target\"] == 0, [\"user\", \"item\"]]\n",
    "tmp1 = train_data.loc[train_data[\"target\"] == 1, [\"user\", \"item\"]]\n",
    "\n",
    "train_data = tmp0.merge(tmp1, \"inner\", \"user\", suffixes=(\"_neg\", \"_pos\"))\n",
    "train_data = train_data.sample(frac=0.2, random_state=0).reset_index(drop=True)"
   ]
  },
  {
   "cell_type": "code",
   "execution_count": null,
   "id": "88076837",
   "metadata": {
    "ExecuteTime": {
     "end_time": "2022-11-06T21:09:29.709784Z",
     "start_time": "2022-11-06T21:09:27.812659Z"
    }
   },
   "outputs": [],
   "source": [
    "train_data.to_csv(\"train_data_implicit_bpr.csv\", index=False)\n",
    "val_data.to_csv(\"val_data_implicit_bpr.csv\", index=False)\n",
    "test_data.to_csv(\"test_data_implicit_bpr.csv\", index=False)"
   ]
  },
  {
   "cell_type": "code",
   "execution_count": null,
   "id": "dcf782e2",
   "metadata": {},
   "outputs": [],
   "source": []
  }
 ],
 "metadata": {
  "kernelspec": {
   "display_name": "Python 3 (ipykernel)",
   "language": "python",
   "name": "python3"
  },
  "language_info": {
   "codemirror_mode": {
    "name": "ipython",
    "version": 3
   },
   "file_extension": ".py",
   "mimetype": "text/x-python",
   "name": "python",
   "nbconvert_exporter": "python",
   "pygments_lexer": "ipython3",
   "version": "3.10.4"
  },
  "toc": {
   "base_numbering": 1,
   "nav_menu": {},
   "number_sections": true,
   "sideBar": true,
   "skip_h1_title": false,
   "title_cell": "Table of Contents",
   "title_sidebar": "Contents",
   "toc_cell": false,
   "toc_position": {},
   "toc_section_display": true,
   "toc_window_display": true
  }
 },
 "nbformat": 4,
 "nbformat_minor": 5
}
