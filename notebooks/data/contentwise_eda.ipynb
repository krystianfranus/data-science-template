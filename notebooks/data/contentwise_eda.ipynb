{
 "cells": [
  {
   "cell_type": "code",
   "execution_count": 1,
   "id": "6154623f",
   "metadata": {
    "ExecuteTime": {
     "end_time": "2023-06-12T19:27:28.376148Z",
     "start_time": "2023-06-12T19:27:27.531585Z"
    }
   },
   "outputs": [],
   "source": [
    "import pandas as pd\n",
    "import numpy as np\n",
    "import matplotlib.pyplot as plt\n",
    "from pathlib import Path"
   ]
  },
  {
   "cell_type": "markdown",
   "id": "694c57bd",
   "metadata": {},
   "source": [
    "# Positive signals - clicks, details, ratings, purchases\n",
    "\n",
    "DataFrame consists of interactions between users and items"
   ]
  },
  {
   "cell_type": "code",
   "execution_count": 2,
   "id": "a269dd6b",
   "metadata": {
    "ExecuteTime": {
     "end_time": "2023-06-12T19:27:33.793096Z",
     "start_time": "2023-06-12T19:27:28.377652Z"
    }
   },
   "outputs": [
    {
     "data": {
      "text/html": [
       "<div>\n",
       "<style scoped>\n",
       "    .dataframe tbody tr th:only-of-type {\n",
       "        vertical-align: middle;\n",
       "    }\n",
       "\n",
       "    .dataframe tbody tr th {\n",
       "        vertical-align: top;\n",
       "    }\n",
       "\n",
       "    .dataframe thead th {\n",
       "        text-align: right;\n",
       "    }\n",
       "</style>\n",
       "<table border=\"1\" class=\"dataframe\">\n",
       "  <thead>\n",
       "    <tr style=\"text-align: right;\">\n",
       "      <th></th>\n",
       "      <th>utc_ts_milliseconds</th>\n",
       "      <th>user_id</th>\n",
       "      <th>item_id</th>\n",
       "      <th>series_id</th>\n",
       "      <th>episode_number</th>\n",
       "      <th>series_length</th>\n",
       "      <th>item_type</th>\n",
       "      <th>recommendation_id</th>\n",
       "      <th>interaction_type</th>\n",
       "      <th>vision_factor</th>\n",
       "      <th>explicit_rating</th>\n",
       "      <th>date</th>\n",
       "    </tr>\n",
       "  </thead>\n",
       "  <tbody>\n",
       "    <tr>\n",
       "      <th>0</th>\n",
       "      <td>2019-01-07 09:00:02</td>\n",
       "      <td>27944</td>\n",
       "      <td>23602</td>\n",
       "      <td>8872</td>\n",
       "      <td>9</td>\n",
       "      <td>17</td>\n",
       "      <td>episodes of TV series</td>\n",
       "      <td>-1</td>\n",
       "      <td>views</td>\n",
       "      <td>1.00</td>\n",
       "      <td>-1.0</td>\n",
       "      <td>2019-01-07</td>\n",
       "    </tr>\n",
       "    <tr>\n",
       "      <th>1</th>\n",
       "      <td>2019-01-07 09:00:02</td>\n",
       "      <td>7285</td>\n",
       "      <td>116485</td>\n",
       "      <td>434</td>\n",
       "      <td>5</td>\n",
       "      <td>6</td>\n",
       "      <td>episodes of TV series</td>\n",
       "      <td>56402</td>\n",
       "      <td>views</td>\n",
       "      <td>1.00</td>\n",
       "      <td>-1.0</td>\n",
       "      <td>2019-01-07</td>\n",
       "    </tr>\n",
       "    <tr>\n",
       "      <th>2</th>\n",
       "      <td>2019-01-07 09:00:03</td>\n",
       "      <td>26039</td>\n",
       "      <td>52201</td>\n",
       "      <td>4323</td>\n",
       "      <td>69</td>\n",
       "      <td>365</td>\n",
       "      <td>episodes of TV series</td>\n",
       "      <td>-1</td>\n",
       "      <td>details</td>\n",
       "      <td>-1.00</td>\n",
       "      <td>-1.0</td>\n",
       "      <td>2019-01-07</td>\n",
       "    </tr>\n",
       "    <tr>\n",
       "      <th>3</th>\n",
       "      <td>2019-01-07 09:00:03</td>\n",
       "      <td>9752</td>\n",
       "      <td>55164</td>\n",
       "      <td>3544</td>\n",
       "      <td>17</td>\n",
       "      <td>21</td>\n",
       "      <td>episodes of TV series</td>\n",
       "      <td>-1</td>\n",
       "      <td>views</td>\n",
       "      <td>1.00</td>\n",
       "      <td>-1.0</td>\n",
       "      <td>2019-01-07</td>\n",
       "    </tr>\n",
       "    <tr>\n",
       "      <th>4</th>\n",
       "      <td>2019-01-07 09:00:04</td>\n",
       "      <td>41020</td>\n",
       "      <td>115035</td>\n",
       "      <td>4549</td>\n",
       "      <td>21</td>\n",
       "      <td>21</td>\n",
       "      <td>episodes of TV series</td>\n",
       "      <td>-1</td>\n",
       "      <td>details</td>\n",
       "      <td>-1.00</td>\n",
       "      <td>-1.0</td>\n",
       "      <td>2019-01-07</td>\n",
       "    </tr>\n",
       "    <tr>\n",
       "      <th>...</th>\n",
       "      <td>...</td>\n",
       "      <td>...</td>\n",
       "      <td>...</td>\n",
       "      <td>...</td>\n",
       "      <td>...</td>\n",
       "      <td>...</td>\n",
       "      <td>...</td>\n",
       "      <td>...</td>\n",
       "      <td>...</td>\n",
       "      <td>...</td>\n",
       "      <td>...</td>\n",
       "      <td>...</td>\n",
       "    </tr>\n",
       "    <tr>\n",
       "      <th>10457805</th>\n",
       "      <td>2019-04-15 08:59:54</td>\n",
       "      <td>9517</td>\n",
       "      <td>5918</td>\n",
       "      <td>3134</td>\n",
       "      <td>10</td>\n",
       "      <td>11</td>\n",
       "      <td>episodes of TV series</td>\n",
       "      <td>-1</td>\n",
       "      <td>details</td>\n",
       "      <td>-1.00</td>\n",
       "      <td>-1.0</td>\n",
       "      <td>2019-04-15</td>\n",
       "    </tr>\n",
       "    <tr>\n",
       "      <th>10457806</th>\n",
       "      <td>2019-04-15 08:59:56</td>\n",
       "      <td>34898</td>\n",
       "      <td>114098</td>\n",
       "      <td>23089</td>\n",
       "      <td>3</td>\n",
       "      <td>11</td>\n",
       "      <td>episodes of TV series</td>\n",
       "      <td>-1</td>\n",
       "      <td>views</td>\n",
       "      <td>1.00</td>\n",
       "      <td>-1.0</td>\n",
       "      <td>2019-04-15</td>\n",
       "    </tr>\n",
       "    <tr>\n",
       "      <th>10457807</th>\n",
       "      <td>2019-04-15 08:59:57</td>\n",
       "      <td>3388</td>\n",
       "      <td>8059</td>\n",
       "      <td>8277</td>\n",
       "      <td>4</td>\n",
       "      <td>27</td>\n",
       "      <td>episodes of TV series</td>\n",
       "      <td>-1</td>\n",
       "      <td>views</td>\n",
       "      <td>1.00</td>\n",
       "      <td>-1.0</td>\n",
       "      <td>2019-04-15</td>\n",
       "    </tr>\n",
       "    <tr>\n",
       "      <th>10457808</th>\n",
       "      <td>2019-04-15 08:59:58</td>\n",
       "      <td>2536</td>\n",
       "      <td>9462</td>\n",
       "      <td>23781</td>\n",
       "      <td>9</td>\n",
       "      <td>12</td>\n",
       "      <td>episodes of TV series</td>\n",
       "      <td>-1</td>\n",
       "      <td>views</td>\n",
       "      <td>1.00</td>\n",
       "      <td>-1.0</td>\n",
       "      <td>2019-04-15</td>\n",
       "    </tr>\n",
       "    <tr>\n",
       "      <th>10457809</th>\n",
       "      <td>2019-04-15 08:59:59</td>\n",
       "      <td>38766</td>\n",
       "      <td>32081</td>\n",
       "      <td>16954</td>\n",
       "      <td>2</td>\n",
       "      <td>27</td>\n",
       "      <td>episodes of TV series</td>\n",
       "      <td>-1</td>\n",
       "      <td>views</td>\n",
       "      <td>0.59</td>\n",
       "      <td>-1.0</td>\n",
       "      <td>2019-04-15</td>\n",
       "    </tr>\n",
       "  </tbody>\n",
       "</table>\n",
       "<p>10457810 rows × 12 columns</p>\n",
       "</div>"
      ],
      "text/plain": [
       "         utc_ts_milliseconds  user_id  item_id  series_id  episode_number  \\\n",
       "0        2019-01-07 09:00:02    27944    23602       8872               9   \n",
       "1        2019-01-07 09:00:02     7285   116485        434               5   \n",
       "2        2019-01-07 09:00:03    26039    52201       4323              69   \n",
       "3        2019-01-07 09:00:03     9752    55164       3544              17   \n",
       "4        2019-01-07 09:00:04    41020   115035       4549              21   \n",
       "...                      ...      ...      ...        ...             ...   \n",
       "10457805 2019-04-15 08:59:54     9517     5918       3134              10   \n",
       "10457806 2019-04-15 08:59:56    34898   114098      23089               3   \n",
       "10457807 2019-04-15 08:59:57     3388     8059       8277               4   \n",
       "10457808 2019-04-15 08:59:58     2536     9462      23781               9   \n",
       "10457809 2019-04-15 08:59:59    38766    32081      16954               2   \n",
       "\n",
       "          series_length              item_type  recommendation_id  \\\n",
       "0                    17  episodes of TV series                 -1   \n",
       "1                     6  episodes of TV series              56402   \n",
       "2                   365  episodes of TV series                 -1   \n",
       "3                    21  episodes of TV series                 -1   \n",
       "4                    21  episodes of TV series                 -1   \n",
       "...                 ...                    ...                ...   \n",
       "10457805             11  episodes of TV series                 -1   \n",
       "10457806             11  episodes of TV series                 -1   \n",
       "10457807             27  episodes of TV series                 -1   \n",
       "10457808             12  episodes of TV series                 -1   \n",
       "10457809             27  episodes of TV series                 -1   \n",
       "\n",
       "         interaction_type  vision_factor  explicit_rating        date  \n",
       "0                   views           1.00             -1.0  2019-01-07  \n",
       "1                   views           1.00             -1.0  2019-01-07  \n",
       "2                 details          -1.00             -1.0  2019-01-07  \n",
       "3                   views           1.00             -1.0  2019-01-07  \n",
       "4                 details          -1.00             -1.0  2019-01-07  \n",
       "...                   ...            ...              ...         ...  \n",
       "10457805          details          -1.00             -1.0  2019-04-15  \n",
       "10457806            views           1.00             -1.0  2019-04-15  \n",
       "10457807            views           1.00             -1.0  2019-04-15  \n",
       "10457808            views           1.00             -1.0  2019-04-15  \n",
       "10457809            views           0.59             -1.0  2019-04-15  \n",
       "\n",
       "[10457810 rows x 12 columns]"
      ]
     },
     "execution_count": 2,
     "metadata": {},
     "output_type": "execute_result"
    }
   ],
   "source": [
    "prefix = Path(\"../../data/contentwise/data/contentwise/CW10M/\")\n",
    "interactions_path = prefix / Path(\"interactions\")\n",
    "interactions = pd.concat(\n",
    "    pd.read_parquet(p) for p in interactions_path.glob(\"*.parquet\")\n",
    ").reset_index()\n",
    "\n",
    "interactions[\"utc_ts_milliseconds\"] = pd.to_datetime(\n",
    "    interactions[\"utc_ts_milliseconds\"], unit=\"ms\"\n",
    ")\n",
    "interactions[\"date\"] = interactions[\"utc_ts_milliseconds\"].dt.date\n",
    "interactions = interactions.sort_values(\"utc_ts_milliseconds\").reset_index(drop=True)\n",
    "\n",
    "interactions[\"item_type\"] = interactions[\"item_type\"].map(\n",
    "    {\n",
    "        0: \"movies\",\n",
    "        1: \"movies and clips in series\",\n",
    "        2: \"TV movies or shows\",\n",
    "        3: \"episodes of TV series\",\n",
    "    }\n",
    ")\n",
    "interactions[\"interaction_type\"] = interactions[\"interaction_type\"].map(\n",
    "    {0: \"views\", 1: \"details\", 2: \"ratings\", 3: \"purchases\"}\n",
    ")\n",
    "\n",
    "interactions"
   ]
  },
  {
   "cell_type": "markdown",
   "id": "b024bdd0",
   "metadata": {},
   "source": [
    "Mapping of item_type:\n",
    "- 0 - movies\n",
    "- 1 - movies and clips in series\n",
    "- 2 - TV movies or shows\n",
    "- 3 - episodes of TV series"
   ]
  },
  {
   "cell_type": "markdown",
   "id": "8c44a37b",
   "metadata": {},
   "source": [
    "Mapping of interaction_type:\n",
    "- 0 - views\n",
    "- 1 - details\n",
    "- 2 - ratings\n",
    "- 3 - purchases"
   ]
  },
  {
   "cell_type": "code",
   "execution_count": 3,
   "id": "9997d334",
   "metadata": {
    "ExecuteTime": {
     "end_time": "2023-06-12T19:27:34.135646Z",
     "start_time": "2023-06-12T19:27:33.794646Z"
    }
   },
   "outputs": [
    {
     "data": {
      "text/plain": [
       "item_type\n",
       "episodes of TV series         9076428\n",
       "movies                         987518\n",
       "movies and clips in series     231290\n",
       "TV movies or shows             162574\n",
       "Name: count, dtype: int64"
      ]
     },
     "execution_count": 3,
     "metadata": {},
     "output_type": "execute_result"
    }
   ],
   "source": [
    "interactions[\"item_type\"].value_counts()"
   ]
  },
  {
   "cell_type": "markdown",
   "id": "62622b21",
   "metadata": {},
   "source": [
    "## Keep movies only!"
   ]
  },
  {
   "cell_type": "code",
   "execution_count": 5,
   "id": "10c15971",
   "metadata": {
    "ExecuteTime": {
     "end_time": "2023-06-12T19:27:34.792891Z",
     "start_time": "2023-06-12T19:27:34.137471Z"
    }
   },
   "outputs": [
    {
     "data": {
      "text/plain": [
       "(987518, 12)"
      ]
     },
     "execution_count": 5,
     "metadata": {},
     "output_type": "execute_result"
    }
   ],
   "source": [
    "interactions = interactions[interactions[\"item_type\"] == \"movies\"].reset_index(\n",
    "    drop=True\n",
    ")\n",
    "interactions.shape"
   ]
  },
  {
   "cell_type": "code",
   "execution_count": 6,
   "id": "db961a97",
   "metadata": {
    "ExecuteTime": {
     "end_time": "2023-06-12T19:27:34.803296Z",
     "start_time": "2023-06-12T19:27:34.794749Z"
    }
   },
   "outputs": [
    {
     "data": {
      "text/html": [
       "<div>\n",
       "<style scoped>\n",
       "    .dataframe tbody tr th:only-of-type {\n",
       "        vertical-align: middle;\n",
       "    }\n",
       "\n",
       "    .dataframe tbody tr th {\n",
       "        vertical-align: top;\n",
       "    }\n",
       "\n",
       "    .dataframe thead th {\n",
       "        text-align: right;\n",
       "    }\n",
       "</style>\n",
       "<table border=\"1\" class=\"dataframe\">\n",
       "  <thead>\n",
       "    <tr style=\"text-align: right;\">\n",
       "      <th></th>\n",
       "      <th>utc_ts_milliseconds</th>\n",
       "      <th>user_id</th>\n",
       "      <th>item_id</th>\n",
       "      <th>series_id</th>\n",
       "      <th>episode_number</th>\n",
       "      <th>series_length</th>\n",
       "      <th>item_type</th>\n",
       "      <th>recommendation_id</th>\n",
       "      <th>interaction_type</th>\n",
       "      <th>vision_factor</th>\n",
       "      <th>explicit_rating</th>\n",
       "      <th>date</th>\n",
       "    </tr>\n",
       "  </thead>\n",
       "  <tbody>\n",
       "    <tr>\n",
       "      <th>0</th>\n",
       "      <td>2019-01-07 09:00:04</td>\n",
       "      <td>17094</td>\n",
       "      <td>86576</td>\n",
       "      <td>16187</td>\n",
       "      <td>1</td>\n",
       "      <td>1</td>\n",
       "      <td>movies</td>\n",
       "      <td>272495</td>\n",
       "      <td>details</td>\n",
       "      <td>-1.0</td>\n",
       "      <td>-1.0</td>\n",
       "      <td>2019-01-07</td>\n",
       "    </tr>\n",
       "    <tr>\n",
       "      <th>1</th>\n",
       "      <td>2019-01-07 09:00:07</td>\n",
       "      <td>9011</td>\n",
       "      <td>9614</td>\n",
       "      <td>23832</td>\n",
       "      <td>1</td>\n",
       "      <td>1</td>\n",
       "      <td>movies</td>\n",
       "      <td>-1</td>\n",
       "      <td>details</td>\n",
       "      <td>-1.0</td>\n",
       "      <td>-1.0</td>\n",
       "      <td>2019-01-07</td>\n",
       "    </tr>\n",
       "    <tr>\n",
       "      <th>2</th>\n",
       "      <td>2019-01-07 09:00:22</td>\n",
       "      <td>17094</td>\n",
       "      <td>13926</td>\n",
       "      <td>27394</td>\n",
       "      <td>1</td>\n",
       "      <td>1</td>\n",
       "      <td>movies</td>\n",
       "      <td>8022</td>\n",
       "      <td>details</td>\n",
       "      <td>-1.0</td>\n",
       "      <td>-1.0</td>\n",
       "      <td>2019-01-07</td>\n",
       "    </tr>\n",
       "    <tr>\n",
       "      <th>3</th>\n",
       "      <td>2019-01-07 09:00:26</td>\n",
       "      <td>10478</td>\n",
       "      <td>37741</td>\n",
       "      <td>27655</td>\n",
       "      <td>1</td>\n",
       "      <td>1</td>\n",
       "      <td>movies</td>\n",
       "      <td>-1</td>\n",
       "      <td>details</td>\n",
       "      <td>-1.0</td>\n",
       "      <td>-1.0</td>\n",
       "      <td>2019-01-07</td>\n",
       "    </tr>\n",
       "    <tr>\n",
       "      <th>4</th>\n",
       "      <td>2019-01-07 09:00:48</td>\n",
       "      <td>17094</td>\n",
       "      <td>86576</td>\n",
       "      <td>16187</td>\n",
       "      <td>1</td>\n",
       "      <td>1</td>\n",
       "      <td>movies</td>\n",
       "      <td>272495</td>\n",
       "      <td>details</td>\n",
       "      <td>-1.0</td>\n",
       "      <td>-1.0</td>\n",
       "      <td>2019-01-07</td>\n",
       "    </tr>\n",
       "  </tbody>\n",
       "</table>\n",
       "</div>"
      ],
      "text/plain": [
       "  utc_ts_milliseconds  user_id  item_id  series_id  episode_number  \\\n",
       "0 2019-01-07 09:00:04    17094    86576      16187               1   \n",
       "1 2019-01-07 09:00:07     9011     9614      23832               1   \n",
       "2 2019-01-07 09:00:22    17094    13926      27394               1   \n",
       "3 2019-01-07 09:00:26    10478    37741      27655               1   \n",
       "4 2019-01-07 09:00:48    17094    86576      16187               1   \n",
       "\n",
       "   series_length item_type  recommendation_id interaction_type  vision_factor  \\\n",
       "0              1    movies             272495          details           -1.0   \n",
       "1              1    movies                 -1          details           -1.0   \n",
       "2              1    movies               8022          details           -1.0   \n",
       "3              1    movies                 -1          details           -1.0   \n",
       "4              1    movies             272495          details           -1.0   \n",
       "\n",
       "   explicit_rating        date  \n",
       "0             -1.0  2019-01-07  \n",
       "1             -1.0  2019-01-07  \n",
       "2             -1.0  2019-01-07  \n",
       "3             -1.0  2019-01-07  \n",
       "4             -1.0  2019-01-07  "
      ]
     },
     "execution_count": 6,
     "metadata": {},
     "output_type": "execute_result"
    }
   ],
   "source": [
    "interactions.head()"
   ]
  },
  {
   "cell_type": "markdown",
   "id": "e98e3127",
   "metadata": {},
   "source": [
    "## Duplicates"
   ]
  },
  {
   "cell_type": "code",
   "execution_count": 7,
   "id": "5561cb70",
   "metadata": {
    "ExecuteTime": {
     "end_time": "2023-06-12T19:27:35.250918Z",
     "start_time": "2023-06-12T19:27:34.805051Z"
    }
   },
   "outputs": [
    {
     "data": {
      "text/plain": [
       "(987461, 12)"
      ]
     },
     "execution_count": 7,
     "metadata": {},
     "output_type": "execute_result"
    }
   ],
   "source": [
    "interactions.drop_duplicates().shape"
   ]
  },
  {
   "cell_type": "code",
   "execution_count": 8,
   "id": "6d99d150",
   "metadata": {
    "ExecuteTime": {
     "end_time": "2023-06-12T19:27:35.348995Z",
     "start_time": "2023-06-12T19:27:35.252500Z"
    }
   },
   "outputs": [
    {
     "data": {
      "text/plain": [
       "(697360, 3)"
      ]
     },
     "execution_count": 8,
     "metadata": {},
     "output_type": "execute_result"
    }
   ],
   "source": [
    "interactions[[\"user_id\", \"series_id\", \"interaction_type\"]].drop_duplicates().shape"
   ]
  },
  {
   "cell_type": "code",
   "execution_count": 9,
   "id": "8dab9ebf",
   "metadata": {
    "ExecuteTime": {
     "end_time": "2023-06-12T19:27:35.562090Z",
     "start_time": "2023-06-12T19:27:35.350534Z"
    }
   },
   "outputs": [
    {
     "data": {
      "text/plain": [
       "(838994, 4)"
      ]
     },
     "execution_count": 9,
     "metadata": {},
     "output_type": "execute_result"
    }
   ],
   "source": [
    "interactions[\n",
    "    [\"user_id\", \"series_id\", \"interaction_type\", \"date\"]\n",
    "].drop_duplicates().shape"
   ]
  },
  {
   "cell_type": "markdown",
   "id": "f707e01b",
   "metadata": {},
   "source": [
    "## Features"
   ]
  },
  {
   "cell_type": "markdown",
   "id": "ad157316",
   "metadata": {},
   "source": [
    "### interaction_type"
   ]
  },
  {
   "cell_type": "code",
   "execution_count": 10,
   "id": "52e9e2b8",
   "metadata": {
    "ExecuteTime": {
     "end_time": "2023-06-12T19:27:35.599138Z",
     "start_time": "2023-06-12T19:27:35.563387Z"
    }
   },
   "outputs": [
    {
     "data": {
      "text/plain": [
       "interaction_type\n",
       "views        519179\n",
       "details      389614\n",
       "purchases     71324\n",
       "ratings        7401\n",
       "Name: count, dtype: int64"
      ]
     },
     "execution_count": 10,
     "metadata": {},
     "output_type": "execute_result"
    }
   ],
   "source": [
    "tmp = interactions[\"interaction_type\"].value_counts()\n",
    "tmp"
   ]
  },
  {
   "cell_type": "code",
   "execution_count": 11,
   "id": "be5bef91",
   "metadata": {
    "ExecuteTime": {
     "end_time": "2023-06-12T19:27:35.763554Z",
     "start_time": "2023-06-12T19:27:35.600460Z"
    }
   },
   "outputs": [
    {
     "data": {
      "image/png": "[encoded data removed]",
      "text/plain": [
       "<Figure size 500x300 with 1 Axes>"
      ]
     },
     "metadata": {},
     "output_type": "display_data"
    }
   ],
   "source": [
    "plt.figure(figsize=(5, 3))\n",
    "\n",
    "plt.bar(tmp.index, tmp / interactions.shape[0])\n",
    "\n",
    "plt.show()"
   ]
  },
  {
   "cell_type": "markdown",
   "id": "0e7b1bca",
   "metadata": {},
   "source": [
    "Number of users and items per interaction type:"
   ]
  },
  {
   "cell_type": "code",
   "execution_count": 12,
   "id": "8b3ec324",
   "metadata": {
    "ExecuteTime": {
     "end_time": "2023-06-12T19:27:36.044717Z",
     "start_time": "2023-06-12T19:27:35.767365Z"
    }
   },
   "outputs": [
    {
     "data": {
      "text/html": [
       "<div>\n",
       "<style scoped>\n",
       "    .dataframe tbody tr th:only-of-type {\n",
       "        vertical-align: middle;\n",
       "    }\n",
       "\n",
       "    .dataframe tbody tr th {\n",
       "        vertical-align: top;\n",
       "    }\n",
       "\n",
       "    .dataframe thead th {\n",
       "        text-align: right;\n",
       "    }\n",
       "</style>\n",
       "<table border=\"1\" class=\"dataframe\">\n",
       "  <thead>\n",
       "    <tr style=\"text-align: right;\">\n",
       "      <th></th>\n",
       "      <th>n_users</th>\n",
       "      <th>n_items</th>\n",
       "      <th>n_users (%)</th>\n",
       "      <th>n_items (%)</th>\n",
       "    </tr>\n",
       "    <tr>\n",
       "      <th>interaction_type</th>\n",
       "      <th></th>\n",
       "      <th></th>\n",
       "      <th></th>\n",
       "      <th></th>\n",
       "    </tr>\n",
       "  </thead>\n",
       "  <tbody>\n",
       "    <tr>\n",
       "      <th>details</th>\n",
       "      <td>16637</td>\n",
       "      <td>11351</td>\n",
       "      <td>48.129719</td>\n",
       "      <td>90.691914</td>\n",
       "    </tr>\n",
       "    <tr>\n",
       "      <th>purchases</th>\n",
       "      <td>21469</td>\n",
       "      <td>5021</td>\n",
       "      <td>62.108369</td>\n",
       "      <td>40.116651</td>\n",
       "    </tr>\n",
       "    <tr>\n",
       "      <th>ratings</th>\n",
       "      <td>3534</td>\n",
       "      <td>1726</td>\n",
       "      <td>10.223624</td>\n",
       "      <td>13.790348</td>\n",
       "    </tr>\n",
       "    <tr>\n",
       "      <th>views</th>\n",
       "      <td>32063</td>\n",
       "      <td>10003</td>\n",
       "      <td>92.756097</td>\n",
       "      <td>79.921700</td>\n",
       "    </tr>\n",
       "  </tbody>\n",
       "</table>\n",
       "</div>"
      ],
      "text/plain": [
       "                  n_users  n_items  n_users (%)  n_items (%)\n",
       "interaction_type                                            \n",
       "details             16637    11351    48.129719    90.691914\n",
       "purchases           21469     5021    62.108369    40.116651\n",
       "ratings              3534     1726    10.223624    13.790348\n",
       "views               32063    10003    92.756097    79.921700"
      ]
     },
     "execution_count": 12,
     "metadata": {},
     "output_type": "execute_result"
    }
   ],
   "source": [
    "tmp = interactions.groupby(\"interaction_type\").agg(\n",
    "    {\"user_id\": \"nunique\", \"series_id\": \"nunique\"}\n",
    ")\n",
    "tmp.columns = [\"n_users\", \"n_items\"]\n",
    "tmp[\"n_users (%)\"] = 100 * tmp[\"n_users\"] / interactions[\"user_id\"].nunique()\n",
    "tmp[\"n_items (%)\"] = 100 * tmp[\"n_items\"] / interactions[\"series_id\"].nunique()\n",
    "tmp"
   ]
  },
  {
   "cell_type": "code",
   "execution_count": 13,
   "id": "5bea0f00",
   "metadata": {
    "ExecuteTime": {
     "end_time": "2023-06-12T19:27:36.064358Z",
     "start_time": "2023-06-12T19:27:36.046183Z"
    }
   },
   "outputs": [
    {
     "data": {
      "text/plain": [
       "interaction_type\n",
       "details    62888\n",
       "views      51928\n",
       "Name: count, dtype: int64"
      ]
     },
     "execution_count": 13,
     "metadata": {},
     "output_type": "execute_result"
    }
   ],
   "source": [
    "interactions[interactions[\"recommendation_id\"] != -1][\"interaction_type\"].value_counts()"
   ]
  },
  {
   "cell_type": "markdown",
   "id": "4cc11dad",
   "metadata": {},
   "source": [
    "Some 'views' (around 10%) and 'details' (around 16%) actions come from recommendation slates (via recommendation_id != -1) "
   ]
  },
  {
   "cell_type": "code",
   "execution_count": 14,
   "id": "1390e9d2",
   "metadata": {
    "ExecuteTime": {
     "end_time": "2023-06-12T19:27:36.123926Z",
     "start_time": "2023-06-12T19:27:36.065757Z"
    }
   },
   "outputs": [
    {
     "data": {
      "text/plain": [
       "interaction_type\n",
       "views    519179\n",
       "Name: count, dtype: int64"
      ]
     },
     "execution_count": 14,
     "metadata": {},
     "output_type": "execute_result"
    }
   ],
   "source": [
    "interactions[interactions[\"vision_factor\"] != -1][\"interaction_type\"].value_counts()"
   ]
  },
  {
   "cell_type": "markdown",
   "id": "5eeeb557",
   "metadata": {},
   "source": [
    "All 'views' actions have corresponding vision factor value "
   ]
  },
  {
   "cell_type": "code",
   "execution_count": 15,
   "id": "649b145a",
   "metadata": {
    "ExecuteTime": {
     "end_time": "2023-06-12T19:27:36.134118Z",
     "start_time": "2023-06-12T19:27:36.125268Z"
    }
   },
   "outputs": [
    {
     "data": {
      "text/plain": [
       "interaction_type\n",
       "ratings    7401\n",
       "Name: count, dtype: int64"
      ]
     },
     "execution_count": 15,
     "metadata": {},
     "output_type": "execute_result"
    }
   ],
   "source": [
    "interactions[interactions[\"explicit_rating\"] != -1][\"interaction_type\"].value_counts()"
   ]
  },
  {
   "cell_type": "markdown",
   "id": "66cf0807",
   "metadata": {},
   "source": [
    "All 'ratings' actions have corresponding explicit rating value"
   ]
  },
  {
   "cell_type": "markdown",
   "id": "f73f980e",
   "metadata": {},
   "source": [
    "### user_id"
   ]
  },
  {
   "cell_type": "code",
   "execution_count": 16,
   "id": "6ec9b935",
   "metadata": {
    "ExecuteTime": {
     "end_time": "2023-06-12T19:27:36.143578Z",
     "start_time": "2023-06-12T19:27:36.135573Z"
    }
   },
   "outputs": [
    {
     "name": "stdout",
     "output_type": "stream",
     "text": [
      "# Users: 34567\n"
     ]
    }
   ],
   "source": [
    "print(f\"# Users: {interactions['user_id'].nunique()}\")"
   ]
  },
  {
   "cell_type": "code",
   "execution_count": 17,
   "id": "2dead51a",
   "metadata": {
    "ExecuteTime": {
     "end_time": "2023-06-12T19:27:36.485188Z",
     "start_time": "2023-06-12T19:27:36.145117Z"
    }
   },
   "outputs": [
    {
     "data": {
      "image/png": "[encoded data removed]",
      "text/plain": [
       "<Figure size 500x300 with 1 Axes>"
      ]
     },
     "metadata": {},
     "output_type": "display_data"
    }
   ],
   "source": [
    "plt.figure(figsize=(5, 3))\n",
    "\n",
    "plt.hist(interactions[\"user_id\"].value_counts(), bins=20)\n",
    "plt.yscale(\"log\")\n",
    "plt.xlabel(\"n interactions per user\")\n",
    "\n",
    "plt.show()"
   ]
  },
  {
   "cell_type": "markdown",
   "id": "d2018343",
   "metadata": {},
   "source": [
    "Users' activity per interaction_type:"
   ]
  },
  {
   "cell_type": "code",
   "execution_count": 18,
   "id": "092cb673",
   "metadata": {
    "ExecuteTime": {
     "end_time": "2023-06-12T19:27:37.214811Z",
     "start_time": "2023-06-12T19:27:36.486447Z"
    }
   },
   "outputs": [
    {
     "data": {
      "image/png": "[encoded data removed]",
      "text/plain": [
       "<Figure size 800x400 with 4 Axes>"
      ]
     },
     "metadata": {},
     "output_type": "display_data"
    }
   ],
   "source": [
    "tmp = interactions.groupby([\"interaction_type\", \"user_id\"]).size().reset_index()\n",
    "\n",
    "\n",
    "# Plot\n",
    "fig, axs = plt.subplots(2, 2, figsize=(8, 4))\n",
    "\n",
    "for i, interaction_type in enumerate(tmp[\"interaction_type\"].unique()):\n",
    "    axs[i // 2, i % 2].set_title(interaction_type)\n",
    "    axs[i // 2, i % 2].hist(\n",
    "        tmp.loc[tmp[\"interaction_type\"] == interaction_type, 0], bins=20\n",
    "    )\n",
    "    axs[i // 2, i % 2].set_yscale(\"log\")\n",
    "    axs[i // 2, i % 2].set_xlabel(\"n interactions per user\")\n",
    "\n",
    "plt.tight_layout()\n",
    "plt.show()"
   ]
  },
  {
   "cell_type": "markdown",
   "id": "5db78fa3",
   "metadata": {},
   "source": [
    "Most active users (top10):"
   ]
  },
  {
   "cell_type": "code",
   "execution_count": 19,
   "id": "b1669978",
   "metadata": {
    "ExecuteTime": {
     "end_time": "2023-06-12T19:27:37.443057Z",
     "start_time": "2023-06-12T19:27:37.216270Z"
    }
   },
   "outputs": [
    {
     "data": {
      "text/html": [
       "<div>\n",
       "<style scoped>\n",
       "    .dataframe tbody tr th:only-of-type {\n",
       "        vertical-align: middle;\n",
       "    }\n",
       "\n",
       "    .dataframe tbody tr th {\n",
       "        vertical-align: top;\n",
       "    }\n",
       "\n",
       "    .dataframe thead tr th {\n",
       "        text-align: left;\n",
       "    }\n",
       "</style>\n",
       "<table border=\"1\" class=\"dataframe\">\n",
       "  <thead>\n",
       "    <tr>\n",
       "      <th></th>\n",
       "      <th colspan=\"2\" halign=\"left\">total</th>\n",
       "      <th colspan=\"2\" halign=\"left\">views</th>\n",
       "      <th colspan=\"2\" halign=\"left\">details</th>\n",
       "      <th colspan=\"2\" halign=\"left\">ratings</th>\n",
       "      <th colspan=\"2\" halign=\"left\">purchases</th>\n",
       "    </tr>\n",
       "    <tr>\n",
       "      <th></th>\n",
       "      <th>user_id</th>\n",
       "      <th>count</th>\n",
       "      <th>user_id</th>\n",
       "      <th>count</th>\n",
       "      <th>user_id</th>\n",
       "      <th>count</th>\n",
       "      <th>user_id</th>\n",
       "      <th>count</th>\n",
       "      <th>user_id</th>\n",
       "      <th>count</th>\n",
       "    </tr>\n",
       "  </thead>\n",
       "  <tbody>\n",
       "    <tr>\n",
       "      <th>top1</th>\n",
       "      <td>38381</td>\n",
       "      <td>2604</td>\n",
       "      <td>38381</td>\n",
       "      <td>669</td>\n",
       "      <td>38381</td>\n",
       "      <td>1887</td>\n",
       "      <td>22887</td>\n",
       "      <td>65</td>\n",
       "      <td>36504</td>\n",
       "      <td>88</td>\n",
       "    </tr>\n",
       "    <tr>\n",
       "      <th>top2</th>\n",
       "      <td>4213</td>\n",
       "      <td>1983</td>\n",
       "      <td>35241</td>\n",
       "      <td>558</td>\n",
       "      <td>4213</td>\n",
       "      <td>1580</td>\n",
       "      <td>38381</td>\n",
       "      <td>42</td>\n",
       "      <td>24667</td>\n",
       "      <td>81</td>\n",
       "    </tr>\n",
       "    <tr>\n",
       "      <th>top3</th>\n",
       "      <td>38948</td>\n",
       "      <td>1722</td>\n",
       "      <td>22471</td>\n",
       "      <td>470</td>\n",
       "      <td>38948</td>\n",
       "      <td>1361</td>\n",
       "      <td>19291</td>\n",
       "      <td>35</td>\n",
       "      <td>22887</td>\n",
       "      <td>81</td>\n",
       "    </tr>\n",
       "    <tr>\n",
       "      <th>top4</th>\n",
       "      <td>35241</td>\n",
       "      <td>1658</td>\n",
       "      <td>10252</td>\n",
       "      <td>453</td>\n",
       "      <td>35241</td>\n",
       "      <td>1088</td>\n",
       "      <td>39549</td>\n",
       "      <td>30</td>\n",
       "      <td>19277</td>\n",
       "      <td>70</td>\n",
       "    </tr>\n",
       "    <tr>\n",
       "      <th>top5</th>\n",
       "      <td>30387</td>\n",
       "      <td>1357</td>\n",
       "      <td>40672</td>\n",
       "      <td>450</td>\n",
       "      <td>30387</td>\n",
       "      <td>1077</td>\n",
       "      <td>14839</td>\n",
       "      <td>29</td>\n",
       "      <td>9766</td>\n",
       "      <td>69</td>\n",
       "    </tr>\n",
       "    <tr>\n",
       "      <th>top6</th>\n",
       "      <td>22730</td>\n",
       "      <td>1294</td>\n",
       "      <td>8991</td>\n",
       "      <td>447</td>\n",
       "      <td>22730</td>\n",
       "      <td>1023</td>\n",
       "      <td>20368</td>\n",
       "      <td>27</td>\n",
       "      <td>6200</td>\n",
       "      <td>66</td>\n",
       "    </tr>\n",
       "    <tr>\n",
       "      <th>top7</th>\n",
       "      <td>40672</td>\n",
       "      <td>1290</td>\n",
       "      <td>559</td>\n",
       "      <td>405</td>\n",
       "      <td>40672</td>\n",
       "      <td>827</td>\n",
       "      <td>6630</td>\n",
       "      <td>26</td>\n",
       "      <td>21064</td>\n",
       "      <td>66</td>\n",
       "    </tr>\n",
       "    <tr>\n",
       "      <th>top8</th>\n",
       "      <td>22887</td>\n",
       "      <td>1175</td>\n",
       "      <td>36564</td>\n",
       "      <td>390</td>\n",
       "      <td>3024</td>\n",
       "      <td>816</td>\n",
       "      <td>7604</td>\n",
       "      <td>25</td>\n",
       "      <td>5348</td>\n",
       "      <td>64</td>\n",
       "    </tr>\n",
       "    <tr>\n",
       "      <th>top9</th>\n",
       "      <td>8991</td>\n",
       "      <td>1170</td>\n",
       "      <td>4213</td>\n",
       "      <td>387</td>\n",
       "      <td>10496</td>\n",
       "      <td>811</td>\n",
       "      <td>38582</td>\n",
       "      <td>23</td>\n",
       "      <td>499</td>\n",
       "      <td>62</td>\n",
       "    </tr>\n",
       "    <tr>\n",
       "      <th>top10</th>\n",
       "      <td>9571</td>\n",
       "      <td>1090</td>\n",
       "      <td>9571</td>\n",
       "      <td>368</td>\n",
       "      <td>8399</td>\n",
       "      <td>745</td>\n",
       "      <td>40527</td>\n",
       "      <td>23</td>\n",
       "      <td>8890</td>\n",
       "      <td>59</td>\n",
       "    </tr>\n",
       "  </tbody>\n",
       "</table>\n",
       "</div>"
      ],
      "text/plain": [
       "        total         views       details       ratings       purchases      \n",
       "      user_id count user_id count user_id count user_id count   user_id count\n",
       "top1    38381  2604   38381   669   38381  1887   22887    65     36504    88\n",
       "top2     4213  1983   35241   558    4213  1580   38381    42     24667    81\n",
       "top3    38948  1722   22471   470   38948  1361   19291    35     22887    81\n",
       "top4    35241  1658   10252   453   35241  1088   39549    30     19277    70\n",
       "top5    30387  1357   40672   450   30387  1077   14839    29      9766    69\n",
       "top6    22730  1294    8991   447   22730  1023   20368    27      6200    66\n",
       "top7    40672  1290     559   405   40672   827    6630    26     21064    66\n",
       "top8    22887  1175   36564   390    3024   816    7604    25      5348    64\n",
       "top9     8991  1170    4213   387   10496   811   38582    23       499    62\n",
       "top10    9571  1090    9571   368    8399   745   40527    23      8890    59"
      ]
     },
     "execution_count": 19,
     "metadata": {},
     "output_type": "execute_result"
    }
   ],
   "source": [
    "tmp1 = interactions[\"user_id\"].value_counts()[:10].reset_index()\n",
    "tmp1.columns = pd.MultiIndex.from_product([[\"total\"], tmp1.columns])\n",
    "\n",
    "tmp2 = (\n",
    "    interactions.loc[interactions[\"interaction_type\"] == \"views\", \"user_id\"]\n",
    "    .value_counts()[:10]\n",
    "    .reset_index()\n",
    ")\n",
    "tmp2.columns = pd.MultiIndex.from_product([[\"views\"], tmp2.columns])\n",
    "\n",
    "tmp3 = (\n",
    "    interactions.loc[interactions[\"interaction_type\"] == \"details\", \"user_id\"]\n",
    "    .value_counts()[:10]\n",
    "    .reset_index()\n",
    ")\n",
    "tmp3.columns = pd.MultiIndex.from_product([[\"details\"], tmp3.columns])\n",
    "\n",
    "tmp4 = (\n",
    "    interactions.loc[interactions[\"interaction_type\"] == \"ratings\", \"user_id\"]\n",
    "    .value_counts()[:10]\n",
    "    .reset_index()\n",
    ")\n",
    "tmp4.columns = pd.MultiIndex.from_product([[\"ratings\"], tmp4.columns])\n",
    "\n",
    "tmp5 = (\n",
    "    interactions.loc[interactions[\"interaction_type\"] == \"purchases\", \"user_id\"]\n",
    "    .value_counts()[:10]\n",
    "    .reset_index()\n",
    ")\n",
    "tmp5.columns = pd.MultiIndex.from_product([[\"purchases\"], tmp5.columns])\n",
    "\n",
    "tmp = pd.concat((tmp1, tmp2, tmp3, tmp4, tmp5), axis=1)\n",
    "tmp.index = [f\"top{i}\" for i in range(1, 11)]\n",
    "tmp"
   ]
  },
  {
   "cell_type": "markdown",
   "id": "335eff68",
   "metadata": {},
   "source": [
    "### series_id"
   ]
  },
  {
   "cell_type": "code",
   "execution_count": 22,
   "id": "1b642316",
   "metadata": {
    "ExecuteTime": {
     "end_time": "2023-06-12T19:27:37.454346Z",
     "start_time": "2023-06-12T19:27:37.444573Z"
    }
   },
   "outputs": [
    {
     "name": "stdout",
     "output_type": "stream",
     "text": [
      "# Items: 12516\n"
     ]
    }
   ],
   "source": [
    "print(f\"# Items: {interactions['series_id'].nunique()}\")"
   ]
  },
  {
   "cell_type": "code",
   "execution_count": 23,
   "id": "4ea0738c",
   "metadata": {
    "ExecuteTime": {
     "end_time": "2023-06-12T19:27:37.795204Z",
     "start_time": "2023-06-12T19:27:37.455872Z"
    }
   },
   "outputs": [
    {
     "data": {
      "image/png": "[encoded data removed]",
      "text/plain": [
       "<Figure size 500x300 with 1 Axes>"
      ]
     },
     "metadata": {},
     "output_type": "display_data"
    }
   ],
   "source": [
    "plt.figure(figsize=(5, 3))\n",
    "\n",
    "plt.hist(interactions[\"series_id\"].value_counts(), bins=20)\n",
    "plt.yscale(\"log\")\n",
    "plt.xlabel(\"n interactions per item\")\n",
    "\n",
    "plt.show()"
   ]
  },
  {
   "cell_type": "markdown",
   "id": "448110dd",
   "metadata": {},
   "source": [
    "Items' activity per interaction_type:"
   ]
  },
  {
   "cell_type": "code",
   "execution_count": 24,
   "id": "245cebbb",
   "metadata": {
    "ExecuteTime": {
     "end_time": "2023-06-12T19:27:38.517975Z",
     "start_time": "2023-06-12T19:27:37.796690Z"
    }
   },
   "outputs": [
    {
     "data": {
      "image/png": "[encoded data removed]",
      "text/plain": [
       "<Figure size 800x400 with 4 Axes>"
      ]
     },
     "metadata": {},
     "output_type": "display_data"
    }
   ],
   "source": [
    "tmp = interactions.groupby([\"interaction_type\", \"series_id\"]).size().reset_index()\n",
    "\n",
    "\n",
    "# Plot\n",
    "fig, axs = plt.subplots(2, 2, figsize=(8, 4))\n",
    "\n",
    "for i, interaction_type in enumerate(tmp[\"interaction_type\"].unique()):\n",
    "    axs[i // 2, i % 2].set_title(interaction_type)\n",
    "    axs[i // 2, i % 2].hist(\n",
    "        tmp.loc[tmp[\"interaction_type\"] == interaction_type, 0], bins=20\n",
    "    )\n",
    "    axs[i // 2, i % 2].set_yscale(\"log\")\n",
    "    axs[i // 2, i % 2].set_xlabel(\"n interactions per item\")\n",
    "\n",
    "plt.tight_layout()\n",
    "plt.show()"
   ]
  },
  {
   "cell_type": "markdown",
   "id": "859a7f65",
   "metadata": {},
   "source": [
    "Most active items (top10):"
   ]
  },
  {
   "cell_type": "code",
   "execution_count": 25,
   "id": "82529366",
   "metadata": {
    "ExecuteTime": {
     "end_time": "2023-06-12T19:27:38.736328Z",
     "start_time": "2023-06-12T19:27:38.519540Z"
    }
   },
   "outputs": [
    {
     "data": {
      "text/html": [
       "<div>\n",
       "<style scoped>\n",
       "    .dataframe tbody tr th:only-of-type {\n",
       "        vertical-align: middle;\n",
       "    }\n",
       "\n",
       "    .dataframe tbody tr th {\n",
       "        vertical-align: top;\n",
       "    }\n",
       "\n",
       "    .dataframe thead tr th {\n",
       "        text-align: left;\n",
       "    }\n",
       "</style>\n",
       "<table border=\"1\" class=\"dataframe\">\n",
       "  <thead>\n",
       "    <tr>\n",
       "      <th></th>\n",
       "      <th colspan=\"2\" halign=\"left\">total</th>\n",
       "      <th colspan=\"2\" halign=\"left\">views</th>\n",
       "      <th colspan=\"2\" halign=\"left\">details</th>\n",
       "      <th colspan=\"2\" halign=\"left\">ratings</th>\n",
       "      <th colspan=\"2\" halign=\"left\">purchases</th>\n",
       "    </tr>\n",
       "    <tr>\n",
       "      <th></th>\n",
       "      <th>series_id</th>\n",
       "      <th>count</th>\n",
       "      <th>series_id</th>\n",
       "      <th>count</th>\n",
       "      <th>series_id</th>\n",
       "      <th>count</th>\n",
       "      <th>series_id</th>\n",
       "      <th>count</th>\n",
       "      <th>series_id</th>\n",
       "      <th>count</th>\n",
       "    </tr>\n",
       "  </thead>\n",
       "  <tbody>\n",
       "    <tr>\n",
       "      <th>top1</th>\n",
       "      <td>15641</td>\n",
       "      <td>15644</td>\n",
       "      <td>15641</td>\n",
       "      <td>7423</td>\n",
       "      <td>15641</td>\n",
       "      <td>5032</td>\n",
       "      <td>15641</td>\n",
       "      <td>193</td>\n",
       "      <td>15641</td>\n",
       "      <td>2996</td>\n",
       "    </tr>\n",
       "    <tr>\n",
       "      <th>top2</th>\n",
       "      <td>9026</td>\n",
       "      <td>11570</td>\n",
       "      <td>5101</td>\n",
       "      <td>5107</td>\n",
       "      <td>9026</td>\n",
       "      <td>4122</td>\n",
       "      <td>9026</td>\n",
       "      <td>135</td>\n",
       "      <td>9026</td>\n",
       "      <td>2805</td>\n",
       "    </tr>\n",
       "    <tr>\n",
       "      <th>top3</th>\n",
       "      <td>5101</td>\n",
       "      <td>10795</td>\n",
       "      <td>20721</td>\n",
       "      <td>4682</td>\n",
       "      <td>5101</td>\n",
       "      <td>3511</td>\n",
       "      <td>5101</td>\n",
       "      <td>114</td>\n",
       "      <td>5101</td>\n",
       "      <td>2063</td>\n",
       "    </tr>\n",
       "    <tr>\n",
       "      <th>top4</th>\n",
       "      <td>466</td>\n",
       "      <td>8022</td>\n",
       "      <td>9026</td>\n",
       "      <td>4508</td>\n",
       "      <td>20721</td>\n",
       "      <td>3092</td>\n",
       "      <td>18398</td>\n",
       "      <td>102</td>\n",
       "      <td>466</td>\n",
       "      <td>1609</td>\n",
       "    </tr>\n",
       "    <tr>\n",
       "      <th>top5</th>\n",
       "      <td>20721</td>\n",
       "      <td>7863</td>\n",
       "      <td>23451</td>\n",
       "      <td>3871</td>\n",
       "      <td>16966</td>\n",
       "      <td>2862</td>\n",
       "      <td>16966</td>\n",
       "      <td>98</td>\n",
       "      <td>22607</td>\n",
       "      <td>1582</td>\n",
       "    </tr>\n",
       "    <tr>\n",
       "      <th>top6</th>\n",
       "      <td>16966</td>\n",
       "      <td>7772</td>\n",
       "      <td>16966</td>\n",
       "      <td>3679</td>\n",
       "      <td>466</td>\n",
       "      <td>2681</td>\n",
       "      <td>325</td>\n",
       "      <td>97</td>\n",
       "      <td>18972</td>\n",
       "      <td>1453</td>\n",
       "    </tr>\n",
       "    <tr>\n",
       "      <th>top7</th>\n",
       "      <td>22607</td>\n",
       "      <td>7191</td>\n",
       "      <td>466</td>\n",
       "      <td>3679</td>\n",
       "      <td>22607</td>\n",
       "      <td>2560</td>\n",
       "      <td>18972</td>\n",
       "      <td>96</td>\n",
       "      <td>16966</td>\n",
       "      <td>1133</td>\n",
       "    </tr>\n",
       "    <tr>\n",
       "      <th>top8</th>\n",
       "      <td>18398</td>\n",
       "      <td>7185</td>\n",
       "      <td>325</td>\n",
       "      <td>3655</td>\n",
       "      <td>17345</td>\n",
       "      <td>2462</td>\n",
       "      <td>23451</td>\n",
       "      <td>92</td>\n",
       "      <td>18398</td>\n",
       "      <td>1069</td>\n",
       "    </tr>\n",
       "    <tr>\n",
       "      <th>top9</th>\n",
       "      <td>23451</td>\n",
       "      <td>6730</td>\n",
       "      <td>18398</td>\n",
       "      <td>3574</td>\n",
       "      <td>18398</td>\n",
       "      <td>2440</td>\n",
       "      <td>23080</td>\n",
       "      <td>87</td>\n",
       "      <td>10729</td>\n",
       "      <td>1060</td>\n",
       "    </tr>\n",
       "    <tr>\n",
       "      <th>top10</th>\n",
       "      <td>23080</td>\n",
       "      <td>6573</td>\n",
       "      <td>19911</td>\n",
       "      <td>3454</td>\n",
       "      <td>23080</td>\n",
       "      <td>2333</td>\n",
       "      <td>1842</td>\n",
       "      <td>87</td>\n",
       "      <td>11180</td>\n",
       "      <td>1050</td>\n",
       "    </tr>\n",
       "  </tbody>\n",
       "</table>\n",
       "</div>"
      ],
      "text/plain": [
       "          total            views         details         ratings        \\\n",
       "      series_id  count series_id count series_id count series_id count   \n",
       "top1      15641  15644     15641  7423     15641  5032     15641   193   \n",
       "top2       9026  11570      5101  5107      9026  4122      9026   135   \n",
       "top3       5101  10795     20721  4682      5101  3511      5101   114   \n",
       "top4        466   8022      9026  4508     20721  3092     18398   102   \n",
       "top5      20721   7863     23451  3871     16966  2862     16966    98   \n",
       "top6      16966   7772     16966  3679       466  2681       325    97   \n",
       "top7      22607   7191       466  3679     22607  2560     18972    96   \n",
       "top8      18398   7185       325  3655     17345  2462     23451    92   \n",
       "top9      23451   6730     18398  3574     18398  2440     23080    87   \n",
       "top10     23080   6573     19911  3454     23080  2333      1842    87   \n",
       "\n",
       "      purchases        \n",
       "      series_id count  \n",
       "top1      15641  2996  \n",
       "top2       9026  2805  \n",
       "top3       5101  2063  \n",
       "top4        466  1609  \n",
       "top5      22607  1582  \n",
       "top6      18972  1453  \n",
       "top7      16966  1133  \n",
       "top8      18398  1069  \n",
       "top9      10729  1060  \n",
       "top10     11180  1050  "
      ]
     },
     "execution_count": 25,
     "metadata": {},
     "output_type": "execute_result"
    }
   ],
   "source": [
    "tmp1 = interactions[\"series_id\"].value_counts()[:10].reset_index()\n",
    "tmp1.columns = pd.MultiIndex.from_product([[\"total\"], tmp1.columns])\n",
    "\n",
    "tmp2 = (\n",
    "    interactions.loc[interactions[\"interaction_type\"] == \"views\", \"series_id\"]\n",
    "    .value_counts()[:10]\n",
    "    .reset_index()\n",
    ")\n",
    "tmp2.columns = pd.MultiIndex.from_product([[\"views\"], tmp2.columns])\n",
    "\n",
    "tmp3 = (\n",
    "    interactions.loc[interactions[\"interaction_type\"] == \"details\", \"series_id\"]\n",
    "    .value_counts()[:10]\n",
    "    .reset_index()\n",
    ")\n",
    "tmp3.columns = pd.MultiIndex.from_product([[\"details\"], tmp3.columns])\n",
    "\n",
    "tmp4 = (\n",
    "    interactions.loc[interactions[\"interaction_type\"] == \"ratings\", \"series_id\"]\n",
    "    .value_counts()[:10]\n",
    "    .reset_index()\n",
    ")\n",
    "tmp4.columns = pd.MultiIndex.from_product([[\"ratings\"], tmp4.columns])\n",
    "\n",
    "tmp5 = (\n",
    "    interactions.loc[interactions[\"interaction_type\"] == \"purchases\", \"series_id\"]\n",
    "    .value_counts()[:10]\n",
    "    .reset_index()\n",
    ")\n",
    "tmp5.columns = pd.MultiIndex.from_product([[\"purchases\"], tmp5.columns])\n",
    "\n",
    "tmp = pd.concat((tmp1, tmp2, tmp3, tmp4, tmp5), axis=1)\n",
    "tmp.index = [f\"top{i}\" for i in range(1, 11)]\n",
    "tmp"
   ]
  },
  {
   "cell_type": "markdown",
   "id": "4f0ab719",
   "metadata": {},
   "source": [
    "### vision_factor"
   ]
  },
  {
   "cell_type": "markdown",
   "id": "5e8e7538",
   "metadata": {},
   "source": [
    "Check whether all rows indicating clicked item are fullfiled with vision_factor"
   ]
  },
  {
   "cell_type": "code",
   "execution_count": 26,
   "id": "02101230",
   "metadata": {
    "ExecuteTime": {
     "end_time": "2023-06-12T19:27:38.788388Z",
     "start_time": "2023-06-12T19:27:38.737751Z"
    }
   },
   "outputs": [
    {
     "data": {
      "text/plain": [
       "True"
      ]
     },
     "execution_count": 26,
     "metadata": {},
     "output_type": "execute_result"
    }
   ],
   "source": [
    "(interactions[\"interaction_type\"] == \"views\").sum() == (\n",
    "    interactions[\"vision_factor\"] != -1\n",
    ").sum()"
   ]
  },
  {
   "cell_type": "code",
   "execution_count": 27,
   "id": "6b27a0f6",
   "metadata": {
    "ExecuteTime": {
     "end_time": "2023-06-12T19:27:38.801244Z",
     "start_time": "2023-06-12T19:27:38.789577Z"
    }
   },
   "outputs": [
    {
     "data": {
      "text/plain": [
       "vision_factor\n",
       "-1.00    468339\n",
       " 1.00    137971\n",
       " 0.97     35156\n",
       " 0.98     30238\n",
       " 0.96     24559\n",
       "          ...  \n",
       " 0.79      1532\n",
       " 0.75      1516\n",
       " 0.74      1513\n",
       " 0.85      1501\n",
       " 0.77      1491\n",
       "Name: count, Length: 101, dtype: int64"
      ]
     },
     "execution_count": 27,
     "metadata": {},
     "output_type": "execute_result"
    }
   ],
   "source": [
    "interactions[\"vision_factor\"].value_counts()"
   ]
  },
  {
   "cell_type": "code",
   "execution_count": 28,
   "id": "e783b5a3",
   "metadata": {
    "ExecuteTime": {
     "end_time": "2023-06-12T19:27:38.928882Z",
     "start_time": "2023-06-12T19:27:38.802626Z"
    }
   },
   "outputs": [
    {
     "data": {
      "image/png": "[encoded data removed]",
      "text/plain": [
       "<Figure size 500x300 with 1 Axes>"
      ]
     },
     "metadata": {},
     "output_type": "display_data"
    }
   ],
   "source": [
    "plt.figure(figsize=(5, 3))\n",
    "\n",
    "plt.hist(\n",
    "    interactions.loc[interactions[\"vision_factor\"] != -1, \"vision_factor\"], bins=20\n",
    ")\n",
    "plt.xlabel(\"vision_factor\")\n",
    "\n",
    "plt.show()"
   ]
  },
  {
   "cell_type": "markdown",
   "id": "0c493138",
   "metadata": {},
   "source": [
    "### explicit_rating"
   ]
  },
  {
   "cell_type": "markdown",
   "id": "4cc84374",
   "metadata": {},
   "source": [
    "Check if all rows indicating rated item are really fullfiled explicit_rating"
   ]
  },
  {
   "cell_type": "code",
   "execution_count": 29,
   "id": "2fb9cef2",
   "metadata": {
    "ExecuteTime": {
     "end_time": "2023-06-12T19:27:38.983626Z",
     "start_time": "2023-06-12T19:27:38.930455Z"
    }
   },
   "outputs": [
    {
     "data": {
      "text/plain": [
       "True"
      ]
     },
     "execution_count": 29,
     "metadata": {},
     "output_type": "execute_result"
    }
   ],
   "source": [
    "(interactions[\"interaction_type\"] == \"ratings\").sum() == (\n",
    "    interactions[\"explicit_rating\"] != -1\n",
    ").sum()"
   ]
  },
  {
   "cell_type": "code",
   "execution_count": 30,
   "id": "2121f939",
   "metadata": {
    "ExecuteTime": {
     "end_time": "2023-06-12T19:27:38.997391Z",
     "start_time": "2023-06-12T19:27:38.984788Z"
    }
   },
   "outputs": [
    {
     "data": {
      "text/plain": [
       "explicit_rating\n",
       "-1.0    980117\n",
       " 0.5       192\n",
       " 1.0       105\n",
       " 1.5        59\n",
       " 2.0       145\n",
       " 2.5       120\n",
       " 3.0      2938\n",
       " 3.5       478\n",
       " 4.0      1038\n",
       " 4.5       518\n",
       " 5.0      1808\n",
       "Name: count, dtype: int64"
      ]
     },
     "execution_count": 30,
     "metadata": {},
     "output_type": "execute_result"
    }
   ],
   "source": [
    "tmp = interactions[\"explicit_rating\"].value_counts().sort_index()\n",
    "tmp"
   ]
  },
  {
   "cell_type": "code",
   "execution_count": 31,
   "id": "287ee065",
   "metadata": {
    "ExecuteTime": {
     "end_time": "2023-06-12T19:27:39.143416Z",
     "start_time": "2023-06-12T19:27:38.998980Z"
    }
   },
   "outputs": [
    {
     "data": {
      "image/png": "[encoded data removed]",
      "text/plain": [
       "<Figure size 500x300 with 1 Axes>"
      ]
     },
     "metadata": {},
     "output_type": "display_data"
    }
   ],
   "source": [
    "plt.figure(figsize=(5, 3))\n",
    "\n",
    "plt.bar(\n",
    "    list(tmp.index[1:]),\n",
    "    tmp.iloc[1:] / (interactions[\"explicit_rating\"] != -1).sum(),\n",
    "    width=0.2,\n",
    ")\n",
    "\n",
    "plt.show()"
   ]
  },
  {
   "cell_type": "markdown",
   "id": "03b89ea2",
   "metadata": {},
   "source": [
    "## Stats per day"
   ]
  },
  {
   "cell_type": "markdown",
   "id": "bfc6bab0",
   "metadata": {},
   "source": [
    "### Basic statistics"
   ]
  },
  {
   "cell_type": "code",
   "execution_count": 32,
   "id": "14c34be7",
   "metadata": {
    "ExecuteTime": {
     "end_time": "2023-06-12T19:27:39.567211Z",
     "start_time": "2023-06-12T19:27:39.147604Z"
    }
   },
   "outputs": [
    {
     "name": "stderr",
     "output_type": "stream",
     "text": [
      "/tmp/ipykernel_37004/1842013794.py:6: FutureWarning: Series.__getitem__ treating keys as positions is deprecated. In a future version, integer keys will always be treated as labels (consistent with DataFrame behavior). To access a value by position, use `ser.iloc[pos]`\n",
      "  all_prev_users = users_per_day[0]\n",
      "/tmp/ipykernel_37004/1842013794.py:8: FutureWarning: Series.__getitem__ treating keys as positions is deprecated. In a future version, integer keys will always be treated as labels (consistent with DataFrame behavior). To access a value by position, use `ser.iloc[pos]`\n",
      "  all_prev_items = items_per_day[0]\n"
     ]
    }
   ],
   "source": [
    "# Compute new users and items in each day (new user/item means user/item that didn't appear in the past)\n",
    "\n",
    "users_per_day = interactions.groupby(\"date\")[\"user_id\"].unique()\n",
    "items_per_day = interactions.groupby(\"date\")[\"series_id\"].unique()\n",
    "\n",
    "all_prev_users = users_per_day[0]\n",
    "n_new_users = [all_prev_users.size]\n",
    "all_prev_items = items_per_day[0]\n",
    "n_new_items = [all_prev_items.size]\n",
    "\n",
    "for users in users_per_day[1:]:\n",
    "    new_users = np.setdiff1d(users, all_prev_users)\n",
    "    n_new_users.append(new_users.size)\n",
    "    all_prev_users = np.union1d(all_prev_users, users)\n",
    "\n",
    "for items in items_per_day[1:]:\n",
    "    new_items = np.setdiff1d(items, all_prev_items)\n",
    "    n_new_items.append(new_items.size)\n",
    "    all_prev_items = np.union1d(all_prev_items, items)"
   ]
  },
  {
   "cell_type": "code",
   "execution_count": 33,
   "id": "4d0dbdb1",
   "metadata": {
    "ExecuteTime": {
     "end_time": "2023-06-12T19:27:40.182697Z",
     "start_time": "2023-06-12T19:27:39.568524Z"
    },
    "scrolled": false
   },
   "outputs": [
    {
     "data": {
      "text/html": [
       "<div>\n",
       "<style scoped>\n",
       "    .dataframe tbody tr th:only-of-type {\n",
       "        vertical-align: middle;\n",
       "    }\n",
       "\n",
       "    .dataframe tbody tr th {\n",
       "        vertical-align: top;\n",
       "    }\n",
       "\n",
       "    .dataframe thead th {\n",
       "        text-align: right;\n",
       "    }\n",
       "</style>\n",
       "<table border=\"1\" class=\"dataframe\">\n",
       "  <thead>\n",
       "    <tr style=\"text-align: right;\">\n",
       "      <th></th>\n",
       "      <th>n_users</th>\n",
       "      <th>n_items</th>\n",
       "      <th>n_actions</th>\n",
       "      <th>n_views</th>\n",
       "      <th>n_details</th>\n",
       "      <th>n_ratings</th>\n",
       "      <th>n_purchases</th>\n",
       "      <th>n_new_users</th>\n",
       "      <th>n_new_items</th>\n",
       "    </tr>\n",
       "    <tr>\n",
       "      <th>date</th>\n",
       "      <th></th>\n",
       "      <th></th>\n",
       "      <th></th>\n",
       "      <th></th>\n",
       "      <th></th>\n",
       "      <th></th>\n",
       "      <th></th>\n",
       "      <th></th>\n",
       "      <th></th>\n",
       "    </tr>\n",
       "  </thead>\n",
       "  <tbody>\n",
       "    <tr>\n",
       "      <th>2019-01-07</th>\n",
       "      <td>2108</td>\n",
       "      <td>1514</td>\n",
       "      <td>6591</td>\n",
       "      <td>3225</td>\n",
       "      <td>2918</td>\n",
       "      <td>48</td>\n",
       "      <td>400</td>\n",
       "      <td>2108</td>\n",
       "      <td>1514</td>\n",
       "    </tr>\n",
       "    <tr>\n",
       "      <th>2019-01-08</th>\n",
       "      <td>2479</td>\n",
       "      <td>1552</td>\n",
       "      <td>7352</td>\n",
       "      <td>3770</td>\n",
       "      <td>3061</td>\n",
       "      <td>68</td>\n",
       "      <td>453</td>\n",
       "      <td>1722</td>\n",
       "      <td>746</td>\n",
       "    </tr>\n",
       "    <tr>\n",
       "      <th>2019-01-09</th>\n",
       "      <td>2546</td>\n",
       "      <td>1549</td>\n",
       "      <td>7226</td>\n",
       "      <td>3799</td>\n",
       "      <td>2954</td>\n",
       "      <td>52</td>\n",
       "      <td>421</td>\n",
       "      <td>1382</td>\n",
       "      <td>546</td>\n",
       "    </tr>\n",
       "    <tr>\n",
       "      <th>2019-01-10</th>\n",
       "      <td>2402</td>\n",
       "      <td>1572</td>\n",
       "      <td>7210</td>\n",
       "      <td>3721</td>\n",
       "      <td>3039</td>\n",
       "      <td>64</td>\n",
       "      <td>386</td>\n",
       "      <td>1061</td>\n",
       "      <td>483</td>\n",
       "    </tr>\n",
       "    <tr>\n",
       "      <th>2019-01-11</th>\n",
       "      <td>2855</td>\n",
       "      <td>1613</td>\n",
       "      <td>8373</td>\n",
       "      <td>4367</td>\n",
       "      <td>3397</td>\n",
       "      <td>68</td>\n",
       "      <td>541</td>\n",
       "      <td>1231</td>\n",
       "      <td>418</td>\n",
       "    </tr>\n",
       "    <tr>\n",
       "      <th>...</th>\n",
       "      <td>...</td>\n",
       "      <td>...</td>\n",
       "      <td>...</td>\n",
       "      <td>...</td>\n",
       "      <td>...</td>\n",
       "      <td>...</td>\n",
       "      <td>...</td>\n",
       "      <td>...</td>\n",
       "      <td>...</td>\n",
       "    </tr>\n",
       "    <tr>\n",
       "      <th>2019-04-11</th>\n",
       "      <td>2489</td>\n",
       "      <td>1606</td>\n",
       "      <td>7504</td>\n",
       "      <td>4173</td>\n",
       "      <td>2872</td>\n",
       "      <td>54</td>\n",
       "      <td>405</td>\n",
       "      <td>40</td>\n",
       "      <td>35</td>\n",
       "    </tr>\n",
       "    <tr>\n",
       "      <th>2019-04-12</th>\n",
       "      <td>2813</td>\n",
       "      <td>1733</td>\n",
       "      <td>8448</td>\n",
       "      <td>4571</td>\n",
       "      <td>3307</td>\n",
       "      <td>52</td>\n",
       "      <td>518</td>\n",
       "      <td>66</td>\n",
       "      <td>33</td>\n",
       "    </tr>\n",
       "    <tr>\n",
       "      <th>2019-04-13</th>\n",
       "      <td>4005</td>\n",
       "      <td>2283</td>\n",
       "      <td>13089</td>\n",
       "      <td>6896</td>\n",
       "      <td>5185</td>\n",
       "      <td>77</td>\n",
       "      <td>931</td>\n",
       "      <td>98</td>\n",
       "      <td>47</td>\n",
       "    </tr>\n",
       "    <tr>\n",
       "      <th>2019-04-14</th>\n",
       "      <td>4275</td>\n",
       "      <td>2391</td>\n",
       "      <td>13718</td>\n",
       "      <td>7533</td>\n",
       "      <td>5110</td>\n",
       "      <td>105</td>\n",
       "      <td>970</td>\n",
       "      <td>113</td>\n",
       "      <td>37</td>\n",
       "    </tr>\n",
       "    <tr>\n",
       "      <th>2019-04-15</th>\n",
       "      <td>695</td>\n",
       "      <td>726</td>\n",
       "      <td>1654</td>\n",
       "      <td>932</td>\n",
       "      <td>637</td>\n",
       "      <td>21</td>\n",
       "      <td>64</td>\n",
       "      <td>8</td>\n",
       "      <td>9</td>\n",
       "    </tr>\n",
       "  </tbody>\n",
       "</table>\n",
       "<p>99 rows × 9 columns</p>\n",
       "</div>"
      ],
      "text/plain": [
       "            n_users  n_items  n_actions  n_views  n_details  n_ratings  \\\n",
       "date                                                                     \n",
       "2019-01-07     2108     1514       6591     3225       2918         48   \n",
       "2019-01-08     2479     1552       7352     3770       3061         68   \n",
       "2019-01-09     2546     1549       7226     3799       2954         52   \n",
       "2019-01-10     2402     1572       7210     3721       3039         64   \n",
       "2019-01-11     2855     1613       8373     4367       3397         68   \n",
       "...             ...      ...        ...      ...        ...        ...   \n",
       "2019-04-11     2489     1606       7504     4173       2872         54   \n",
       "2019-04-12     2813     1733       8448     4571       3307         52   \n",
       "2019-04-13     4005     2283      13089     6896       5185         77   \n",
       "2019-04-14     4275     2391      13718     7533       5110        105   \n",
       "2019-04-15      695      726       1654      932        637         21   \n",
       "\n",
       "            n_purchases  n_new_users  n_new_items  \n",
       "date                                               \n",
       "2019-01-07          400         2108         1514  \n",
       "2019-01-08          453         1722          746  \n",
       "2019-01-09          421         1382          546  \n",
       "2019-01-10          386         1061          483  \n",
       "2019-01-11          541         1231          418  \n",
       "...                 ...          ...          ...  \n",
       "2019-04-11          405           40           35  \n",
       "2019-04-12          518           66           33  \n",
       "2019-04-13          931           98           47  \n",
       "2019-04-14          970          113           37  \n",
       "2019-04-15           64            8            9  \n",
       "\n",
       "[99 rows x 9 columns]"
      ]
     },
     "execution_count": 33,
     "metadata": {},
     "output_type": "execute_result"
    }
   ],
   "source": [
    "# Stats per day\n",
    "\n",
    "views_per_day = (\n",
    "    interactions[interactions[\"interaction_type\"] == \"views\"].groupby(\"date\").size()\n",
    ")\n",
    "details_per_day = (\n",
    "    interactions[interactions[\"interaction_type\"] == \"details\"].groupby(\"date\").size()\n",
    ")\n",
    "ratings_per_day = (\n",
    "    interactions[interactions[\"interaction_type\"] == \"ratings\"].groupby(\"date\").size()\n",
    ")\n",
    "purchases_per_day = (\n",
    "    interactions[interactions[\"interaction_type\"] == \"purchases\"].groupby(\"date\").size()\n",
    ")\n",
    "\n",
    "stats_per_day = interactions.groupby(\"date\").agg(\n",
    "    {\"user_id\": \"nunique\", \"series_id\": \"nunique\", \"utc_ts_milliseconds\": \"count\"},\n",
    ")\n",
    "stats_per_day.columns = [\"n_users\", \"n_items\", \"n_actions\"]\n",
    "\n",
    "stats_per_day[\"n_views\"] = views_per_day\n",
    "stats_per_day[\"n_details\"] = details_per_day\n",
    "stats_per_day[\"n_ratings\"] = ratings_per_day\n",
    "stats_per_day[\"n_purchases\"] = purchases_per_day\n",
    "\n",
    "stats_per_day[\"n_new_users\"] = n_new_users\n",
    "stats_per_day[\"n_new_items\"] = n_new_items\n",
    "\n",
    "stats_per_day"
   ]
  },
  {
   "cell_type": "code",
   "execution_count": 34,
   "id": "47013f7d",
   "metadata": {
    "ExecuteTime": {
     "end_time": "2023-06-12T19:27:40.847279Z",
     "start_time": "2023-06-12T19:27:40.183988Z"
    }
   },
   "outputs": [
    {
     "data": {
      "image/png": "[encoded data removed]",
      "text/plain": [
       "<Figure size 800x600 with 3 Axes>"
      ]
     },
     "metadata": {},
     "output_type": "display_data"
    }
   ],
   "source": [
    "fig, axs = plt.subplots(3, 1, figsize=(8, 6), sharex=True)\n",
    "\n",
    "axs[0].plot(stats_per_day[[\"n_users\", \"n_items\"]])\n",
    "axs[0].legend([\"n_users\", \"n_items\"], fontsize=8)\n",
    "axs[0].grid(linestyle=\"--\")\n",
    "\n",
    "axs[1].plot(stats_per_day[[\"n_new_users\", \"n_new_items\"]])\n",
    "axs[1].legend([\"n_new_users\", \"n_new_items\"], fontsize=8)\n",
    "axs[1].grid(linestyle=\"--\")\n",
    "\n",
    "axs[2].plot(\n",
    "    stats_per_day[[\"n_actions\", \"n_views\", \"n_details\", \"n_ratings\", \"n_purchases\"]]\n",
    ")\n",
    "axs[2].legend(\n",
    "    [\"n_actions\", \"n_views\", \"n_details\", \"n_ratings\", \"n_purchases\"], fontsize=8\n",
    ")\n",
    "axs[2].grid(linestyle=\"--\")\n",
    "\n",
    "plt.tight_layout()\n",
    "plt.show()"
   ]
  },
  {
   "cell_type": "markdown",
   "id": "fc92d989",
   "metadata": {},
   "source": [
    "### 10 most and least active users per day (all interactions)"
   ]
  },
  {
   "cell_type": "code",
   "execution_count": 35,
   "id": "2023898c",
   "metadata": {
    "ExecuteTime": {
     "end_time": "2023-06-12T19:27:41.441606Z",
     "start_time": "2023-06-12T19:27:40.848526Z"
    }
   },
   "outputs": [
    {
     "data": {
      "image/png": "[encoded data removed]",
      "text/plain": [
       "<Figure size 1000x400 with 4 Axes>"
      ]
     },
     "metadata": {},
     "output_type": "display_data"
    }
   ],
   "source": [
    "tmp = interactions.pivot_table(\"series_id\", \"user_id\", \"date\", aggfunc=\"count\").fillna(\n",
    "    0\n",
    ")\n",
    "\n",
    "most_active_10_users = tmp.sum(axis=1).sort_values(ascending=False).index[:10]\n",
    "tmp1 = tmp.loc[most_active_10_users, :].to_numpy()\n",
    "least_active_10_users = tmp.sum(axis=1).sort_values(ascending=True).index[:10]\n",
    "tmp2 = tmp.loc[least_active_10_users, :].to_numpy()\n",
    "\n",
    "fig, axs = plt.subplots(2, 1, figsize=(10, 4))\n",
    "\n",
    "axs[0].set_title(\"Most active 10 users (n interactions per day)\")\n",
    "c = axs[0].imshow(tmp1, cmap=\"hot\", aspect=\"auto\")\n",
    "plt.colorbar(c, ax=axs[0])\n",
    "axs[0].set_xlabel(\"time/day\")\n",
    "axs[0].set_ylabel(\"artificial user_id\")\n",
    "\n",
    "axs[1].set_title(\"Least active 10 users (n interactions per day)\")\n",
    "c = axs[1].imshow(tmp2, cmap=\"hot\", aspect=\"auto\")\n",
    "plt.colorbar(c, ax=axs[1])\n",
    "axs[1].set_xlabel(\"time/day\")\n",
    "axs[1].set_ylabel(\"artificial user_id\")\n",
    "\n",
    "plt.tight_layout()\n",
    "plt.show()"
   ]
  },
  {
   "cell_type": "markdown",
   "id": "2a24295d",
   "metadata": {},
   "source": [
    "### 10 most and least active items per day (all interactions)"
   ]
  },
  {
   "cell_type": "code",
   "execution_count": 36,
   "id": "8d0f56f8",
   "metadata": {
    "ExecuteTime": {
     "end_time": "2023-06-12T19:27:41.949226Z",
     "start_time": "2023-06-12T19:27:41.442799Z"
    }
   },
   "outputs": [
    {
     "data": {
      "image/png": "[encoded data removed]",
      "text/plain": [
       "<Figure size 1000x400 with 4 Axes>"
      ]
     },
     "metadata": {},
     "output_type": "display_data"
    }
   ],
   "source": [
    "tmp = interactions.pivot_table(\"user_id\", \"series_id\", \"date\", aggfunc=\"count\").fillna(\n",
    "    0\n",
    ")\n",
    "\n",
    "most_active_10_items = tmp.sum(axis=1).sort_values(ascending=False).index[:10]\n",
    "tmp1 = tmp.loc[most_active_10_items, :].to_numpy()\n",
    "least_active_10_items = tmp.sum(axis=1).sort_values(ascending=True).index[:10]\n",
    "tmp2 = tmp.loc[least_active_10_items, :].to_numpy()\n",
    "\n",
    "fig, axs = plt.subplots(2, 1, figsize=(10, 4))\n",
    "\n",
    "axs[0].set_title(\"Most active 10 items (n interactions per day)\")\n",
    "c = axs[0].imshow(tmp1, cmap=\"hot\", aspect=\"auto\")\n",
    "plt.colorbar(c, ax=axs[0])\n",
    "axs[0].set_xlabel(\"time/day\")\n",
    "axs[0].set_ylabel(\"artificial series_id\")\n",
    "\n",
    "axs[1].set_title(\"Least active 10 items (n interactions per day)\")\n",
    "c = axs[1].imshow(tmp2, cmap=\"hot\", aspect=\"auto\")\n",
    "plt.colorbar(c, ax=axs[1])\n",
    "axs[1].set_xlabel(\"time/day\")\n",
    "axs[1].set_ylabel(\"artificial series_id\")\n",
    "\n",
    "plt.tight_layout()\n",
    "plt.show()"
   ]
  },
  {
   "cell_type": "markdown",
   "id": "e98661a9",
   "metadata": {},
   "source": [
    "# Negative signals - impressions (direct)"
   ]
  },
  {
   "cell_type": "code",
   "execution_count": 37,
   "id": "22c13f76",
   "metadata": {
    "ExecuteTime": {
     "end_time": "2023-06-12T19:27:42.131394Z",
     "start_time": "2023-06-12T19:27:41.950739Z"
    }
   },
   "outputs": [
    {
     "data": {
      "text/html": [
       "<div>\n",
       "<style scoped>\n",
       "    .dataframe tbody tr th:only-of-type {\n",
       "        vertical-align: middle;\n",
       "    }\n",
       "\n",
       "    .dataframe tbody tr th {\n",
       "        vertical-align: top;\n",
       "    }\n",
       "\n",
       "    .dataframe thead th {\n",
       "        text-align: right;\n",
       "    }\n",
       "</style>\n",
       "<table border=\"1\" class=\"dataframe\">\n",
       "  <thead>\n",
       "    <tr style=\"text-align: right;\">\n",
       "      <th></th>\n",
       "      <th>recommendation_id</th>\n",
       "      <th>row_position</th>\n",
       "      <th>recommendation_list_length</th>\n",
       "      <th>recommended_series_list</th>\n",
       "    </tr>\n",
       "  </thead>\n",
       "  <tbody>\n",
       "    <tr>\n",
       "      <th>0</th>\n",
       "      <td>0</td>\n",
       "      <td>0</td>\n",
       "      <td>10</td>\n",
       "      <td>[20128, 6674, 4625, 19462, 19041, 23229, 5914,...</td>\n",
       "    </tr>\n",
       "    <tr>\n",
       "      <th>1</th>\n",
       "      <td>1</td>\n",
       "      <td>0</td>\n",
       "      <td>10</td>\n",
       "      <td>[7906, 1240, 1712, 8348, 3227, 7607, 24175, 15...</td>\n",
       "    </tr>\n",
       "    <tr>\n",
       "      <th>2</th>\n",
       "      <td>2</td>\n",
       "      <td>0</td>\n",
       "      <td>10</td>\n",
       "      <td>[13673, 15810, 16821, 3826, 26860, 22223, 1847...</td>\n",
       "    </tr>\n",
       "    <tr>\n",
       "      <th>3</th>\n",
       "      <td>3</td>\n",
       "      <td>1</td>\n",
       "      <td>10</td>\n",
       "      <td>[13673, 1272, 2293, 23996, 15810, 16821, 13737...</td>\n",
       "    </tr>\n",
       "    <tr>\n",
       "      <th>4</th>\n",
       "      <td>4</td>\n",
       "      <td>0</td>\n",
       "      <td>6</td>\n",
       "      <td>[21885, 22288, 7493, 17042, 18483, 9330]</td>\n",
       "    </tr>\n",
       "    <tr>\n",
       "      <th>...</th>\n",
       "      <td>...</td>\n",
       "      <td>...</td>\n",
       "      <td>...</td>\n",
       "      <td>...</td>\n",
       "    </tr>\n",
       "    <tr>\n",
       "      <th>307448</th>\n",
       "      <td>307449</td>\n",
       "      <td>0</td>\n",
       "      <td>12</td>\n",
       "      <td>[21261, 26515, 5544, 1393, 5678, 22552, 9101, ...</td>\n",
       "    </tr>\n",
       "    <tr>\n",
       "      <th>307449</th>\n",
       "      <td>307450</td>\n",
       "      <td>1</td>\n",
       "      <td>10</td>\n",
       "      <td>[20128, 4862, 6674, 28598, 27215, 4625, 19041,...</td>\n",
       "    </tr>\n",
       "    <tr>\n",
       "      <th>307450</th>\n",
       "      <td>307451</td>\n",
       "      <td>0</td>\n",
       "      <td>30</td>\n",
       "      <td>[9969, 17425, 9101, 14797, 5743, 4172, 17953, ...</td>\n",
       "    </tr>\n",
       "    <tr>\n",
       "      <th>307451</th>\n",
       "      <td>307452</td>\n",
       "      <td>0</td>\n",
       "      <td>10</td>\n",
       "      <td>[21079, 23099, 28598, 25404, 19462, 26304, 152...</td>\n",
       "    </tr>\n",
       "    <tr>\n",
       "      <th>307452</th>\n",
       "      <td>307453</td>\n",
       "      <td>0</td>\n",
       "      <td>6</td>\n",
       "      <td>[27037, 28598, 10244, 4046, 17421, 11514]</td>\n",
       "    </tr>\n",
       "  </tbody>\n",
       "</table>\n",
       "<p>307453 rows × 4 columns</p>\n",
       "</div>"
      ],
      "text/plain": [
       "        recommendation_id  row_position  recommendation_list_length  \\\n",
       "0                       0             0                          10   \n",
       "1                       1             0                          10   \n",
       "2                       2             0                          10   \n",
       "3                       3             1                          10   \n",
       "4                       4             0                           6   \n",
       "...                   ...           ...                         ...   \n",
       "307448             307449             0                          12   \n",
       "307449             307450             1                          10   \n",
       "307450             307451             0                          30   \n",
       "307451             307452             0                          10   \n",
       "307452             307453             0                           6   \n",
       "\n",
       "                                  recommended_series_list  \n",
       "0       [20128, 6674, 4625, 19462, 19041, 23229, 5914,...  \n",
       "1       [7906, 1240, 1712, 8348, 3227, 7607, 24175, 15...  \n",
       "2       [13673, 15810, 16821, 3826, 26860, 22223, 1847...  \n",
       "3       [13673, 1272, 2293, 23996, 15810, 16821, 13737...  \n",
       "4                [21885, 22288, 7493, 17042, 18483, 9330]  \n",
       "...                                                   ...  \n",
       "307448  [21261, 26515, 5544, 1393, 5678, 22552, 9101, ...  \n",
       "307449  [20128, 4862, 6674, 28598, 27215, 4625, 19041,...  \n",
       "307450  [9969, 17425, 9101, 14797, 5743, 4172, 17953, ...  \n",
       "307451  [21079, 23099, 28598, 25404, 19462, 26304, 152...  \n",
       "307452          [27037, 28598, 10244, 4046, 17421, 11514]  \n",
       "\n",
       "[307453 rows x 4 columns]"
      ]
     },
     "execution_count": 37,
     "metadata": {},
     "output_type": "execute_result"
    }
   ],
   "source": [
    "impressions_dl_path = prefix / Path(\"impressions-direct-link\")\n",
    "impressions_dl = pd.concat(\n",
    "    pd.read_parquet(p) for p in impressions_dl_path.glob(\"*.parquet\")\n",
    ").reset_index()\n",
    "impressions_dl"
   ]
  },
  {
   "cell_type": "markdown",
   "id": "8dfbebca",
   "metadata": {},
   "source": [
    "## Features"
   ]
  },
  {
   "cell_type": "markdown",
   "id": "af873435",
   "metadata": {},
   "source": [
    "### row_position"
   ]
  },
  {
   "cell_type": "code",
   "execution_count": 38,
   "id": "ff8f1b40",
   "metadata": {
    "ExecuteTime": {
     "end_time": "2023-06-12T19:27:42.253288Z",
     "start_time": "2023-06-12T19:27:42.134042Z"
    }
   },
   "outputs": [
    {
     "data": {
      "image/png": "[encoded data removed]",
      "text/plain": [
       "<Figure size 500x300 with 1 Axes>"
      ]
     },
     "metadata": {},
     "output_type": "display_data"
    }
   ],
   "source": [
    "tmp = impressions_dl[\"row_position\"].value_counts().sort_index()\n",
    "\n",
    "plt.figure(figsize=(5, 3))\n",
    "\n",
    "plt.bar(list(tmp.index), tmp, width=0.5)\n",
    "plt.xlabel(\"row_position\")\n",
    "\n",
    "plt.show()"
   ]
  },
  {
   "cell_type": "markdown",
   "id": "fcdc3f18",
   "metadata": {},
   "source": [
    "### recommendation_list_length"
   ]
  },
  {
   "cell_type": "code",
   "execution_count": 39,
   "id": "740dfa45",
   "metadata": {
    "ExecuteTime": {
     "end_time": "2023-06-12T19:27:42.448582Z",
     "start_time": "2023-06-12T19:27:42.255087Z"
    }
   },
   "outputs": [
    {
     "data": {
      "image/png": "[encoded data removed]",
      "text/plain": [
       "<Figure size 500x300 with 1 Axes>"
      ]
     },
     "metadata": {},
     "output_type": "display_data"
    }
   ],
   "source": [
    "plt.figure(figsize=(5, 3))\n",
    "\n",
    "plt.hist(impressions_dl[\"recommendation_list_length\"], bins=20)\n",
    "plt.xlabel(\"recommendation_list_length\")\n",
    "\n",
    "plt.show()"
   ]
  },
  {
   "cell_type": "markdown",
   "id": "19b007fa",
   "metadata": {},
   "source": [
    "# Merged positive and negative interactions"
   ]
  },
  {
   "cell_type": "code",
   "execution_count": 56,
   "id": "1d249f4c",
   "metadata": {
    "ExecuteTime": {
     "end_time": "2023-06-12T19:40:14.462065Z",
     "start_time": "2023-06-12T19:40:12.375405Z"
    }
   },
   "outputs": [],
   "source": [
    "merged = interactions.merge(impressions_dl, \"left\", \"recommendation_id\")\n",
    "\n",
    "merged = merged.explode(\"recommended_series_list\").reset_index(drop=True)\n",
    "merged[\"recommended_series_list\"] = pd.to_numeric(merged[\"recommended_series_list\"])"
   ]
  },
  {
   "cell_type": "code",
   "execution_count": 57,
   "id": "f2ac0a60",
   "metadata": {
    "ExecuteTime": {
     "end_time": "2023-06-12T19:40:14.928869Z",
     "start_time": "2023-06-12T19:40:14.463999Z"
    }
   },
   "outputs": [
    {
     "data": {
      "text/html": [
       "<div>\n",
       "<style scoped>\n",
       "    .dataframe tbody tr th:only-of-type {\n",
       "        vertical-align: middle;\n",
       "    }\n",
       "\n",
       "    .dataframe tbody tr th {\n",
       "        vertical-align: top;\n",
       "    }\n",
       "\n",
       "    .dataframe thead th {\n",
       "        text-align: right;\n",
       "    }\n",
       "</style>\n",
       "<table border=\"1\" class=\"dataframe\">\n",
       "  <thead>\n",
       "    <tr style=\"text-align: right;\">\n",
       "      <th></th>\n",
       "      <th>utc_ts_milliseconds</th>\n",
       "      <th>user_id</th>\n",
       "      <th>series_id</th>\n",
       "      <th>recommendation_id</th>\n",
       "      <th>interaction_type</th>\n",
       "      <th>vision_factor</th>\n",
       "      <th>explicit_rating</th>\n",
       "      <th>signal</th>\n",
       "    </tr>\n",
       "  </thead>\n",
       "  <tbody>\n",
       "    <tr>\n",
       "      <th>0</th>\n",
       "      <td>2019-01-07 09:00:04</td>\n",
       "      <td>17094</td>\n",
       "      <td>6854</td>\n",
       "      <td>272495</td>\n",
       "      <td>impressions</td>\n",
       "      <td>-1.00</td>\n",
       "      <td>-1.0</td>\n",
       "      <td>0</td>\n",
       "    </tr>\n",
       "    <tr>\n",
       "      <th>1</th>\n",
       "      <td>2019-01-07 09:00:04</td>\n",
       "      <td>17094</td>\n",
       "      <td>19911</td>\n",
       "      <td>272495</td>\n",
       "      <td>impressions</td>\n",
       "      <td>-1.00</td>\n",
       "      <td>-1.0</td>\n",
       "      <td>0</td>\n",
       "    </tr>\n",
       "    <tr>\n",
       "      <th>2</th>\n",
       "      <td>2019-01-07 09:00:04</td>\n",
       "      <td>17094</td>\n",
       "      <td>10228</td>\n",
       "      <td>272495</td>\n",
       "      <td>impressions</td>\n",
       "      <td>-1.00</td>\n",
       "      <td>-1.0</td>\n",
       "      <td>0</td>\n",
       "    </tr>\n",
       "    <tr>\n",
       "      <th>3</th>\n",
       "      <td>2019-01-07 09:00:04</td>\n",
       "      <td>17094</td>\n",
       "      <td>1483</td>\n",
       "      <td>272495</td>\n",
       "      <td>impressions</td>\n",
       "      <td>-1.00</td>\n",
       "      <td>-1.0</td>\n",
       "      <td>0</td>\n",
       "    </tr>\n",
       "    <tr>\n",
       "      <th>4</th>\n",
       "      <td>2019-01-07 09:00:04</td>\n",
       "      <td>17094</td>\n",
       "      <td>16806</td>\n",
       "      <td>272495</td>\n",
       "      <td>impressions</td>\n",
       "      <td>-1.00</td>\n",
       "      <td>-1.0</td>\n",
       "      <td>0</td>\n",
       "    </tr>\n",
       "    <tr>\n",
       "      <th>...</th>\n",
       "      <td>...</td>\n",
       "      <td>...</td>\n",
       "      <td>...</td>\n",
       "      <td>...</td>\n",
       "      <td>...</td>\n",
       "      <td>...</td>\n",
       "      <td>...</td>\n",
       "      <td>...</td>\n",
       "    </tr>\n",
       "    <tr>\n",
       "      <th>2706309</th>\n",
       "      <td>2019-04-15 08:56:53</td>\n",
       "      <td>29764</td>\n",
       "      <td>1770</td>\n",
       "      <td>-1</td>\n",
       "      <td>views</td>\n",
       "      <td>1.00</td>\n",
       "      <td>-1.0</td>\n",
       "      <td>1</td>\n",
       "    </tr>\n",
       "    <tr>\n",
       "      <th>2706310</th>\n",
       "      <td>2019-04-15 08:57:25</td>\n",
       "      <td>39325</td>\n",
       "      <td>23882</td>\n",
       "      <td>-1</td>\n",
       "      <td>views</td>\n",
       "      <td>0.02</td>\n",
       "      <td>-1.0</td>\n",
       "      <td>1</td>\n",
       "    </tr>\n",
       "    <tr>\n",
       "      <th>2706311</th>\n",
       "      <td>2019-04-15 08:58:58</td>\n",
       "      <td>5610</td>\n",
       "      <td>26746</td>\n",
       "      <td>-1</td>\n",
       "      <td>purchases</td>\n",
       "      <td>-1.00</td>\n",
       "      <td>-1.0</td>\n",
       "      <td>1</td>\n",
       "    </tr>\n",
       "    <tr>\n",
       "      <th>2706312</th>\n",
       "      <td>2019-04-15 08:59:51</td>\n",
       "      <td>26024</td>\n",
       "      <td>14716</td>\n",
       "      <td>-1</td>\n",
       "      <td>details</td>\n",
       "      <td>-1.00</td>\n",
       "      <td>-1.0</td>\n",
       "      <td>1</td>\n",
       "    </tr>\n",
       "    <tr>\n",
       "      <th>2706313</th>\n",
       "      <td>2019-04-15 08:59:52</td>\n",
       "      <td>16931</td>\n",
       "      <td>28583</td>\n",
       "      <td>-1</td>\n",
       "      <td>views</td>\n",
       "      <td>1.00</td>\n",
       "      <td>-1.0</td>\n",
       "      <td>1</td>\n",
       "    </tr>\n",
       "  </tbody>\n",
       "</table>\n",
       "<p>2706314 rows × 8 columns</p>\n",
       "</div>"
      ],
      "text/plain": [
       "        utc_ts_milliseconds  user_id  series_id  recommendation_id  \\\n",
       "0       2019-01-07 09:00:04    17094       6854             272495   \n",
       "1       2019-01-07 09:00:04    17094      19911             272495   \n",
       "2       2019-01-07 09:00:04    17094      10228             272495   \n",
       "3       2019-01-07 09:00:04    17094       1483             272495   \n",
       "4       2019-01-07 09:00:04    17094      16806             272495   \n",
       "...                     ...      ...        ...                ...   \n",
       "2706309 2019-04-15 08:56:53    29764       1770                 -1   \n",
       "2706310 2019-04-15 08:57:25    39325      23882                 -1   \n",
       "2706311 2019-04-15 08:58:58     5610      26746                 -1   \n",
       "2706312 2019-04-15 08:59:51    26024      14716                 -1   \n",
       "2706313 2019-04-15 08:59:52    16931      28583                 -1   \n",
       "\n",
       "        interaction_type  vision_factor  explicit_rating  signal  \n",
       "0            impressions          -1.00             -1.0       0  \n",
       "1            impressions          -1.00             -1.0       0  \n",
       "2            impressions          -1.00             -1.0       0  \n",
       "3            impressions          -1.00             -1.0       0  \n",
       "4            impressions          -1.00             -1.0       0  \n",
       "...                  ...            ...              ...     ...  \n",
       "2706309            views           1.00             -1.0       1  \n",
       "2706310            views           0.02             -1.0       1  \n",
       "2706311        purchases          -1.00             -1.0       1  \n",
       "2706312          details          -1.00             -1.0       1  \n",
       "2706313            views           1.00             -1.0       1  \n",
       "\n",
       "[2706314 rows x 8 columns]"
      ]
     },
     "execution_count": 57,
     "metadata": {},
     "output_type": "execute_result"
    }
   ],
   "source": [
    "merged[\"signal\"] = 0  # Set negative signals as 0 (init column with zeros)\n",
    "merged.loc[\n",
    "    merged[\"recommendation_id\"] == -1, \"signal\"\n",
    "] = 1  # Set positive signals as 1 (all interactions which don't come from recommendation slates)\n",
    "merged.loc[\n",
    "    merged[\"series_id\"] == merged[\"recommended_series_list\"], \"signal\"\n",
    "] = 1  # Set positive signals as 1 ('views' action)\n",
    "\n",
    "merged.loc[~merged[\"recommended_series_list\"].isna(), \"series_id\"] = merged.loc[\n",
    "    ~merged[\"recommended_series_list\"].isna(), \"recommended_series_list\"\n",
    "]\n",
    "\n",
    "merged.loc[merged[\"signal\"] == 0, \"interaction_type\"] = \"impressions\"\n",
    "merged.loc[merged[\"interaction_type\"] == \"impressions\", \"vision_factor\"] = -1\n",
    "merged.loc[\n",
    "    (merged[\"interaction_type\"] == \"ratings\") & (merged[\"explicit_rating\"] < 3),\n",
    "    \"signal\",\n",
    "] = 0  # Set low ratings as negative signal\n",
    "\n",
    "merged = merged.drop(\n",
    "    columns=[\n",
    "        \"item_id\",\n",
    "        \"episode_number\",\n",
    "        \"series_length\",\n",
    "        \"item_type\",\n",
    "        \"date\",\n",
    "        \"row_position\",\n",
    "        \"recommendation_list_length\",\n",
    "        \"recommended_series_list\",\n",
    "    ]\n",
    ")\n",
    "\n",
    "merged"
   ]
  },
  {
   "cell_type": "markdown",
   "id": "5361bdb7",
   "metadata": {},
   "source": [
    "## Prepare weights of each interaction"
   ]
  },
  {
   "cell_type": "code",
   "execution_count": 58,
   "id": "10fc87a0",
   "metadata": {
    "ExecuteTime": {
     "end_time": "2023-06-12T19:40:15.072118Z",
     "start_time": "2023-06-12T19:40:14.930287Z"
    }
   },
   "outputs": [
    {
     "data": {
      "text/html": [
       "<div>\n",
       "<style scoped>\n",
       "    .dataframe tbody tr th:only-of-type {\n",
       "        vertical-align: middle;\n",
       "    }\n",
       "\n",
       "    .dataframe tbody tr th {\n",
       "        vertical-align: top;\n",
       "    }\n",
       "\n",
       "    .dataframe thead th {\n",
       "        text-align: right;\n",
       "    }\n",
       "</style>\n",
       "<table border=\"1\" class=\"dataframe\">\n",
       "  <thead>\n",
       "    <tr style=\"text-align: right;\">\n",
       "      <th></th>\n",
       "      <th>utc_ts_milliseconds</th>\n",
       "      <th>user_id</th>\n",
       "      <th>series_id</th>\n",
       "      <th>recommendation_id</th>\n",
       "      <th>interaction_type</th>\n",
       "      <th>vision_factor</th>\n",
       "      <th>explicit_rating</th>\n",
       "      <th>signal</th>\n",
       "      <th>interaction_weight</th>\n",
       "      <th>days_ago</th>\n",
       "      <th>time_weight</th>\n",
       "      <th>final_signal_weight</th>\n",
       "    </tr>\n",
       "  </thead>\n",
       "  <tbody>\n",
       "    <tr>\n",
       "      <th>0</th>\n",
       "      <td>2019-01-07 09:00:04</td>\n",
       "      <td>17094</td>\n",
       "      <td>6854</td>\n",
       "      <td>272495</td>\n",
       "      <td>impressions</td>\n",
       "      <td>-1.00</td>\n",
       "      <td>-1.0</td>\n",
       "      <td>0</td>\n",
       "      <td>0.50</td>\n",
       "      <td>97</td>\n",
       "      <td>0.0</td>\n",
       "      <td>0.25</td>\n",
       "    </tr>\n",
       "    <tr>\n",
       "      <th>1</th>\n",
       "      <td>2019-01-07 09:00:04</td>\n",
       "      <td>17094</td>\n",
       "      <td>19911</td>\n",
       "      <td>272495</td>\n",
       "      <td>impressions</td>\n",
       "      <td>-1.00</td>\n",
       "      <td>-1.0</td>\n",
       "      <td>0</td>\n",
       "      <td>0.50</td>\n",
       "      <td>97</td>\n",
       "      <td>0.0</td>\n",
       "      <td>0.25</td>\n",
       "    </tr>\n",
       "    <tr>\n",
       "      <th>2</th>\n",
       "      <td>2019-01-07 09:00:04</td>\n",
       "      <td>17094</td>\n",
       "      <td>10228</td>\n",
       "      <td>272495</td>\n",
       "      <td>impressions</td>\n",
       "      <td>-1.00</td>\n",
       "      <td>-1.0</td>\n",
       "      <td>0</td>\n",
       "      <td>0.50</td>\n",
       "      <td>97</td>\n",
       "      <td>0.0</td>\n",
       "      <td>0.25</td>\n",
       "    </tr>\n",
       "    <tr>\n",
       "      <th>3</th>\n",
       "      <td>2019-01-07 09:00:04</td>\n",
       "      <td>17094</td>\n",
       "      <td>1483</td>\n",
       "      <td>272495</td>\n",
       "      <td>impressions</td>\n",
       "      <td>-1.00</td>\n",
       "      <td>-1.0</td>\n",
       "      <td>0</td>\n",
       "      <td>0.50</td>\n",
       "      <td>97</td>\n",
       "      <td>0.0</td>\n",
       "      <td>0.25</td>\n",
       "    </tr>\n",
       "    <tr>\n",
       "      <th>4</th>\n",
       "      <td>2019-01-07 09:00:04</td>\n",
       "      <td>17094</td>\n",
       "      <td>16806</td>\n",
       "      <td>272495</td>\n",
       "      <td>impressions</td>\n",
       "      <td>-1.00</td>\n",
       "      <td>-1.0</td>\n",
       "      <td>0</td>\n",
       "      <td>0.50</td>\n",
       "      <td>97</td>\n",
       "      <td>0.0</td>\n",
       "      <td>0.25</td>\n",
       "    </tr>\n",
       "    <tr>\n",
       "      <th>...</th>\n",
       "      <td>...</td>\n",
       "      <td>...</td>\n",
       "      <td>...</td>\n",
       "      <td>...</td>\n",
       "      <td>...</td>\n",
       "      <td>...</td>\n",
       "      <td>...</td>\n",
       "      <td>...</td>\n",
       "      <td>...</td>\n",
       "      <td>...</td>\n",
       "      <td>...</td>\n",
       "      <td>...</td>\n",
       "    </tr>\n",
       "    <tr>\n",
       "      <th>2706309</th>\n",
       "      <td>2019-04-15 08:56:53</td>\n",
       "      <td>29764</td>\n",
       "      <td>1770</td>\n",
       "      <td>-1</td>\n",
       "      <td>views</td>\n",
       "      <td>1.00</td>\n",
       "      <td>-1.0</td>\n",
       "      <td>1</td>\n",
       "      <td>1.00</td>\n",
       "      <td>0</td>\n",
       "      <td>1.0</td>\n",
       "      <td>1.00</td>\n",
       "    </tr>\n",
       "    <tr>\n",
       "      <th>2706310</th>\n",
       "      <td>2019-04-15 08:57:25</td>\n",
       "      <td>39325</td>\n",
       "      <td>23882</td>\n",
       "      <td>-1</td>\n",
       "      <td>views</td>\n",
       "      <td>0.02</td>\n",
       "      <td>-1.0</td>\n",
       "      <td>1</td>\n",
       "      <td>0.02</td>\n",
       "      <td>0</td>\n",
       "      <td>1.0</td>\n",
       "      <td>0.51</td>\n",
       "    </tr>\n",
       "    <tr>\n",
       "      <th>2706311</th>\n",
       "      <td>2019-04-15 08:58:58</td>\n",
       "      <td>5610</td>\n",
       "      <td>26746</td>\n",
       "      <td>-1</td>\n",
       "      <td>purchases</td>\n",
       "      <td>-1.00</td>\n",
       "      <td>-1.0</td>\n",
       "      <td>1</td>\n",
       "      <td>0.50</td>\n",
       "      <td>0</td>\n",
       "      <td>1.0</td>\n",
       "      <td>0.75</td>\n",
       "    </tr>\n",
       "    <tr>\n",
       "      <th>2706312</th>\n",
       "      <td>2019-04-15 08:59:51</td>\n",
       "      <td>26024</td>\n",
       "      <td>14716</td>\n",
       "      <td>-1</td>\n",
       "      <td>details</td>\n",
       "      <td>-1.00</td>\n",
       "      <td>-1.0</td>\n",
       "      <td>1</td>\n",
       "      <td>0.50</td>\n",
       "      <td>0</td>\n",
       "      <td>1.0</td>\n",
       "      <td>0.75</td>\n",
       "    </tr>\n",
       "    <tr>\n",
       "      <th>2706313</th>\n",
       "      <td>2019-04-15 08:59:52</td>\n",
       "      <td>16931</td>\n",
       "      <td>28583</td>\n",
       "      <td>-1</td>\n",
       "      <td>views</td>\n",
       "      <td>1.00</td>\n",
       "      <td>-1.0</td>\n",
       "      <td>1</td>\n",
       "      <td>1.00</td>\n",
       "      <td>0</td>\n",
       "      <td>1.0</td>\n",
       "      <td>1.00</td>\n",
       "    </tr>\n",
       "  </tbody>\n",
       "</table>\n",
       "<p>2706314 rows × 12 columns</p>\n",
       "</div>"
      ],
      "text/plain": [
       "        utc_ts_milliseconds  user_id  series_id  recommendation_id  \\\n",
       "0       2019-01-07 09:00:04    17094       6854             272495   \n",
       "1       2019-01-07 09:00:04    17094      19911             272495   \n",
       "2       2019-01-07 09:00:04    17094      10228             272495   \n",
       "3       2019-01-07 09:00:04    17094       1483             272495   \n",
       "4       2019-01-07 09:00:04    17094      16806             272495   \n",
       "...                     ...      ...        ...                ...   \n",
       "2706309 2019-04-15 08:56:53    29764       1770                 -1   \n",
       "2706310 2019-04-15 08:57:25    39325      23882                 -1   \n",
       "2706311 2019-04-15 08:58:58     5610      26746                 -1   \n",
       "2706312 2019-04-15 08:59:51    26024      14716                 -1   \n",
       "2706313 2019-04-15 08:59:52    16931      28583                 -1   \n",
       "\n",
       "        interaction_type  vision_factor  explicit_rating  signal  \\\n",
       "0            impressions          -1.00             -1.0       0   \n",
       "1            impressions          -1.00             -1.0       0   \n",
       "2            impressions          -1.00             -1.0       0   \n",
       "3            impressions          -1.00             -1.0       0   \n",
       "4            impressions          -1.00             -1.0       0   \n",
       "...                  ...            ...              ...     ...   \n",
       "2706309            views           1.00             -1.0       1   \n",
       "2706310            views           0.02             -1.0       1   \n",
       "2706311        purchases          -1.00             -1.0       1   \n",
       "2706312          details          -1.00             -1.0       1   \n",
       "2706313            views           1.00             -1.0       1   \n",
       "\n",
       "         interaction_weight  days_ago  time_weight  final_signal_weight  \n",
       "0                      0.50        97          0.0                 0.25  \n",
       "1                      0.50        97          0.0                 0.25  \n",
       "2                      0.50        97          0.0                 0.25  \n",
       "3                      0.50        97          0.0                 0.25  \n",
       "4                      0.50        97          0.0                 0.25  \n",
       "...                     ...       ...          ...                  ...  \n",
       "2706309                1.00         0          1.0                 1.00  \n",
       "2706310                0.02         0          1.0                 0.51  \n",
       "2706311                0.50         0          1.0                 0.75  \n",
       "2706312                0.50         0          1.0                 0.75  \n",
       "2706313                1.00         0          1.0                 1.00  \n",
       "\n",
       "[2706314 rows x 12 columns]"
      ]
     },
     "execution_count": 58,
     "metadata": {},
     "output_type": "execute_result"
    }
   ],
   "source": [
    "merged[\"interaction_weight\"] = 0.5\n",
    "# Weights based on vision_factor\n",
    "merged.loc[merged[\"vision_factor\"] != -1, \"interaction_weight\"] = merged[\n",
    "    \"vision_factor\"\n",
    "]\n",
    "# Weights based on explicit_rating\n",
    "merged.loc[merged[\"explicit_rating\"] != -1, \"interaction_weight\"] = 1\n",
    "# Weights based on time (square root of normalized (0-1) value)\n",
    "merged[\"days_ago\"] = (\n",
    "    merged[\"utc_ts_milliseconds\"].max() - merged[\"utc_ts_milliseconds\"]\n",
    ").dt.days\n",
    "merged[\"time_weight\"] = np.sqrt(\n",
    "    (merged[\"days_ago\"].max() - merged[\"days_ago\"]) / merged[\"days_ago\"].max()\n",
    ")\n",
    "\n",
    "# Final signal weights\n",
    "merged[\"final_signal_weight\"] = (\n",
    "    merged[\"interaction_weight\"] + merged[\"time_weight\"]\n",
    ") / 2\n",
    "merged"
   ]
  },
  {
   "cell_type": "markdown",
   "id": "cdf936ca",
   "metadata": {},
   "source": [
    "## Statistics"
   ]
  },
  {
   "cell_type": "code",
   "execution_count": 59,
   "id": "27d7135b",
   "metadata": {
    "ExecuteTime": {
     "end_time": "2023-06-12T19:40:33.540319Z",
     "start_time": "2023-06-12T19:40:33.511653Z"
    }
   },
   "outputs": [
    {
     "name": "stdout",
     "output_type": "stream",
     "text": [
      "# Users: 34567\n",
      "# Items: 13720\n"
     ]
    }
   ],
   "source": [
    "print(f\"# Users: {merged['user_id'].nunique()}\")\n",
    "print(f\"# Items: {merged['series_id'].nunique()}\")"
   ]
  },
  {
   "cell_type": "code",
   "execution_count": 60,
   "id": "9baa3afc",
   "metadata": {
    "ExecuteTime": {
     "end_time": "2023-06-12T19:40:36.812490Z",
     "start_time": "2023-06-12T19:40:36.801193Z"
    }
   },
   "outputs": [
    {
     "data": {
      "text/plain": [
       "(2706314, 12)"
      ]
     },
     "execution_count": 60,
     "metadata": {},
     "output_type": "execute_result"
    }
   ],
   "source": [
    "merged.shape"
   ]
  },
  {
   "cell_type": "markdown",
   "id": "8ba2ff4a",
   "metadata": {},
   "source": [
    "Distribution of interaction_type"
   ]
  },
  {
   "cell_type": "code",
   "execution_count": 61,
   "id": "b2c2c360",
   "metadata": {
    "ExecuteTime": {
     "end_time": "2023-06-12T19:40:37.975218Z",
     "start_time": "2023-06-12T19:40:37.727513Z"
    }
   },
   "outputs": [
    {
     "data": {
      "image/png": "[encoded data removed]",
      "text/plain": [
       "<Figure size 500x300 with 1 Axes>"
      ]
     },
     "metadata": {},
     "output_type": "display_data"
    }
   ],
   "source": [
    "tmp = merged[\"interaction_type\"].value_counts()\n",
    "\n",
    "plt.figure(figsize=(5, 3))\n",
    "plt.bar(tmp.index, tmp / tmp.sum())\n",
    "plt.show()"
   ]
  },
  {
   "cell_type": "markdown",
   "id": "c536c24d",
   "metadata": {},
   "source": [
    "Distribution of final_signal_weight"
   ]
  },
  {
   "cell_type": "code",
   "execution_count": 62,
   "id": "9a681d25",
   "metadata": {
    "ExecuteTime": {
     "end_time": "2023-06-12T19:40:41.499386Z",
     "start_time": "2023-06-12T19:40:40.757009Z"
    }
   },
   "outputs": [
    {
     "data": {
      "image/png": "[encoded data removed]",
      "text/plain": [
       "<Figure size 800x300 with 2 Axes>"
      ]
     },
     "metadata": {},
     "output_type": "display_data"
    }
   ],
   "source": [
    "fig, axs = plt.subplots(1, 2, figsize=(8, 3))\n",
    "\n",
    "axs[0].set_title(\"Interactions and impressions separately\")\n",
    "axs[0].hist(\n",
    "    merged.loc[merged[\"interaction_type\"] != \"impressions\", \"final_signal_weight\"],\n",
    "    bins=50,\n",
    "    alpha=0.6,\n",
    "    label=\"interactions\",\n",
    ")\n",
    "axs[0].hist(\n",
    "    merged.loc[merged[\"interaction_type\"] == \"impressions\", \"final_signal_weight\"],\n",
    "    bins=50,\n",
    "    alpha=0.6,\n",
    "    label=\"impressions\",\n",
    ")\n",
    "axs[0].legend()\n",
    "axs[0].set_xlabel(\"final_signal_weight\")\n",
    "\n",
    "axs[1].set_title(\"Total\")\n",
    "axs[1].hist(merged[\"final_signal_weight\"], bins=50)\n",
    "axs[1].set_xlabel(\"final_signal_weight\")\n",
    "\n",
    "plt.tight_layout()\n",
    "plt.show()"
   ]
  },
  {
   "cell_type": "markdown",
   "id": "db1afcc9",
   "metadata": {},
   "source": [
    "## Most popular items"
   ]
  },
  {
   "cell_type": "markdown",
   "id": "ae78ef6d",
   "metadata": {},
   "source": [
    "### Based on vision_factor"
   ]
  },
  {
   "cell_type": "markdown",
   "id": "2f6e8396",
   "metadata": {},
   "source": [
    "#### mean"
   ]
  },
  {
   "cell_type": "markdown",
   "id": "fb3cbdf0",
   "metadata": {},
   "source": [
    "Computed on items [partly or fully] watched at least 30 times. Sorted by weighted_mean_vision_factor."
   ]
  },
  {
   "cell_type": "code",
   "execution_count": 63,
   "id": "282b0956",
   "metadata": {
    "ExecuteTime": {
     "end_time": "2023-06-12T19:59:20.782798Z",
     "start_time": "2023-06-12T19:59:17.877397Z"
    }
   },
   "outputs": [
    {
     "data": {
      "text/html": [
       "<div>\n",
       "<style scoped>\n",
       "    .dataframe tbody tr th:only-of-type {\n",
       "        vertical-align: middle;\n",
       "    }\n",
       "\n",
       "    .dataframe tbody tr th {\n",
       "        vertical-align: top;\n",
       "    }\n",
       "\n",
       "    .dataframe thead th {\n",
       "        text-align: right;\n",
       "    }\n",
       "</style>\n",
       "<table border=\"1\" class=\"dataframe\">\n",
       "  <thead>\n",
       "    <tr style=\"text-align: right;\">\n",
       "      <th></th>\n",
       "      <th>count</th>\n",
       "      <th>mean_vision_factor</th>\n",
       "      <th>weighted_mean_vision_factor</th>\n",
       "    </tr>\n",
       "    <tr>\n",
       "      <th>series_id</th>\n",
       "      <th></th>\n",
       "      <th></th>\n",
       "      <th></th>\n",
       "    </tr>\n",
       "  </thead>\n",
       "  <tbody>\n",
       "    <tr>\n",
       "      <th>23237</th>\n",
       "      <td>103</td>\n",
       "      <td>0.990097</td>\n",
       "      <td>0.991357</td>\n",
       "    </tr>\n",
       "    <tr>\n",
       "      <th>9047</th>\n",
       "      <td>2073</td>\n",
       "      <td>0.985620</td>\n",
       "      <td>0.987026</td>\n",
       "    </tr>\n",
       "    <tr>\n",
       "      <th>11846</th>\n",
       "      <td>37</td>\n",
       "      <td>0.990000</td>\n",
       "      <td>0.986001</td>\n",
       "    </tr>\n",
       "    <tr>\n",
       "      <th>22837</th>\n",
       "      <td>31</td>\n",
       "      <td>0.985806</td>\n",
       "      <td>0.985793</td>\n",
       "    </tr>\n",
       "    <tr>\n",
       "      <th>13886</th>\n",
       "      <td>81</td>\n",
       "      <td>0.984568</td>\n",
       "      <td>0.985563</td>\n",
       "    </tr>\n",
       "    <tr>\n",
       "      <th>6554</th>\n",
       "      <td>120</td>\n",
       "      <td>0.985167</td>\n",
       "      <td>0.985160</td>\n",
       "    </tr>\n",
       "    <tr>\n",
       "      <th>5974</th>\n",
       "      <td>39</td>\n",
       "      <td>0.986923</td>\n",
       "      <td>0.984977</td>\n",
       "    </tr>\n",
       "    <tr>\n",
       "      <th>9003</th>\n",
       "      <td>34</td>\n",
       "      <td>0.980882</td>\n",
       "      <td>0.981771</td>\n",
       "    </tr>\n",
       "    <tr>\n",
       "      <th>18688</th>\n",
       "      <td>47</td>\n",
       "      <td>0.980426</td>\n",
       "      <td>0.981031</td>\n",
       "    </tr>\n",
       "    <tr>\n",
       "      <th>18369</th>\n",
       "      <td>56</td>\n",
       "      <td>0.980536</td>\n",
       "      <td>0.980956</td>\n",
       "    </tr>\n",
       "  </tbody>\n",
       "</table>\n",
       "</div>"
      ],
      "text/plain": [
       "           count  mean_vision_factor  weighted_mean_vision_factor\n",
       "series_id                                                        \n",
       "23237        103            0.990097                     0.991357\n",
       "9047        2073            0.985620                     0.987026\n",
       "11846         37            0.990000                     0.986001\n",
       "22837         31            0.985806                     0.985793\n",
       "13886         81            0.984568                     0.985563\n",
       "6554         120            0.985167                     0.985160\n",
       "5974          39            0.986923                     0.984977\n",
       "9003          34            0.980882                     0.981771\n",
       "18688         47            0.980426                     0.981031\n",
       "18369         56            0.980536                     0.980956"
      ]
     },
     "execution_count": 63,
     "metadata": {},
     "output_type": "execute_result"
    }
   ],
   "source": [
    "tmp = merged[(merged[\"vision_factor\"] != -1) & (merged[\"time_weight\"] != 0)]\n",
    "wm = lambda x: np.average(x, weights=merged.loc[x.index, \"time_weight\"])\n",
    "\n",
    "tmp = (\n",
    "    tmp.groupby(\"series_id\")\n",
    "    .agg(\n",
    "        count=(\"vision_factor\", \"count\"),\n",
    "        mean_vision_factor=(\"vision_factor\", \"mean\"),\n",
    "        weighted_mean_vision_factor=(\"vision_factor\", wm),\n",
    "    )\n",
    "    .sort_values(\"weighted_mean_vision_factor\", ascending=False)\n",
    ")\n",
    "tmp[tmp[\"count\"] >= 30][:10]"
   ]
  },
  {
   "cell_type": "markdown",
   "id": "938a6f29",
   "metadata": {},
   "source": [
    "#### sum"
   ]
  },
  {
   "cell_type": "markdown",
   "id": "33196870",
   "metadata": {},
   "source": [
    "Sorted by sum_vision_factor."
   ]
  },
  {
   "cell_type": "code",
   "execution_count": 64,
   "id": "5fc97ce4",
   "metadata": {
    "ExecuteTime": {
     "end_time": "2023-06-12T20:03:20.383964Z",
     "start_time": "2023-06-12T20:03:20.300571Z"
    }
   },
   "outputs": [
    {
     "data": {
      "text/html": [
       "<div>\n",
       "<style scoped>\n",
       "    .dataframe tbody tr th:only-of-type {\n",
       "        vertical-align: middle;\n",
       "    }\n",
       "\n",
       "    .dataframe tbody tr th {\n",
       "        vertical-align: top;\n",
       "    }\n",
       "\n",
       "    .dataframe thead th {\n",
       "        text-align: right;\n",
       "    }\n",
       "</style>\n",
       "<table border=\"1\" class=\"dataframe\">\n",
       "  <thead>\n",
       "    <tr style=\"text-align: right;\">\n",
       "      <th></th>\n",
       "      <th>count</th>\n",
       "      <th>sum_vision_factor</th>\n",
       "    </tr>\n",
       "    <tr>\n",
       "      <th>series_id</th>\n",
       "      <th></th>\n",
       "      <th></th>\n",
       "    </tr>\n",
       "  </thead>\n",
       "  <tbody>\n",
       "    <tr>\n",
       "      <th>15641</th>\n",
       "      <td>7423</td>\n",
       "      <td>5893.959961</td>\n",
       "    </tr>\n",
       "    <tr>\n",
       "      <th>5101</th>\n",
       "      <td>5107</td>\n",
       "      <td>4097.129883</td>\n",
       "    </tr>\n",
       "    <tr>\n",
       "      <th>9026</th>\n",
       "      <td>4508</td>\n",
       "      <td>3911.969971</td>\n",
       "    </tr>\n",
       "    <tr>\n",
       "      <th>20721</th>\n",
       "      <td>4681</td>\n",
       "      <td>3120.979980</td>\n",
       "    </tr>\n",
       "    <tr>\n",
       "      <th>16966</th>\n",
       "      <td>3611</td>\n",
       "      <td>3005.709961</td>\n",
       "    </tr>\n",
       "    <tr>\n",
       "      <th>18398</th>\n",
       "      <td>3525</td>\n",
       "      <td>2809.520020</td>\n",
       "    </tr>\n",
       "    <tr>\n",
       "      <th>466</th>\n",
       "      <td>3679</td>\n",
       "      <td>2800.889893</td>\n",
       "    </tr>\n",
       "    <tr>\n",
       "      <th>23451</th>\n",
       "      <td>3853</td>\n",
       "      <td>2681.989990</td>\n",
       "    </tr>\n",
       "    <tr>\n",
       "      <th>325</th>\n",
       "      <td>3655</td>\n",
       "      <td>2547.590088</td>\n",
       "    </tr>\n",
       "    <tr>\n",
       "      <th>22607</th>\n",
       "      <td>2968</td>\n",
       "      <td>2540.050049</td>\n",
       "    </tr>\n",
       "  </tbody>\n",
       "</table>\n",
       "</div>"
      ],
      "text/plain": [
       "           count  sum_vision_factor\n",
       "series_id                          \n",
       "15641       7423        5893.959961\n",
       "5101        5107        4097.129883\n",
       "9026        4508        3911.969971\n",
       "20721       4681        3120.979980\n",
       "16966       3611        3005.709961\n",
       "18398       3525        2809.520020\n",
       "466         3679        2800.889893\n",
       "23451       3853        2681.989990\n",
       "325         3655        2547.590088\n",
       "22607       2968        2540.050049"
      ]
     },
     "execution_count": 64,
     "metadata": {},
     "output_type": "execute_result"
    }
   ],
   "source": [
    "tmp = merged[(merged[\"vision_factor\"] != -1) & (merged[\"time_weight\"] != 0)]\n",
    "wm = lambda x: np.average(x, weights=merged.loc[x.index, \"time_weight\"])\n",
    "\n",
    "tmp = (\n",
    "    tmp.groupby(\"series_id\")\n",
    "    .agg(count=(\"vision_factor\", \"count\"), sum_vision_factor=(\"vision_factor\", \"sum\"))\n",
    "    .sort_values(\"sum_vision_factor\", ascending=False)\n",
    ")\n",
    "tmp[:10]"
   ]
  },
  {
   "cell_type": "markdown",
   "id": "bb8c62b5",
   "metadata": {},
   "source": [
    "### Based on explicit_rating"
   ]
  },
  {
   "cell_type": "markdown",
   "id": "5ad0bc85",
   "metadata": {},
   "source": [
    "Computed on items rated at least 10 times. Sorted by weighted_mean_rating."
   ]
  },
  {
   "cell_type": "code",
   "execution_count": 65,
   "id": "67ff181e",
   "metadata": {
    "ExecuteTime": {
     "end_time": "2023-06-12T20:07:55.234812Z",
     "start_time": "2023-06-12T20:07:54.713855Z"
    }
   },
   "outputs": [
    {
     "data": {
      "text/html": [
       "<div>\n",
       "<style scoped>\n",
       "    .dataframe tbody tr th:only-of-type {\n",
       "        vertical-align: middle;\n",
       "    }\n",
       "\n",
       "    .dataframe tbody tr th {\n",
       "        vertical-align: top;\n",
       "    }\n",
       "\n",
       "    .dataframe thead th {\n",
       "        text-align: right;\n",
       "    }\n",
       "</style>\n",
       "<table border=\"1\" class=\"dataframe\">\n",
       "  <thead>\n",
       "    <tr style=\"text-align: right;\">\n",
       "      <th></th>\n",
       "      <th>count</th>\n",
       "      <th>mean_rating</th>\n",
       "      <th>weighted_mean_rating</th>\n",
       "    </tr>\n",
       "    <tr>\n",
       "      <th>series_id</th>\n",
       "      <th></th>\n",
       "      <th></th>\n",
       "      <th></th>\n",
       "    </tr>\n",
       "  </thead>\n",
       "  <tbody>\n",
       "    <tr>\n",
       "      <th>1443</th>\n",
       "      <td>10</td>\n",
       "      <td>4.800000</td>\n",
       "      <td>4.792065</td>\n",
       "    </tr>\n",
       "    <tr>\n",
       "      <th>18387</th>\n",
       "      <td>12</td>\n",
       "      <td>4.708333</td>\n",
       "      <td>4.704265</td>\n",
       "    </tr>\n",
       "    <tr>\n",
       "      <th>22686</th>\n",
       "      <td>23</td>\n",
       "      <td>4.565217</td>\n",
       "      <td>4.576594</td>\n",
       "    </tr>\n",
       "    <tr>\n",
       "      <th>8724</th>\n",
       "      <td>21</td>\n",
       "      <td>4.547619</td>\n",
       "      <td>4.571534</td>\n",
       "    </tr>\n",
       "    <tr>\n",
       "      <th>17345</th>\n",
       "      <td>45</td>\n",
       "      <td>4.555555</td>\n",
       "      <td>4.558483</td>\n",
       "    </tr>\n",
       "    <tr>\n",
       "      <th>20970</th>\n",
       "      <td>12</td>\n",
       "      <td>4.541667</td>\n",
       "      <td>4.550953</td>\n",
       "    </tr>\n",
       "    <tr>\n",
       "      <th>6186</th>\n",
       "      <td>27</td>\n",
       "      <td>4.555555</td>\n",
       "      <td>4.539534</td>\n",
       "    </tr>\n",
       "    <tr>\n",
       "      <th>14919</th>\n",
       "      <td>10</td>\n",
       "      <td>4.450000</td>\n",
       "      <td>4.511098</td>\n",
       "    </tr>\n",
       "    <tr>\n",
       "      <th>12416</th>\n",
       "      <td>38</td>\n",
       "      <td>4.460526</td>\n",
       "      <td>4.458101</td>\n",
       "    </tr>\n",
       "    <tr>\n",
       "      <th>2920</th>\n",
       "      <td>10</td>\n",
       "      <td>4.300000</td>\n",
       "      <td>4.450476</td>\n",
       "    </tr>\n",
       "  </tbody>\n",
       "</table>\n",
       "</div>"
      ],
      "text/plain": [
       "           count  mean_rating  weighted_mean_rating\n",
       "series_id                                          \n",
       "1443          10     4.800000              4.792065\n",
       "18387         12     4.708333              4.704265\n",
       "22686         23     4.565217              4.576594\n",
       "8724          21     4.547619              4.571534\n",
       "17345         45     4.555555              4.558483\n",
       "20970         12     4.541667              4.550953\n",
       "6186          27     4.555555              4.539534\n",
       "14919         10     4.450000              4.511098\n",
       "12416         38     4.460526              4.458101\n",
       "2920          10     4.300000              4.450476"
      ]
     },
     "execution_count": 65,
     "metadata": {},
     "output_type": "execute_result"
    }
   ],
   "source": [
    "tmp = merged[(merged[\"explicit_rating\"] != -1) & (merged[\"time_weight\"] != 0)]\n",
    "wm = lambda x: np.average(x, weights=merged.loc[x.index, \"time_weight\"])\n",
    "\n",
    "tmp = (\n",
    "    tmp.groupby(\"series_id\")\n",
    "    .agg(\n",
    "        count=(\"explicit_rating\", \"count\"),\n",
    "        mean_rating=(\"explicit_rating\", \"mean\"),\n",
    "        weighted_mean_rating=(\"explicit_rating\", wm),\n",
    "    )\n",
    "    .sort_values(\"weighted_mean_rating\", ascending=False)\n",
    ")\n",
    "tmp[tmp[\"count\"] >= 10][:10]"
   ]
  },
  {
   "cell_type": "markdown",
   "id": "1dec93ad",
   "metadata": {},
   "source": [
    "### Based on purchases"
   ]
  },
  {
   "cell_type": "code",
   "execution_count": 66,
   "id": "5f82cf4b",
   "metadata": {
    "ExecuteTime": {
     "end_time": "2023-06-12T20:08:03.934735Z",
     "start_time": "2023-06-12T20:08:03.658651Z"
    }
   },
   "outputs": [
    {
     "data": {
      "text/html": [
       "<div>\n",
       "<style scoped>\n",
       "    .dataframe tbody tr th:only-of-type {\n",
       "        vertical-align: middle;\n",
       "    }\n",
       "\n",
       "    .dataframe tbody tr th {\n",
       "        vertical-align: top;\n",
       "    }\n",
       "\n",
       "    .dataframe thead th {\n",
       "        text-align: right;\n",
       "    }\n",
       "</style>\n",
       "<table border=\"1\" class=\"dataframe\">\n",
       "  <thead>\n",
       "    <tr style=\"text-align: right;\">\n",
       "      <th></th>\n",
       "      <th>count</th>\n",
       "    </tr>\n",
       "    <tr>\n",
       "      <th>series_id</th>\n",
       "      <th></th>\n",
       "    </tr>\n",
       "  </thead>\n",
       "  <tbody>\n",
       "    <tr>\n",
       "      <th>23451</th>\n",
       "      <td>21243</td>\n",
       "    </tr>\n",
       "    <tr>\n",
       "      <th>19911</th>\n",
       "      <td>20974</td>\n",
       "    </tr>\n",
       "    <tr>\n",
       "      <th>16187</th>\n",
       "      <td>18844</td>\n",
       "    </tr>\n",
       "    <tr>\n",
       "      <th>9396</th>\n",
       "      <td>17828</td>\n",
       "    </tr>\n",
       "    <tr>\n",
       "      <th>15641</th>\n",
       "      <td>17281</td>\n",
       "    </tr>\n",
       "    <tr>\n",
       "      <th>25786</th>\n",
       "      <td>16980</td>\n",
       "    </tr>\n",
       "    <tr>\n",
       "      <th>15524</th>\n",
       "      <td>15095</td>\n",
       "    </tr>\n",
       "    <tr>\n",
       "      <th>18398</th>\n",
       "      <td>14972</td>\n",
       "    </tr>\n",
       "    <tr>\n",
       "      <th>14716</th>\n",
       "      <td>14728</td>\n",
       "    </tr>\n",
       "    <tr>\n",
       "      <th>24820</th>\n",
       "      <td>14549</td>\n",
       "    </tr>\n",
       "  </tbody>\n",
       "</table>\n",
       "</div>"
      ],
      "text/plain": [
       "           count\n",
       "series_id       \n",
       "23451      21243\n",
       "19911      20974\n",
       "16187      18844\n",
       "9396       17828\n",
       "15641      17281\n",
       "25786      16980\n",
       "15524      15095\n",
       "18398      14972\n",
       "14716      14728\n",
       "24820      14549"
      ]
     },
     "execution_count": 66,
     "metadata": {},
     "output_type": "execute_result"
    }
   ],
   "source": [
    "tmp = merged[(merged[\"interaction_type\"] != \"purchases\")]\n",
    "\n",
    "tmp.groupby(\"series_id\").agg(count=(\"series_id\", \"count\")).sort_values(\n",
    "    \"count\", ascending=False\n",
    ")[:10]"
   ]
  },
  {
   "cell_type": "markdown",
   "id": "e0a15fc5",
   "metadata": {},
   "source": [
    "### Based on signal"
   ]
  },
  {
   "cell_type": "markdown",
   "id": "13a20d99",
   "metadata": {},
   "source": [
    "#### sum of positive signals"
   ]
  },
  {
   "cell_type": "code",
   "execution_count": 67,
   "id": "95f205cf",
   "metadata": {
    "ExecuteTime": {
     "end_time": "2023-06-12T20:09:10.071704Z",
     "start_time": "2023-06-12T20:09:10.014794Z"
    }
   },
   "outputs": [
    {
     "data": {
      "text/html": [
       "<div>\n",
       "<style scoped>\n",
       "    .dataframe tbody tr th:only-of-type {\n",
       "        vertical-align: middle;\n",
       "    }\n",
       "\n",
       "    .dataframe tbody tr th {\n",
       "        vertical-align: top;\n",
       "    }\n",
       "\n",
       "    .dataframe thead th {\n",
       "        text-align: right;\n",
       "    }\n",
       "</style>\n",
       "<table border=\"1\" class=\"dataframe\">\n",
       "  <thead>\n",
       "    <tr style=\"text-align: right;\">\n",
       "      <th></th>\n",
       "      <th>n_interactions</th>\n",
       "    </tr>\n",
       "    <tr>\n",
       "      <th>series_id</th>\n",
       "      <th></th>\n",
       "    </tr>\n",
       "  </thead>\n",
       "  <tbody>\n",
       "    <tr>\n",
       "      <th>15641</th>\n",
       "      <td>15632</td>\n",
       "    </tr>\n",
       "    <tr>\n",
       "      <th>9026</th>\n",
       "      <td>11564</td>\n",
       "    </tr>\n",
       "    <tr>\n",
       "      <th>5101</th>\n",
       "      <td>10783</td>\n",
       "    </tr>\n",
       "    <tr>\n",
       "      <th>466</th>\n",
       "      <td>8012</td>\n",
       "    </tr>\n",
       "    <tr>\n",
       "      <th>20721</th>\n",
       "      <td>7859</td>\n",
       "    </tr>\n",
       "    <tr>\n",
       "      <th>16966</th>\n",
       "      <td>7762</td>\n",
       "    </tr>\n",
       "    <tr>\n",
       "      <th>22607</th>\n",
       "      <td>7188</td>\n",
       "    </tr>\n",
       "    <tr>\n",
       "      <th>18398</th>\n",
       "      <td>7179</td>\n",
       "    </tr>\n",
       "    <tr>\n",
       "      <th>23451</th>\n",
       "      <td>6715</td>\n",
       "    </tr>\n",
       "    <tr>\n",
       "      <th>23080</th>\n",
       "      <td>6564</td>\n",
       "    </tr>\n",
       "  </tbody>\n",
       "</table>\n",
       "</div>"
      ],
      "text/plain": [
       "           n_interactions\n",
       "series_id                \n",
       "15641               15632\n",
       "9026                11564\n",
       "5101                10783\n",
       "466                  8012\n",
       "20721                7859\n",
       "16966                7762\n",
       "22607                7188\n",
       "18398                7179\n",
       "23451                6715\n",
       "23080                6564"
      ]
     },
     "execution_count": 67,
     "metadata": {},
     "output_type": "execute_result"
    }
   ],
   "source": [
    "tmp = (\n",
    "    merged.groupby(\"series_id\")\n",
    "    .agg(n_interactions=(\"signal\", \"sum\"))\n",
    "    .sort_values(\"n_interactions\", ascending=False)\n",
    ")\n",
    "tmp[:10]"
   ]
  },
  {
   "cell_type": "markdown",
   "id": "fc969bda",
   "metadata": {},
   "source": [
    "#### ctr"
   ]
  },
  {
   "cell_type": "markdown",
   "id": "076941a9",
   "metadata": {},
   "source": [
    "Sorted by weighted_ctr"
   ]
  },
  {
   "cell_type": "code",
   "execution_count": 68,
   "id": "ebc45426",
   "metadata": {
    "ExecuteTime": {
     "end_time": "2023-06-12T20:09:27.415007Z",
     "start_time": "2023-06-12T20:09:23.388623Z"
    },
    "scrolled": false
   },
   "outputs": [
    {
     "data": {
      "text/html": [
       "<div>\n",
       "<style scoped>\n",
       "    .dataframe tbody tr th:only-of-type {\n",
       "        vertical-align: middle;\n",
       "    }\n",
       "\n",
       "    .dataframe tbody tr th {\n",
       "        vertical-align: top;\n",
       "    }\n",
       "\n",
       "    .dataframe thead th {\n",
       "        text-align: right;\n",
       "    }\n",
       "</style>\n",
       "<table border=\"1\" class=\"dataframe\">\n",
       "  <thead>\n",
       "    <tr style=\"text-align: right;\">\n",
       "      <th></th>\n",
       "      <th>n_actions</th>\n",
       "      <th>ctr</th>\n",
       "      <th>weighted_ctr</th>\n",
       "    </tr>\n",
       "    <tr>\n",
       "      <th>series_id</th>\n",
       "      <th></th>\n",
       "      <th></th>\n",
       "      <th></th>\n",
       "    </tr>\n",
       "  </thead>\n",
       "  <tbody>\n",
       "    <tr>\n",
       "      <th>1</th>\n",
       "      <td>3</td>\n",
       "      <td>1.0</td>\n",
       "      <td>1.0</td>\n",
       "    </tr>\n",
       "    <tr>\n",
       "      <th>17449</th>\n",
       "      <td>6</td>\n",
       "      <td>1.0</td>\n",
       "      <td>1.0</td>\n",
       "    </tr>\n",
       "    <tr>\n",
       "      <th>17422</th>\n",
       "      <td>2</td>\n",
       "      <td>1.0</td>\n",
       "      <td>1.0</td>\n",
       "    </tr>\n",
       "    <tr>\n",
       "      <th>17426</th>\n",
       "      <td>8</td>\n",
       "      <td>1.0</td>\n",
       "      <td>1.0</td>\n",
       "    </tr>\n",
       "    <tr>\n",
       "      <th>17429</th>\n",
       "      <td>2</td>\n",
       "      <td>1.0</td>\n",
       "      <td>1.0</td>\n",
       "    </tr>\n",
       "    <tr>\n",
       "      <th>17432</th>\n",
       "      <td>4</td>\n",
       "      <td>1.0</td>\n",
       "      <td>1.0</td>\n",
       "    </tr>\n",
       "    <tr>\n",
       "      <th>17433</th>\n",
       "      <td>80</td>\n",
       "      <td>1.0</td>\n",
       "      <td>1.0</td>\n",
       "    </tr>\n",
       "    <tr>\n",
       "      <th>17443</th>\n",
       "      <td>10</td>\n",
       "      <td>1.0</td>\n",
       "      <td>1.0</td>\n",
       "    </tr>\n",
       "    <tr>\n",
       "      <th>17444</th>\n",
       "      <td>4</td>\n",
       "      <td>1.0</td>\n",
       "      <td>1.0</td>\n",
       "    </tr>\n",
       "    <tr>\n",
       "      <th>17445</th>\n",
       "      <td>6</td>\n",
       "      <td>1.0</td>\n",
       "      <td>1.0</td>\n",
       "    </tr>\n",
       "  </tbody>\n",
       "</table>\n",
       "</div>"
      ],
      "text/plain": [
       "           n_actions  ctr  weighted_ctr\n",
       "series_id                              \n",
       "1                  3  1.0           1.0\n",
       "17449              6  1.0           1.0\n",
       "17422              2  1.0           1.0\n",
       "17426              8  1.0           1.0\n",
       "17429              2  1.0           1.0\n",
       "17432              4  1.0           1.0\n",
       "17433             80  1.0           1.0\n",
       "17443             10  1.0           1.0\n",
       "17444              4  1.0           1.0\n",
       "17445              6  1.0           1.0"
      ]
     },
     "execution_count": 68,
     "metadata": {},
     "output_type": "execute_result"
    }
   ],
   "source": [
    "wm = lambda x: np.average(x, weights=merged.loc[x.index, \"final_signal_weight\"])\n",
    "\n",
    "tmp = (\n",
    "    merged.groupby(\"series_id\")\n",
    "    .agg(\n",
    "        n_actions=(\"signal\", \"count\"),\n",
    "        ctr=(\"signal\", \"mean\"),\n",
    "        weighted_ctr=(\"signal\", wm),\n",
    "    )\n",
    "    .sort_values(\"weighted_ctr\", ascending=False)\n",
    ")\n",
    "\n",
    "tmp[:10]"
   ]
  },
  {
   "cell_type": "markdown",
   "id": "c49b406d",
   "metadata": {},
   "source": [
    "Same as above but computed on items with at least 1 impression:"
   ]
  },
  {
   "cell_type": "code",
   "execution_count": null,
   "id": "2fddfcda",
   "metadata": {
    "ExecuteTime": {
     "end_time": "2023-06-12T20:09:31.586568Z",
     "start_time": "2023-06-12T20:09:27.416613Z"
    }
   },
   "outputs": [],
   "source": [
    "wm = lambda x: np.average(x, weights=merged.loc[x.index, \"final_signal_weight\"])\n",
    "\n",
    "tmp = merged.groupby(\"series_id\").agg(\n",
    "    n_actions=(\"signal\", \"count\"), ctr=(\"signal\", \"mean\"), weighted_ctr=(\"signal\", wm)\n",
    ")\n",
    "tmp = tmp[tmp[\"ctr\"] != 1.0].sort_values(\"weighted_ctr\", ascending=False)\n",
    "tmp[:10]"
   ]
  },
  {
   "cell_type": "code",
   "execution_count": null,
   "id": "f2dd4444",
   "metadata": {},
   "outputs": [],
   "source": []
  },
  {
   "cell_type": "code",
   "execution_count": null,
   "id": "7ea6d2f5",
   "metadata": {},
   "outputs": [],
   "source": []
  }
 ],
 "metadata": {
  "kernelspec": {
   "display_name": "ds-template",
   "language": "python",
   "name": "python3"
  },
  "language_info": {
   "codemirror_mode": {
    "name": "ipython",
    "version": 3
   },
   "file_extension": ".py",
   "mimetype": "text/x-python",
   "name": "python",
   "nbconvert_exporter": "python",
   "pygments_lexer": "ipython3",
   "version": "3.10.13"
  },
  "toc": {
   "base_numbering": 1,
   "nav_menu": {},
   "number_sections": true,
   "sideBar": true,
   "skip_h1_title": false,
   "title_cell": "Table of Contents",
   "title_sidebar": "Contents",
   "toc_cell": false,
   "toc_position": {
    "height": "calc(100% - 180px)",
    "left": "10px",
    "top": "150px",
    "width": "369.594px"
   },
   "toc_section_display": true,
   "toc_window_display": true
  }
 },
 "nbformat": 4,
 "nbformat_minor": 5
}
