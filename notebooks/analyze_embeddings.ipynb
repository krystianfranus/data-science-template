{
 "cells": [
  {
   "cell_type": "code",
   "execution_count": null,
   "id": "ba498ed9",
   "metadata": {
    "ExecuteTime": {
     "end_time": "2023-04-25T19:09:16.938345Z",
     "start_time": "2023-04-25T19:09:16.930739Z"
    }
   },
   "outputs": [],
   "source": [
    "import matplotlib.pyplot as plt\n",
    "import torch\n",
    "from mypackage.training.models.task import SimpleMLPTask\n",
    "from sklearn.decomposition import PCA\n",
    "from sklearn.manifold import TSNE"
   ]
  },
  {
   "cell_type": "code",
   "execution_count": null,
   "id": "4fb3a61d",
   "metadata": {
    "ExecuteTime": {
     "end_time": "2023-04-25T19:09:17.537074Z",
     "start_time": "2023-04-25T19:09:17.529161Z"
    }
   },
   "outputs": [],
   "source": [
    "ckpt_path = \"/project/lightning_logs/version_0/checkpoints/best_model.ckpt\"\n",
    "model = SimpleMLPTask.load_from_checkpoint(ckpt_path)\n",
    "\n",
    "users_emb = model.net.embed_user.weight.data.numpy()\n",
    "items_emb = model.net.embed_item.weight.data.numpy()\n",
    "\n",
    "users_emb.shape, items_emb.shape"
   ]
  },
  {
   "attachments": {},
   "cell_type": "markdown",
   "id": "df91d5bd",
   "metadata": {},
   "source": [
    "# TSNE"
   ]
  },
  {
   "cell_type": "code",
   "execution_count": null,
   "id": "1bb122e5",
   "metadata": {},
   "outputs": [],
   "source": [
    "users_emb_tsne = TSNE(2).fit_transform(users_emb)\n",
    "items_emb_tsne = TSNE(2).fit_transform(items_emb)"
   ]
  },
  {
   "cell_type": "code",
   "execution_count": null,
   "id": "12241e10",
   "metadata": {},
   "outputs": [],
   "source": [
    "plt.figure(figsize=(6, 4))\n",
    "plt.scatter(users_emb_tsne[:, 0], users_emb_tsne[:, 1], alpha=0.1)\n",
    "plt.show()"
   ]
  },
  {
   "cell_type": "code",
   "execution_count": null,
   "id": "2d6aa69b",
   "metadata": {},
   "outputs": [],
   "source": [
    "plt.figure(figsize=(6, 4))\n",
    "plt.scatter(items_emb_tsne[:, 0], items_emb_tsne[:, 1], alpha=0.1)\n",
    "plt.show()"
   ]
  },
  {
   "cell_type": "markdown",
   "id": "b741305a",
   "metadata": {},
   "source": [
    "# PCA"
   ]
  },
  {
   "cell_type": "code",
   "execution_count": null,
   "id": "f850bb04",
   "metadata": {},
   "outputs": [],
   "source": [
    "pca = PCA(n_components=2)\n",
    "pca.fit(users_emb)\n",
    "users_emb_pca = pca.transform(users_emb)\n",
    "\n",
    "pca.explained_variance_ratio_"
   ]
  },
  {
   "cell_type": "code",
   "execution_count": null,
   "id": "a5fce59f",
   "metadata": {},
   "outputs": [],
   "source": [
    "pca = PCA(n_components=2)\n",
    "pca.fit(items_emb)\n",
    "items_emb_pca = pca.transform(items_emb)\n",
    "\n",
    "pca.explained_variance_ratio_"
   ]
  },
  {
   "cell_type": "code",
   "execution_count": null,
   "id": "c2d29695",
   "metadata": {},
   "outputs": [],
   "source": [
    "plt.figure(figsize=(6, 4))\n",
    "plt.scatter(users_emb_pca[:, 0], users_emb_pca[:, 1], alpha=0.1)\n",
    "plt.show()"
   ]
  },
  {
   "cell_type": "code",
   "execution_count": null,
   "id": "ac27525f",
   "metadata": {},
   "outputs": [],
   "source": [
    "plt.figure(figsize=(6, 4))\n",
    "plt.scatter(items_emb_pca[:, 0], items_emb_pca[:, 1], alpha=0.1)\n",
    "plt.show()"
   ]
  },
  {
   "cell_type": "code",
   "execution_count": null,
   "id": "9bdfc481",
   "metadata": {},
   "outputs": [],
   "source": []
  }
 ],
 "metadata": {
  "kernelspec": {
   "display_name": "Python 3 (ipykernel)",
   "language": "python",
   "name": "python3"
  },
  "language_info": {
   "codemirror_mode": {
    "name": "ipython",
    "version": 3
   },
   "file_extension": ".py",
   "mimetype": "text/x-python",
   "name": "python",
   "nbconvert_exporter": "python",
   "pygments_lexer": "ipython3",
   "version": "3.10.11"
  },
  "toc": {
   "base_numbering": 1,
   "nav_menu": {},
   "number_sections": true,
   "sideBar": true,
   "skip_h1_title": false,
   "title_cell": "Table of Contents",
   "title_sidebar": "Contents",
   "toc_cell": false,
   "toc_position": {
    "height": "calc(100% - 180px)",
    "left": "10px",
    "top": "150px",
    "width": "369.594px"
   },
   "toc_section_display": true,
   "toc_window_display": true
  }
 },
 "nbformat": 4,
 "nbformat_minor": 5
}
