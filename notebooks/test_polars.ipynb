{
 "cells": [
  {
   "cell_type": "code",
   "execution_count": null,
   "id": "3cda5fce",
   "metadata": {
    "ExecuteTime": {
     "end_time": "2023-03-20T16:00:42.916320Z",
     "start_time": "2023-03-20T16:00:42.549887Z"
    }
   },
   "outputs": [],
   "source": [
    "import polars as pl\n",
    "import pandas as pd\n",
    "import datetime as dt\n",
    "\n",
    "# pl.Config.set_verbose()\n",
    "# %env POLARS_MAX_THREADS=8"
   ]
  },
  {
   "cell_type": "markdown",
   "id": "3d4dec90",
   "metadata": {},
   "source": [
    "# Eager"
   ]
  },
  {
   "cell_type": "code",
   "execution_count": null,
   "id": "d57416ba",
   "metadata": {
    "ExecuteTime": {
     "end_time": "2023-03-20T16:01:17.393304Z",
     "start_time": "2023-03-20T16:01:15.957851Z"
    }
   },
   "outputs": [],
   "source": [
    "interactions_path = \"../data/contentwise/data/contentwise/CW10M/interactions/*.parquet\"\n",
    "impressions_dl_path = \"../data/contentwise/data/contentwise/CW10M/impressions-direct-link/*.parquet\"\n",
    "\n",
    "interactions = pl.read_parquet(interactions_path)\n",
    "impressions_dl = pl.read_parquet(impressions_dl_path)\n",
    "\n",
    "# Select 'clicks' only from all interactions\n",
    "interactions = interactions.filter(pl.col(\"interaction_type\") == 0)\n",
    "\n",
    "impressions_dl = impressions_dl.explode(\"recommended_series_list\")\n",
    "\n",
    "# Join indirectly positive actions with negative (impressions)\n",
    "interactions = interactions.join(impressions_dl, on=\"recommendation_id\", how=\"inner\")\n",
    "\n",
    "# Mark positive interactions with 1 and negative with 0\n",
    "interactions = interactions.with_column(\n",
    "    pl.when(pl.col(\"series_id\") == pl.col(\"recommended_series_list\"))\n",
    "    .then(1)\n",
    "    .otherwise(0)\n",
    "    .alias(\"target\")\n",
    ")\n",
    "interactions = interactions.rename(\n",
    "    {\n",
    "        \"user_id\": \"user\",\n",
    "        \"recommended_series_list\": \"item\",\n",
    "        \"utc_ts_milliseconds\": \"timestamp\",\n",
    "    }\n",
    ")\n",
    "interactions = interactions.with_column(\n",
    "    pl.col(\"timestamp\").cast(pl.Datetime).dt.with_time_unit(\"ms\")\n",
    ")\n",
    "\n",
    "# Handle (user, item) duplicates\n",
    "interactions = interactions.groupby([\"user\", \"item\"]).agg(\n",
    "    [pl.sum(\"target\"), pl.max(\"timestamp\")]\n",
    ")\n",
    "interactions = interactions.with_column(\n",
    "    pl.when(pl.col(\"target\") > 0).then(1).otherwise(0).alias(\"target\")\n",
    ")\n",
    "\n",
    "interactions = interactions.sort(\"timestamp\")\n",
    "\n",
    "# Split data\n",
    "train_data = interactions.filter(pl.col(\"timestamp\") < dt.date(2019, 4, 14))\n",
    "val_data = interactions.filter(pl.col(\"timestamp\") >= dt.date(2019, 4, 14))\n",
    "\n",
    "# Prepare user/item to idx mappers based on train data\n",
    "train_user_to_idx = train_data.select(\n",
    "    [\n",
    "        pl.col(\"user\").unique(),\n",
    "        pl.col(\"user\").unique().rank().cast(pl.Int64).alias(\"user_idx\") - 1,\n",
    "    ]\n",
    ")\n",
    "train_item_to_idx = train_data.select(\n",
    "    [\n",
    "        pl.col(\"item\").unique(),\n",
    "        pl.col(\"item\").unique().rank().cast(pl.Int64).alias(\"item_idx\") - 1,\n",
    "    ]\n",
    ")\n",
    "\n",
    "# Map user/item to idx\n",
    "train_data = train_data.join(train_user_to_idx, on=\"user\", how=\"inner\")\n",
    "train_data = train_data.join(train_item_to_idx, on=\"item\", how=\"inner\")\n",
    "val_data = val_data.join(train_user_to_idx, on=\"user\", how=\"inner\")\n",
    "val_data = val_data.join(train_item_to_idx, on=\"item\", how=\"inner\")\n",
    "\n",
    "# Select valid columns\n",
    "train_data = train_data.select(\n",
    "    [\n",
    "        pl.col(\"user_idx\").alias(\"user\"),\n",
    "        pl.col(\"item_idx\").alias(\"item\"),\n",
    "        \"target\",\n",
    "        \"timestamp\",\n",
    "    ]\n",
    ")\n",
    "val_data = val_data.select(\n",
    "    [\n",
    "        pl.col(\"user_idx\").alias(\"user\"),\n",
    "        pl.col(\"item_idx\").alias(\"item\"),\n",
    "        \"target\",\n",
    "        \"timestamp\",\n",
    "    ]\n",
    ")\n",
    "test_data = val_data  # test set == validation set (to change in the future!)"
   ]
  },
  {
   "cell_type": "code",
   "execution_count": null,
   "id": "88bbcf8a",
   "metadata": {
    "ExecuteTime": {
     "end_time": "2023-03-20T16:01:17.398222Z",
     "start_time": "2023-03-20T16:01:17.394869Z"
    }
   },
   "outputs": [],
   "source": [
    "train_data.shape, val_data.shape, test_data.shape"
   ]
  },
  {
   "cell_type": "code",
   "execution_count": null,
   "id": "59109752",
   "metadata": {
    "ExecuteTime": {
     "end_time": "2023-03-20T16:01:17.414039Z",
     "start_time": "2023-03-20T16:01:17.400019Z"
    }
   },
   "outputs": [],
   "source": [
    "train_user_to_idx.shape, train_item_to_idx.shape"
   ]
  },
  {
   "cell_type": "code",
   "execution_count": null,
   "id": "8873eda3",
   "metadata": {
    "ExecuteTime": {
     "end_time": "2023-03-20T16:01:17.421399Z",
     "start_time": "2023-03-20T16:01:17.416543Z"
    }
   },
   "outputs": [],
   "source": [
    "train_data.head(), val_data.head(), test_data.head()"
   ]
  },
  {
   "cell_type": "code",
   "execution_count": null,
   "id": "cf7215e4",
   "metadata": {
    "ExecuteTime": {
     "end_time": "2023-03-20T14:17:31.491245Z",
     "start_time": "2023-03-20T14:17:31.488162Z"
    }
   },
   "outputs": [],
   "source": [
    "id(train_data), id(val_data), id(test_data)"
   ]
  },
  {
   "cell_type": "code",
   "execution_count": null,
   "id": "1d40869a",
   "metadata": {},
   "outputs": [],
   "source": []
  },
  {
   "cell_type": "markdown",
   "id": "14fe5152",
   "metadata": {},
   "source": [
    "## bpr"
   ]
  },
  {
   "cell_type": "code",
   "execution_count": null,
   "id": "c1b96965",
   "metadata": {
    "ExecuteTime": {
     "end_time": "2022-12-19T14:45:41.315343Z",
     "start_time": "2022-12-19T14:45:38.390083Z"
    }
   },
   "outputs": [],
   "source": [
    "interactions_path = \"../data/contentwise/data/contentwise/CW10M/interactions/*.parquet\"\n",
    "impressions_dl_path = \"../data/contentwise/data/contentwise/CW10M/impressions-direct-link/*.parquet\"\n",
    "\n",
    "interactions = pl.read_parquet(interactions_path)\n",
    "impressions_dl = pl.read_parquet(impressions_dl_path)\n",
    "\n",
    "# Select 'clicks' only from all interactions\n",
    "interactions = interactions.filter(pl.col(\"interaction_type\") == 0)\n",
    "impressions_dl = impressions_dl.explode(\"recommended_series_list\")\n",
    "\n",
    "# Join indirectly positive actions with negative (impressions)\n",
    "interactions = interactions.join(impressions_dl, on=\"recommendation_id\", how=\"inner\")\n",
    "\n",
    "# Mark positive interactions with 1 and negative with 0\n",
    "interactions = interactions.with_column(\n",
    "    pl.when(pl.col(\"series_id\") == pl.col(\"recommended_series_list\"))\n",
    "    .then(1)\n",
    "    .otherwise(0)\n",
    "    .alias(\"target\")\n",
    ")\n",
    "interactions = interactions.rename(\n",
    "    {\n",
    "        \"user_id\": \"user\",\n",
    "        \"recommended_series_list\": \"item\",\n",
    "        \"utc_ts_milliseconds\": \"timestamp\",\n",
    "    }\n",
    ")\n",
    "interactions = interactions.with_column(\n",
    "    pl.col(\"timestamp\").cast(pl.Datetime).dt.with_time_unit(\"ms\")\n",
    ")\n",
    "# Handle (user, item) duplicates\n",
    "interactions = interactions.groupby([\"user\", \"item\"]).agg(\n",
    "    [pl.sum(\"target\"), pl.max(\"timestamp\")]\n",
    ")\n",
    "interactions = interactions.with_column(\n",
    "    pl.when(pl.col(\"target\") > 0).then(1).otherwise(0).alias(\"target\")\n",
    ")\n",
    "interactions = interactions.sort(\"timestamp\")\n",
    "\n",
    "# Split data\n",
    "train_data = interactions.filter(pl.col(\"timestamp\") < dt.date(2019, 4, 14))\n",
    "val_data = interactions.filter(pl.col(\"timestamp\") >= dt.date(2019, 4, 14))\n",
    "\n",
    "# Transform train data to be BPR specific\n",
    "train_data_neg = train_data.filter(pl.col(\"target\") == 0)\n",
    "train_data_pos = train_data.filter(pl.col(\"target\") == 1)\n",
    "train_data = train_data_neg.join(train_data_pos, on=\"user\", how=\"inner\")\n",
    "\n",
    "# Prepare user/item to idx mappers\n",
    "train_user_to_idx = train_data.select(\n",
    "    [\n",
    "        pl.col(\"user\").unique(),\n",
    "        pl.col(\"user\").unique().rank().cast(pl.Int64).alias(\"user_idx\") - 1,\n",
    "    ]\n",
    ")\n",
    "train_item_to_idx = train_data.select(\n",
    "    [\n",
    "        pl.concat((pl.col(\"item\"), pl.col(\"item_right\"))).unique(),\n",
    "        pl.concat((pl.col(\"item\"), pl.col(\"item_right\"))).unique().rank().cast(pl.Int64).alias(\"item_idx\") - 1,\n",
    "    ]\n",
    ")\n",
    "\n",
    "train_data = train_data.join(train_user_to_idx, on=\"user\", how=\"inner\")\n",
    "train_data = train_data.join(train_item_to_idx, on=\"item\", how=\"inner\")\n",
    "train_data = train_data.join(train_item_to_idx, left_on=\"item_right\", right_on=\"item\", how=\"inner\")\n",
    "val_data = val_data.join(train_user_to_idx, on=\"user\", how=\"inner\")\n",
    "val_data = val_data.join(train_item_to_idx, on=\"item\", how=\"inner\")\n",
    "\n",
    "# Select valid columns\n",
    "train_data = train_data.select(\n",
    "    [\n",
    "        pl.col(\"user_idx\").alias(\"user\"),\n",
    "        pl.col(\"item_idx\").alias(\"item_neg\"),\n",
    "        pl.col(\"item_idx_right\").alias(\"item_pos\"),\n",
    "    ]\n",
    ")\n",
    "val_data = val_data.select(\n",
    "    [\n",
    "        pl.col(\"user_idx\").alias(\"user\"),\n",
    "        pl.col(\"item_idx\").alias(\"item\"),\n",
    "        \"target\",\n",
    "    ]\n",
    ")\n",
    "test_data = val_data  # test set == validation set (to change in the future!)"
   ]
  },
  {
   "cell_type": "code",
   "execution_count": null,
   "id": "8162e1cc",
   "metadata": {
    "ExecuteTime": {
     "end_time": "2022-12-19T14:45:42.075896Z",
     "start_time": "2022-12-19T14:45:42.067162Z"
    }
   },
   "outputs": [],
   "source": [
    "train_data.shape, val_data.shape, test_data.shape"
   ]
  },
  {
   "cell_type": "code",
   "execution_count": null,
   "id": "d665b21e",
   "metadata": {
    "ExecuteTime": {
     "end_time": "2022-12-19T14:45:43.105319Z",
     "start_time": "2022-12-19T14:45:43.101869Z"
    }
   },
   "outputs": [],
   "source": [
    "train_user_to_idx.shape, train_item_to_idx.shape"
   ]
  },
  {
   "cell_type": "code",
   "execution_count": null,
   "id": "e60dc49e",
   "metadata": {
    "ExecuteTime": {
     "end_time": "2022-12-19T14:45:44.258008Z",
     "start_time": "2022-12-19T14:45:44.252819Z"
    }
   },
   "outputs": [],
   "source": [
    "train_data.head(), val_data.head(), test_data.head()"
   ]
  },
  {
   "cell_type": "markdown",
   "id": "9b4c1141",
   "metadata": {},
   "source": [
    "# Lazy"
   ]
  },
  {
   "cell_type": "code",
   "execution_count": null,
   "id": "f8567c53",
   "metadata": {
    "ExecuteTime": {
     "end_time": "2022-12-19T14:41:20.130391Z",
     "start_time": "2022-12-19T14:41:20.112309Z"
    }
   },
   "outputs": [],
   "source": [
    "interactions_path = \"../data/contentwise/data/contentwise/CW10M/interactions/*.parquet\"\n",
    "impressions_dl_path = \"../data/contentwise/data/contentwise/CW10M/impressions-direct-link/*.parquet\"\n",
    "\n",
    "interactions = pl.scan_parquet(interactions_path)\n",
    "impressions_dl = pl.scan_parquet(impressions_dl_path)\n",
    "\n",
    "# Select 'clicks' only from all interactions\n",
    "interactions = interactions.filter(pl.col(\"interaction_type\") == 0)\n",
    "\n",
    "impressions_dl = impressions_dl.explode(\"recommended_series_list\")\n",
    "\n",
    "# Join indirectly positive actions with negative (impressions)\n",
    "interactions = interactions.join(impressions_dl, on=\"recommendation_id\", how=\"inner\")\n",
    "\n",
    "# Mark positive interactions with 1 and negative with 0\n",
    "interactions = interactions.with_column(\n",
    "    pl.when(pl.col(\"series_id\") == pl.col(\"recommended_series_list\"))\n",
    "    .then(1)\n",
    "    .otherwise(0)\n",
    "    .alias(\"target\")\n",
    ")\n",
    "interactions = interactions.rename(\n",
    "    {\n",
    "        \"user_id\": \"user\",\n",
    "        \"recommended_series_list\": \"item\",\n",
    "        \"utc_ts_milliseconds\": \"timestamp\",\n",
    "    }\n",
    ")\n",
    "interactions = interactions.with_column(\n",
    "    pl.col(\"timestamp\").cast(pl.Datetime).dt.with_time_unit(\"ms\")\n",
    ")\n",
    "# Handle (user, item) duplicates\n",
    "interactions = interactions.groupby([\"user\", \"item\"]).agg(\n",
    "    [pl.sum(\"target\"), pl.max(\"timestamp\")]\n",
    ")\n",
    "interactions = interactions.with_column(\n",
    "    pl.when(pl.col(\"target\") > 0).then(1).otherwise(0).alias(\"target\")\n",
    ")\n",
    "interactions = interactions.sort(\"timestamp\")\n",
    "interactions = interactions.cache()\n",
    "\n",
    "# Split data\n",
    "train_data = interactions.filter(pl.col(\"timestamp\") < dt.date(2019, 4, 14))\n",
    "val_data = interactions.filter(pl.col(\"timestamp\") >= dt.date(2019, 4, 14))\n",
    "\n",
    "# Prepare user/item to idx mappers based on train data\n",
    "train_user_to_idx = train_data.select(\n",
    "    [\n",
    "        pl.col(\"user\").unique(),\n",
    "        pl.col(\"user\").unique().rank().cast(pl.Int64).alias(\"user_idx\") - 1,\n",
    "    ]\n",
    ")\n",
    "train_item_to_idx = train_data.select(\n",
    "    [\n",
    "        pl.col(\"item\").unique(),\n",
    "        pl.col(\"item\").unique().rank().cast(pl.Int64).alias(\"item_idx\") - 1,\n",
    "    ]\n",
    ")\n",
    "\n",
    "# Map user/item to idx\n",
    "train_data = train_data.join(train_user_to_idx, on=\"user\", how=\"inner\")\n",
    "train_data = train_data.join(train_item_to_idx, on=\"item\", how=\"inner\")\n",
    "val_data = val_data.join(train_user_to_idx, on=\"user\", how=\"inner\")\n",
    "val_data = val_data.join(train_item_to_idx, on=\"item\", how=\"inner\")\n",
    "\n",
    "# Select valid columns\n",
    "train_data = train_data.select(\n",
    "    [\n",
    "        pl.col(\"user_idx\").alias(\"user\"),\n",
    "        pl.col(\"item_idx\").alias(\"item\"),\n",
    "        \"target\",\n",
    "    ]\n",
    ")\n",
    "val_data = val_data.select(\n",
    "    [\n",
    "        pl.col(\"user_idx\").alias(\"user\"),\n",
    "        pl.col(\"item_idx\").alias(\"item\"),\n",
    "        \"target\",\n",
    "    ]\n",
    ")\n",
    "test_data = val_data  # test set == validation set (to change in the future!)"
   ]
  },
  {
   "cell_type": "code",
   "execution_count": null,
   "id": "b96e0809",
   "metadata": {
    "ExecuteTime": {
     "end_time": "2022-12-19T14:41:24.156539Z",
     "start_time": "2022-12-19T14:41:20.348101Z"
    }
   },
   "outputs": [],
   "source": [
    "train_data.collect().head(), val_data.collect().head(), test_data.collect().head()\n",
    "\n",
    "# train_data.collect().write_parquet(\"train_data_implicit.parquet\")\n",
    "# val_data.collect().write_parquet(\"val_data_implicit.parquet\")\n",
    "# test_data.collect().write_parquet(\"test_data_implicit.parquet\")"
   ]
  },
  {
   "cell_type": "markdown",
   "id": "1887a4fd",
   "metadata": {},
   "source": [
    "## bpr"
   ]
  },
  {
   "cell_type": "code",
   "execution_count": null,
   "id": "ff1da4a9",
   "metadata": {
    "ExecuteTime": {
     "end_time": "2022-12-19T14:46:12.220962Z",
     "start_time": "2022-12-19T14:46:12.182579Z"
    }
   },
   "outputs": [],
   "source": [
    "interactions_path = \"../data/contentwise/data/contentwise/CW10M/interactions/*.parquet\"\n",
    "impressions_dl_path = \"../data/contentwise/data/contentwise/CW10M/impressions-direct-link/*.parquet\"\n",
    "\n",
    "interactions = pl.scan_parquet(interactions_path)\n",
    "impressions_dl = pl.scan_parquet(impressions_dl_path)\n",
    "\n",
    "# Select 'clicks' only from all interactions\n",
    "interactions = interactions.filter(pl.col(\"interaction_type\") == 0)\n",
    "impressions_dl = impressions_dl.explode(\"recommended_series_list\")\n",
    "\n",
    "# Join indirectly positive actions with negative (impressions)\n",
    "interactions = interactions.join(impressions_dl, on=\"recommendation_id\", how=\"inner\")\n",
    "\n",
    "# Mark positive interactions with 1 and negative with 0\n",
    "interactions = interactions.with_column(\n",
    "    pl.when(pl.col(\"series_id\") == pl.col(\"recommended_series_list\"))\n",
    "    .then(1)\n",
    "    .otherwise(0)\n",
    "    .alias(\"target\")\n",
    ")\n",
    "interactions = interactions.rename(\n",
    "    {\n",
    "        \"user_id\": \"user\",\n",
    "        \"recommended_series_list\": \"item\",\n",
    "        \"utc_ts_milliseconds\": \"timestamp\",\n",
    "    }\n",
    ")\n",
    "interactions = interactions.with_column(\n",
    "    pl.col(\"timestamp\").cast(pl.Datetime).dt.with_time_unit(\"ms\")\n",
    ")\n",
    "# Handle (user, item) duplicates\n",
    "interactions = interactions.groupby([\"user\", \"item\"]).agg(\n",
    "    [pl.sum(\"target\"), pl.max(\"timestamp\")]\n",
    ")\n",
    "interactions = interactions.with_column(\n",
    "    pl.when(pl.col(\"target\") > 0).then(1).otherwise(0).alias(\"target\")\n",
    ")\n",
    "interactions = interactions.sort(\"timestamp\")\n",
    "interactions = interactions.cache()\n",
    "\n",
    "# Split data\n",
    "train_data = interactions.filter(pl.col(\"timestamp\") < dt.date(2019, 4, 14))\n",
    "val_data = interactions.filter(pl.col(\"timestamp\") >= dt.date(2019, 4, 14))\n",
    "\n",
    "# Transform train data to be BPR specific\n",
    "train_data_neg = train_data.filter(pl.col(\"target\") == 0)\n",
    "train_data_pos = train_data.filter(pl.col(\"target\") == 1)\n",
    "train_data = train_data_neg.join(train_data_pos, on=\"user\", how=\"inner\")\n",
    "\n",
    "# Prepare user/item to idx mappers\n",
    "train_user_to_idx = train_data.select(\n",
    "    [\n",
    "        pl.col(\"user\").unique(),\n",
    "        pl.col(\"user\").unique().rank().cast(pl.Int64).alias(\"user_idx\") - 1,\n",
    "    ]\n",
    ")\n",
    "train_item_to_idx = train_data.select(\n",
    "    [\n",
    "        pl.concat((pl.col(\"item\"), pl.col(\"item_right\"))).unique(),\n",
    "        pl.concat((pl.col(\"item\"), pl.col(\"item_right\"))).unique().rank().cast(pl.Int64).alias(\"item_idx\") - 1,\n",
    "    ]\n",
    ")\n",
    "\n",
    "train_data = train_data.join(train_user_to_idx, on=\"user\", how=\"inner\")\n",
    "train_data = train_data.join(train_item_to_idx, on=\"item\", how=\"inner\")\n",
    "train_data = train_data.join(train_item_to_idx, left_on=\"item_right\", right_on=\"item\", how=\"inner\")\n",
    "val_data = val_data.join(train_user_to_idx, on=\"user\", how=\"inner\")\n",
    "val_data = val_data.join(train_item_to_idx, on=\"item\", how=\"inner\")\n",
    "\n",
    "# Select valid columns\n",
    "train_data = train_data.select(\n",
    "    [\n",
    "        pl.col(\"user_idx\").alias(\"user\"),\n",
    "        pl.col(\"item_idx\").alias(\"item_neg\"),\n",
    "        pl.col(\"item_idx_right\").alias(\"item_pos\"),\n",
    "    ]\n",
    ")\n",
    "val_data = val_data.select(\n",
    "    [\n",
    "        pl.col(\"user_idx\").alias(\"user\"),\n",
    "        pl.col(\"item_idx\").alias(\"item\"),\n",
    "        \"target\",\n",
    "    ]\n",
    ")\n",
    "test_data = val_data  # test set == validation set (to change in the future!)"
   ]
  },
  {
   "cell_type": "code",
   "execution_count": null,
   "id": "4125c5a0",
   "metadata": {
    "ExecuteTime": {
     "end_time": "2022-12-19T14:46:22.058794Z",
     "start_time": "2022-12-19T14:46:13.242052Z"
    }
   },
   "outputs": [],
   "source": [
    "train_data.collect().head(), val_data.collect().head(), test_data.collect().head()\n",
    "\n",
    "# train_data.collect().write_parquet(\"train_data_implicit_bpr.parquet\")\n",
    "# val_data.collect().write_parquet(\"val_data_implicit_bpr.parquet\")\n",
    "# test_data.collect().write_parquet(\"test_data_implicit_bpr.parquet\")"
   ]
  },
  {
   "cell_type": "markdown",
   "id": "9f5400ab",
   "metadata": {},
   "source": [
    "# Read saved parquets"
   ]
  },
  {
   "cell_type": "code",
   "execution_count": null,
   "id": "3b96a92e",
   "metadata": {
    "ExecuteTime": {
     "end_time": "2023-03-19T16:14:47.883809Z",
     "start_time": "2023-03-19T16:14:47.525950Z"
    }
   },
   "outputs": [],
   "source": [
    "train_data = pl.read_parquet(\"train_data_implicit.parquet\")\n",
    "pl.n_unique(train_data[\"user\"]), pl.n_unique(train_data[\"item\"])"
   ]
  },
  {
   "cell_type": "code",
   "execution_count": null,
   "id": "47ab5f4c",
   "metadata": {
    "ExecuteTime": {
     "end_time": "2022-12-19T13:08:35.307434Z",
     "start_time": "2022-12-19T13:08:35.100997Z"
    }
   },
   "outputs": [],
   "source": [
    "train_data_bpr = pl.read_parquet(\"train_data_implicit_bpr.parquet\")\n",
    "pl.n_unique(train_data_bpr[\"user\"])"
   ]
  }
 ],
 "metadata": {
  "kernelspec": {
   "display_name": "Python 3 (ipykernel)",
   "language": "python",
   "name": "python3"
  },
  "language_info": {
   "codemirror_mode": {
    "name": "ipython",
    "version": 3
   },
   "file_extension": ".py",
   "mimetype": "text/x-python",
   "name": "python",
   "nbconvert_exporter": "python",
   "pygments_lexer": "ipython3",
   "version": "3.10.4"
  },
  "toc": {
   "base_numbering": 1,
   "nav_menu": {},
   "number_sections": true,
   "sideBar": true,
   "skip_h1_title": false,
   "title_cell": "Table of Contents",
   "title_sidebar": "Contents",
   "toc_cell": false,
   "toc_position": {
    "height": "calc(100% - 180px)",
    "left": "10px",
    "top": "150px",
    "width": "332.594px"
   },
   "toc_section_display": true,
   "toc_window_display": true
  }
 },
 "nbformat": 4,
 "nbformat_minor": 5
}
