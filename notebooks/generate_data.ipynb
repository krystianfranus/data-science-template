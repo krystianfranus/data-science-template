{
 "cells": [
  {
   "cell_type": "code",
   "execution_count": 1,
   "id": "a3ea3f94",
   "metadata": {
    "ExecuteTime": {
     "end_time": "2022-06-15T21:48:27.114643Z",
     "start_time": "2022-06-15T21:48:26.460819Z"
    }
   },
   "outputs": [],
   "source": [
    "import numpy as np\n",
    "import pandas as pd\n",
    "import matplotlib.pyplot as plt"
   ]
  },
  {
   "cell_type": "code",
   "execution_count": 2,
   "id": "2ed1a9cf",
   "metadata": {
    "ExecuteTime": {
     "end_time": "2022-06-15T21:48:27.118426Z",
     "start_time": "2022-06-15T21:48:27.116179Z"
    }
   },
   "outputs": [],
   "source": [
    "np.random.seed(0)\n",
    "\n",
    "n = 50"
   ]
  },
  {
   "cell_type": "code",
   "execution_count": 3,
   "id": "6bd9f572",
   "metadata": {
    "ExecuteTime": {
     "end_time": "2022-06-15T21:48:27.253083Z",
     "start_time": "2022-06-15T21:48:27.122816Z"
    }
   },
   "outputs": [
    {
     "data": {
      "image/png": "[encoded data removed]",
      "text/plain": [
       "<Figure size 432x288 with 1 Axes>"
      ]
     },
     "metadata": {
      "needs_background": "light"
     },
     "output_type": "display_data"
    }
   ],
   "source": [
    "# Generate data for training\n",
    "x_train = np.random.uniform(-1, 1, size=n)\n",
    "err = np.random.normal(0, 0.2, n)\n",
    "\n",
    "a = 0.5\n",
    "b = 1\n",
    "y_train = a * x_train + b + err\n",
    "\n",
    "data = pd.DataFrame({\"x_train\": x_train, \"y_train\": y_train})\n",
    "data.to_csv(\"../data/train.csv\", index=False)\n",
    "\n",
    "# Plot training data\n",
    "plt.scatter(x_train, y_train)\n",
    "plt.show()"
   ]
  },
  {
   "cell_type": "code",
   "execution_count": 4,
   "id": "e9082dbe",
   "metadata": {
    "ExecuteTime": {
     "end_time": "2022-06-15T21:48:27.365058Z",
     "start_time": "2022-06-15T21:48:27.254529Z"
    }
   },
   "outputs": [
    {
     "data": {
      "image/png": "[encoded data removed]",
      "text/plain": [
       "<Figure size 432x288 with 1 Axes>"
      ]
     },
     "metadata": {
      "needs_background": "light"
     },
     "output_type": "display_data"
    }
   ],
   "source": [
    "# Generate data for testing\n",
    "x_test = np.random.uniform(-1, 1, size=n)\n",
    "err = np.random.normal(0, 0.2, n)\n",
    "\n",
    "a = 0.5\n",
    "b = 1\n",
    "y_test = a * x_test + b + err\n",
    "\n",
    "data = pd.DataFrame({\"x_test\": x_test, \"y_test\": y_test})\n",
    "data.to_csv(\"../data/test.csv\", index=False)\n",
    "\n",
    "# Plot training data\n",
    "plt.scatter(x_test, y_test)\n",
    "plt.show()"
   ]
  }
 ],
 "metadata": {
  "kernelspec": {
   "display_name": "Python 3 (ipykernel)",
   "language": "python",
   "name": "python3"
  },
  "language_info": {
   "codemirror_mode": {
    "name": "ipython",
    "version": 3
   },
   "file_extension": ".py",
   "mimetype": "text/x-python",
   "name": "python",
   "nbconvert_exporter": "python",
   "pygments_lexer": "ipython3",
   "version": "3.8.12"
  },
  "toc": {
   "base_numbering": 1,
   "nav_menu": {},
   "number_sections": true,
   "sideBar": true,
   "skip_h1_title": false,
   "title_cell": "Table of Contents",
   "title_sidebar": "Contents",
   "toc_cell": false,
   "toc_position": {},
   "toc_section_display": true,
   "toc_window_display": false
  },
  "varInspector": {
   "cols": {
    "lenName": 16,
    "lenType": 16,
    "lenVar": 40
   },
   "kernels_config": {
    "python": {
     "delete_cmd_postfix": "",
     "delete_cmd_prefix": "del ",
     "library": "var_list.py",
     "varRefreshCmd": "print(var_dic_list())"
    },
    "r": {
     "delete_cmd_postfix": ") ",
     "delete_cmd_prefix": "rm(",
     "library": "var_list.r",
     "varRefreshCmd": "cat(var_dic_list()) "
    }
   },
   "types_to_exclude": [
    "module",
    "function",
    "builtin_function_or_method",
    "instance",
    "_Feature"
   ],
   "window_display": false
  }
 },
 "nbformat": 4,
 "nbformat_minor": 5
}
